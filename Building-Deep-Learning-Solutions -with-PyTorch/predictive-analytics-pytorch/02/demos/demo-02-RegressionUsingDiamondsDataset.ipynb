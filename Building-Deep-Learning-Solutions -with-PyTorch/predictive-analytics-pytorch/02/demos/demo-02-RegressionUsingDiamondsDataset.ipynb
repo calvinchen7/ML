{
 "cells": [
  {
   "cell_type": "markdown",
   "metadata": {},
   "source": [
    "### Importing libraries"
   ]
  },
  {
   "cell_type": "code",
   "execution_count": 1,
   "metadata": {},
   "outputs": [
    {
     "name": "stderr",
     "output_type": "stream",
     "text": [
      "/Users/loonycorn/opt/anaconda3/lib/python3.7/site-packages/statsmodels/tools/_testing.py:19: FutureWarning: pandas.util.testing is deprecated. Use the functions in the public API at pandas.testing instead.\n",
      "  import pandas.util.testing as tm\n"
     ]
    }
   ],
   "source": [
    "import torch\n",
    "import torch.utils.data as data_utils\n",
    "\n",
    "import numpy as np\n",
    "import pandas as pd\n",
    "import matplotlib.pyplot as plt\n",
    "import seaborn as sns\n",
    "\n",
    "from sklearn.model_selection import train_test_split\n",
    "from sklearn.metrics import r2_score\n",
    "from sklearn.preprocessing import StandardScaler"
   ]
  },
  {
   "cell_type": "markdown",
   "metadata": {},
   "source": [
    "### Loading dataset"
   ]
  },
  {
   "cell_type": "markdown",
   "metadata": {},
   "source": [
    "#### Diamonds dataset\n",
    "Source: https://www.kaggle.com/shivam2503/diamonds   \n",
    "Datafields:\n",
    "\n",
    "* carat weight of the diamond (0.2--5.01)\n",
    "\n",
    "* cut quality of the cut (Fair, Good, Very Good, Premium, Ideal)\n",
    "\n",
    "* color diamond colour, from J (worst) to D (best)\n",
    "\n",
    "* clarity a measurement of how clear the diamond is (I1 (worst), SI2, SI1, VS2, VS1, VVS2, VVS1, IF (best))\n",
    "\n",
    "* depth total depth percentage = z / mean(x, y) = 2 * z / (x + y) (43--79)\n",
    "\n",
    "* table width of top of diamond relative to widest point\n",
    "\n",
    "* price price in US dollars\n",
    "\n",
    "* x length in mm (0--10.74)\n",
    "\n",
    "* y width in mm (0--58.9)\n",
    "\n",
    "* z depth in mm (0--31.8)"
   ]
  },
  {
   "cell_type": "code",
   "execution_count": 2,
   "metadata": {},
   "outputs": [
    {
     "data": {
      "text/html": [
       "<div>\n",
       "<style scoped>\n",
       "    .dataframe tbody tr th:only-of-type {\n",
       "        vertical-align: middle;\n",
       "    }\n",
       "\n",
       "    .dataframe tbody tr th {\n",
       "        vertical-align: top;\n",
       "    }\n",
       "\n",
       "    .dataframe thead th {\n",
       "        text-align: right;\n",
       "    }\n",
       "</style>\n",
       "<table border=\"1\" class=\"dataframe\">\n",
       "  <thead>\n",
       "    <tr style=\"text-align: right;\">\n",
       "      <th></th>\n",
       "      <th>carat</th>\n",
       "      <th>cut</th>\n",
       "      <th>color</th>\n",
       "      <th>clarity</th>\n",
       "      <th>depth</th>\n",
       "      <th>table</th>\n",
       "      <th>price</th>\n",
       "      <th>x</th>\n",
       "      <th>y</th>\n",
       "      <th>z</th>\n",
       "    </tr>\n",
       "  </thead>\n",
       "  <tbody>\n",
       "    <tr>\n",
       "      <th>1</th>\n",
       "      <td>0.23</td>\n",
       "      <td>Ideal</td>\n",
       "      <td>E</td>\n",
       "      <td>SI2</td>\n",
       "      <td>61.5</td>\n",
       "      <td>55.0</td>\n",
       "      <td>326</td>\n",
       "      <td>3.95</td>\n",
       "      <td>3.98</td>\n",
       "      <td>2.43</td>\n",
       "    </tr>\n",
       "    <tr>\n",
       "      <th>2</th>\n",
       "      <td>0.21</td>\n",
       "      <td>Premium</td>\n",
       "      <td>E</td>\n",
       "      <td>SI1</td>\n",
       "      <td>59.8</td>\n",
       "      <td>61.0</td>\n",
       "      <td>326</td>\n",
       "      <td>3.89</td>\n",
       "      <td>3.84</td>\n",
       "      <td>2.31</td>\n",
       "    </tr>\n",
       "    <tr>\n",
       "      <th>3</th>\n",
       "      <td>0.23</td>\n",
       "      <td>Good</td>\n",
       "      <td>E</td>\n",
       "      <td>VS1</td>\n",
       "      <td>56.9</td>\n",
       "      <td>65.0</td>\n",
       "      <td>327</td>\n",
       "      <td>4.05</td>\n",
       "      <td>4.07</td>\n",
       "      <td>2.31</td>\n",
       "    </tr>\n",
       "    <tr>\n",
       "      <th>4</th>\n",
       "      <td>0.29</td>\n",
       "      <td>Premium</td>\n",
       "      <td>I</td>\n",
       "      <td>VS2</td>\n",
       "      <td>62.4</td>\n",
       "      <td>58.0</td>\n",
       "      <td>334</td>\n",
       "      <td>4.20</td>\n",
       "      <td>4.23</td>\n",
       "      <td>2.63</td>\n",
       "    </tr>\n",
       "    <tr>\n",
       "      <th>5</th>\n",
       "      <td>0.31</td>\n",
       "      <td>Good</td>\n",
       "      <td>J</td>\n",
       "      <td>SI2</td>\n",
       "      <td>63.3</td>\n",
       "      <td>58.0</td>\n",
       "      <td>335</td>\n",
       "      <td>4.34</td>\n",
       "      <td>4.35</td>\n",
       "      <td>2.75</td>\n",
       "    </tr>\n",
       "    <tr>\n",
       "      <th>6</th>\n",
       "      <td>0.24</td>\n",
       "      <td>Very Good</td>\n",
       "      <td>J</td>\n",
       "      <td>VVS2</td>\n",
       "      <td>62.8</td>\n",
       "      <td>57.0</td>\n",
       "      <td>336</td>\n",
       "      <td>3.94</td>\n",
       "      <td>3.96</td>\n",
       "      <td>2.48</td>\n",
       "    </tr>\n",
       "    <tr>\n",
       "      <th>7</th>\n",
       "      <td>0.24</td>\n",
       "      <td>Very Good</td>\n",
       "      <td>I</td>\n",
       "      <td>VVS1</td>\n",
       "      <td>62.3</td>\n",
       "      <td>57.0</td>\n",
       "      <td>336</td>\n",
       "      <td>3.95</td>\n",
       "      <td>3.98</td>\n",
       "      <td>2.47</td>\n",
       "    </tr>\n",
       "    <tr>\n",
       "      <th>8</th>\n",
       "      <td>0.26</td>\n",
       "      <td>Very Good</td>\n",
       "      <td>H</td>\n",
       "      <td>SI1</td>\n",
       "      <td>61.9</td>\n",
       "      <td>55.0</td>\n",
       "      <td>337</td>\n",
       "      <td>4.07</td>\n",
       "      <td>4.11</td>\n",
       "      <td>2.53</td>\n",
       "    </tr>\n",
       "    <tr>\n",
       "      <th>9</th>\n",
       "      <td>0.22</td>\n",
       "      <td>Fair</td>\n",
       "      <td>E</td>\n",
       "      <td>VS2</td>\n",
       "      <td>65.1</td>\n",
       "      <td>61.0</td>\n",
       "      <td>337</td>\n",
       "      <td>3.87</td>\n",
       "      <td>3.78</td>\n",
       "      <td>2.49</td>\n",
       "    </tr>\n",
       "    <tr>\n",
       "      <th>10</th>\n",
       "      <td>0.23</td>\n",
       "      <td>Very Good</td>\n",
       "      <td>H</td>\n",
       "      <td>VS1</td>\n",
       "      <td>59.4</td>\n",
       "      <td>61.0</td>\n",
       "      <td>338</td>\n",
       "      <td>4.00</td>\n",
       "      <td>4.05</td>\n",
       "      <td>2.39</td>\n",
       "    </tr>\n",
       "  </tbody>\n",
       "</table>\n",
       "</div>"
      ],
      "text/plain": [
       "    carat        cut color clarity  depth  table  price     x     y     z\n",
       "1    0.23      Ideal     E     SI2   61.5   55.0    326  3.95  3.98  2.43\n",
       "2    0.21    Premium     E     SI1   59.8   61.0    326  3.89  3.84  2.31\n",
       "3    0.23       Good     E     VS1   56.9   65.0    327  4.05  4.07  2.31\n",
       "4    0.29    Premium     I     VS2   62.4   58.0    334  4.20  4.23  2.63\n",
       "5    0.31       Good     J     SI2   63.3   58.0    335  4.34  4.35  2.75\n",
       "6    0.24  Very Good     J    VVS2   62.8   57.0    336  3.94  3.96  2.48\n",
       "7    0.24  Very Good     I    VVS1   62.3   57.0    336  3.95  3.98  2.47\n",
       "8    0.26  Very Good     H     SI1   61.9   55.0    337  4.07  4.11  2.53\n",
       "9    0.22       Fair     E     VS2   65.1   61.0    337  3.87  3.78  2.49\n",
       "10   0.23  Very Good     H     VS1   59.4   61.0    338  4.00  4.05  2.39"
      ]
     },
     "execution_count": 2,
     "metadata": {},
     "output_type": "execute_result"
    }
   ],
   "source": [
    "diamonds_data = pd.read_csv('datasets/diamonds.csv', index_col=0)\n",
    "\n",
    "diamonds_data.head(10)"
   ]
  },
  {
   "cell_type": "code",
   "execution_count": 3,
   "metadata": {},
   "outputs": [
    {
     "data": {
      "text/plain": [
       "(53940, 10)"
      ]
     },
     "execution_count": 3,
     "metadata": {},
     "output_type": "execute_result"
    }
   ],
   "source": [
    "diamonds_data.shape"
   ]
  },
  {
   "cell_type": "code",
   "execution_count": 4,
   "metadata": {},
   "outputs": [],
   "source": [
    "diamonds_data = diamonds_data.sample(5000, replace=False)"
   ]
  },
  {
   "cell_type": "code",
   "execution_count": 5,
   "metadata": {},
   "outputs": [
    {
     "data": {
      "text/plain": [
       "Ideal        1978\n",
       "Premium      1279\n",
       "Very Good    1112\n",
       "Good          483\n",
       "Fair          148\n",
       "Name: cut, dtype: int64"
      ]
     },
     "execution_count": 5,
     "metadata": {},
     "output_type": "execute_result"
    }
   ],
   "source": [
    "diamonds_data['cut'].value_counts()"
   ]
  },
  {
   "cell_type": "code",
   "execution_count": 6,
   "metadata": {},
   "outputs": [
    {
     "data": {
      "text/plain": [
       "G    1030\n",
       "E     977\n",
       "F     874\n",
       "H     747\n",
       "D     611\n",
       "I     521\n",
       "J     240\n",
       "Name: color, dtype: int64"
      ]
     },
     "execution_count": 6,
     "metadata": {},
     "output_type": "execute_result"
    }
   ],
   "source": [
    "diamonds_data['color'].value_counts()"
   ]
  },
  {
   "cell_type": "code",
   "execution_count": 7,
   "metadata": {},
   "outputs": [
    {
     "data": {
      "text/plain": [
       "VS2     1193\n",
       "SI1     1185\n",
       "SI2      839\n",
       "VS1      740\n",
       "VVS2     445\n",
       "VVS1     351\n",
       "IF       168\n",
       "I1        79\n",
       "Name: clarity, dtype: int64"
      ]
     },
     "execution_count": 7,
     "metadata": {},
     "output_type": "execute_result"
    }
   ],
   "source": [
    "diamonds_data['clarity'].value_counts()"
   ]
  },
  {
   "cell_type": "code",
   "execution_count": 8,
   "metadata": {},
   "outputs": [
    {
     "data": {
      "text/html": [
       "<div>\n",
       "<style scoped>\n",
       "    .dataframe tbody tr th:only-of-type {\n",
       "        vertical-align: middle;\n",
       "    }\n",
       "\n",
       "    .dataframe tbody tr th {\n",
       "        vertical-align: top;\n",
       "    }\n",
       "\n",
       "    .dataframe thead th {\n",
       "        text-align: right;\n",
       "    }\n",
       "</style>\n",
       "<table border=\"1\" class=\"dataframe\">\n",
       "  <thead>\n",
       "    <tr style=\"text-align: right;\">\n",
       "      <th></th>\n",
       "      <th>carat</th>\n",
       "      <th>depth</th>\n",
       "      <th>table</th>\n",
       "      <th>price</th>\n",
       "      <th>x</th>\n",
       "      <th>y</th>\n",
       "      <th>z</th>\n",
       "    </tr>\n",
       "  </thead>\n",
       "  <tbody>\n",
       "    <tr>\n",
       "      <th>count</th>\n",
       "      <td>5000.000000</td>\n",
       "      <td>5000.000000</td>\n",
       "      <td>5000.000000</td>\n",
       "      <td>5000.00000</td>\n",
       "      <td>5000.000000</td>\n",
       "      <td>5000.000000</td>\n",
       "      <td>5000.000000</td>\n",
       "    </tr>\n",
       "    <tr>\n",
       "      <th>mean</th>\n",
       "      <td>0.803538</td>\n",
       "      <td>61.788320</td>\n",
       "      <td>57.474800</td>\n",
       "      <td>3995.10260</td>\n",
       "      <td>5.742690</td>\n",
       "      <td>5.744566</td>\n",
       "      <td>3.546074</td>\n",
       "    </tr>\n",
       "    <tr>\n",
       "      <th>std</th>\n",
       "      <td>0.478023</td>\n",
       "      <td>1.420722</td>\n",
       "      <td>2.231787</td>\n",
       "      <td>4066.97442</td>\n",
       "      <td>1.123872</td>\n",
       "      <td>1.114735</td>\n",
       "      <td>0.699272</td>\n",
       "    </tr>\n",
       "    <tr>\n",
       "      <th>min</th>\n",
       "      <td>0.200000</td>\n",
       "      <td>50.800000</td>\n",
       "      <td>49.000000</td>\n",
       "      <td>352.00000</td>\n",
       "      <td>3.760000</td>\n",
       "      <td>3.730000</td>\n",
       "      <td>0.000000</td>\n",
       "    </tr>\n",
       "    <tr>\n",
       "      <th>25%</th>\n",
       "      <td>0.400000</td>\n",
       "      <td>61.100000</td>\n",
       "      <td>56.000000</td>\n",
       "      <td>957.50000</td>\n",
       "      <td>4.720000</td>\n",
       "      <td>4.730000</td>\n",
       "      <td>2.920000</td>\n",
       "    </tr>\n",
       "    <tr>\n",
       "      <th>50%</th>\n",
       "      <td>0.700000</td>\n",
       "      <td>61.900000</td>\n",
       "      <td>57.000000</td>\n",
       "      <td>2417.50000</td>\n",
       "      <td>5.700000</td>\n",
       "      <td>5.710000</td>\n",
       "      <td>3.530000</td>\n",
       "    </tr>\n",
       "    <tr>\n",
       "      <th>75%</th>\n",
       "      <td>1.050000</td>\n",
       "      <td>62.600000</td>\n",
       "      <td>59.000000</td>\n",
       "      <td>5430.00000</td>\n",
       "      <td>6.550000</td>\n",
       "      <td>6.540000</td>\n",
       "      <td>4.040000</td>\n",
       "    </tr>\n",
       "    <tr>\n",
       "      <th>max</th>\n",
       "      <td>4.130000</td>\n",
       "      <td>71.300000</td>\n",
       "      <td>76.000000</td>\n",
       "      <td>18795.00000</td>\n",
       "      <td>10.010000</td>\n",
       "      <td>9.940000</td>\n",
       "      <td>6.430000</td>\n",
       "    </tr>\n",
       "  </tbody>\n",
       "</table>\n",
       "</div>"
      ],
      "text/plain": [
       "             carat        depth        table        price            x  \\\n",
       "count  5000.000000  5000.000000  5000.000000   5000.00000  5000.000000   \n",
       "mean      0.803538    61.788320    57.474800   3995.10260     5.742690   \n",
       "std       0.478023     1.420722     2.231787   4066.97442     1.123872   \n",
       "min       0.200000    50.800000    49.000000    352.00000     3.760000   \n",
       "25%       0.400000    61.100000    56.000000    957.50000     4.720000   \n",
       "50%       0.700000    61.900000    57.000000   2417.50000     5.700000   \n",
       "75%       1.050000    62.600000    59.000000   5430.00000     6.550000   \n",
       "max       4.130000    71.300000    76.000000  18795.00000    10.010000   \n",
       "\n",
       "                 y            z  \n",
       "count  5000.000000  5000.000000  \n",
       "mean      5.744566     3.546074  \n",
       "std       1.114735     0.699272  \n",
       "min       3.730000     0.000000  \n",
       "25%       4.730000     2.920000  \n",
       "50%       5.710000     3.530000  \n",
       "75%       6.540000     4.040000  \n",
       "max       9.940000     6.430000  "
      ]
     },
     "execution_count": 8,
     "metadata": {},
     "output_type": "execute_result"
    }
   ],
   "source": [
    "diamonds_data.describe()"
   ]
  },
  {
   "cell_type": "markdown",
   "metadata": {},
   "source": [
    "### Visualizing Relationships"
   ]
  },
  {
   "cell_type": "code",
   "execution_count": 9,
   "metadata": {},
   "outputs": [
    {
     "data": {
      "image/png": "[encoded data removed]",
      "text/plain": [
       "<Figure size 864x576 with 1 Axes>"
      ]
     },
     "metadata": {
      "needs_background": "light"
     },
     "output_type": "display_data"
    }
   ],
   "source": [
    "plt.figure(figsize=(12, 8))\n",
    "\n",
    "diamonds_data.boxplot('price')\n",
    "\n",
    "plt.show()"
   ]
  },
  {
   "cell_type": "code",
   "execution_count": 10,
   "metadata": {},
   "outputs": [
    {
     "data": {
      "image/png": "[encoded data removed]",
      "text/plain": [
       "<Figure size 864x576 with 1 Axes>"
      ]
     },
     "metadata": {
      "needs_background": "light"
     },
     "output_type": "display_data"
    }
   ],
   "source": [
    "plt.figure(figsize=(12, 8))\n",
    "\n",
    "diamonds_data['price'].plot.kde()\n",
    "\n",
    "plt.show()"
   ]
  },
  {
   "cell_type": "code",
   "execution_count": 11,
   "metadata": {},
   "outputs": [
    {
     "data": {
      "image/png": "[encoded data removed]",
      "text/plain": [
       "<Figure size 720x576 with 1 Axes>"
      ]
     },
     "metadata": {
      "needs_background": "light"
     },
     "output_type": "display_data"
    }
   ],
   "source": [
    "plt.figure(figsize=(10, 8))\n",
    "\n",
    "plt.scatter(diamonds_data['carat'], diamonds_data['price'], s=100)\n",
    "\n",
    "plt.xlabel('Carat', fontsize=20)\n",
    "plt.ylabel('Price', fontsize=20)\n",
    "\n",
    "plt.show()"
   ]
  },
  {
   "cell_type": "code",
   "execution_count": 12,
   "metadata": {},
   "outputs": [
    {
     "data": {
      "image/png": "[encoded data removed]",
      "text/plain": [
       "<Figure size 720x576 with 1 Axes>"
      ]
     },
     "metadata": {
      "needs_background": "light"
     },
     "output_type": "display_data"
    }
   ],
   "source": [
    "diamonds_data.boxplot('price', 'color', figsize=(10, 8))\n",
    "\n",
    "plt.xlabel('Color', fontsize=20)\n",
    "plt.ylabel('Price', fontsize=20)\n",
    "\n",
    "plt.show()"
   ]
  },
  {
   "cell_type": "code",
   "execution_count": 13,
   "metadata": {},
   "outputs": [
    {
     "data": {
      "image/png": "[encoded data removed]",
      "text/plain": [
       "<Figure size 720x576 with 1 Axes>"
      ]
     },
     "metadata": {
      "needs_background": "light"
     },
     "output_type": "display_data"
    }
   ],
   "source": [
    "diamonds_data.boxplot('price', 'cut', figsize=(10, 8))\n",
    "\n",
    "plt.xlabel('Cut', fontsize=20)\n",
    "plt.ylabel('Price', fontsize=20)\n",
    "\n",
    "plt.show()"
   ]
  },
  {
   "cell_type": "code",
   "execution_count": 14,
   "metadata": {},
   "outputs": [
    {
     "data": {
      "image/png": "[encoded data removed]",
      "text/plain": [
       "<Figure size 720x576 with 1 Axes>"
      ]
     },
     "metadata": {
      "needs_background": "light"
     },
     "output_type": "display_data"
    }
   ],
   "source": [
    "diamonds_data.boxplot('price', 'clarity', figsize=(10, 8))\n",
    "\n",
    "plt.xlabel('Clarity', fontsize=20)\n",
    "plt.ylabel('Price', fontsize=20)\n",
    "\n",
    "plt.show()"
   ]
  },
  {
   "cell_type": "code",
   "execution_count": 15,
   "metadata": {},
   "outputs": [
    {
     "data": {
      "text/html": [
       "<div>\n",
       "<style scoped>\n",
       "    .dataframe tbody tr th:only-of-type {\n",
       "        vertical-align: middle;\n",
       "    }\n",
       "\n",
       "    .dataframe tbody tr th {\n",
       "        vertical-align: top;\n",
       "    }\n",
       "\n",
       "    .dataframe thead th {\n",
       "        text-align: right;\n",
       "    }\n",
       "</style>\n",
       "<table border=\"1\" class=\"dataframe\">\n",
       "  <thead>\n",
       "    <tr style=\"text-align: right;\">\n",
       "      <th></th>\n",
       "      <th>carat</th>\n",
       "      <th>depth</th>\n",
       "      <th>table</th>\n",
       "      <th>price</th>\n",
       "      <th>x</th>\n",
       "      <th>y</th>\n",
       "      <th>z</th>\n",
       "    </tr>\n",
       "  </thead>\n",
       "  <tbody>\n",
       "    <tr>\n",
       "      <th>carat</th>\n",
       "      <td>1.000000</td>\n",
       "      <td>0.025693</td>\n",
       "      <td>0.172883</td>\n",
       "      <td>0.917935</td>\n",
       "      <td>0.977465</td>\n",
       "      <td>0.976506</td>\n",
       "      <td>0.967638</td>\n",
       "    </tr>\n",
       "    <tr>\n",
       "      <th>depth</th>\n",
       "      <td>0.025693</td>\n",
       "      <td>1.000000</td>\n",
       "      <td>-0.272056</td>\n",
       "      <td>-0.023919</td>\n",
       "      <td>-0.028798</td>\n",
       "      <td>-0.031777</td>\n",
       "      <td>0.098773</td>\n",
       "    </tr>\n",
       "    <tr>\n",
       "      <th>table</th>\n",
       "      <td>0.172883</td>\n",
       "      <td>-0.272056</td>\n",
       "      <td>1.000000</td>\n",
       "      <td>0.120700</td>\n",
       "      <td>0.191000</td>\n",
       "      <td>0.184370</td>\n",
       "      <td>0.149717</td>\n",
       "    </tr>\n",
       "    <tr>\n",
       "      <th>price</th>\n",
       "      <td>0.917935</td>\n",
       "      <td>-0.023919</td>\n",
       "      <td>0.120700</td>\n",
       "      <td>1.000000</td>\n",
       "      <td>0.885361</td>\n",
       "      <td>0.887571</td>\n",
       "      <td>0.873781</td>\n",
       "    </tr>\n",
       "    <tr>\n",
       "      <th>x</th>\n",
       "      <td>0.977465</td>\n",
       "      <td>-0.028798</td>\n",
       "      <td>0.191000</td>\n",
       "      <td>0.885361</td>\n",
       "      <td>1.000000</td>\n",
       "      <td>0.998887</td>\n",
       "      <td>0.981652</td>\n",
       "    </tr>\n",
       "    <tr>\n",
       "      <th>y</th>\n",
       "      <td>0.976506</td>\n",
       "      <td>-0.031777</td>\n",
       "      <td>0.184370</td>\n",
       "      <td>0.887571</td>\n",
       "      <td>0.998887</td>\n",
       "      <td>1.000000</td>\n",
       "      <td>0.981458</td>\n",
       "    </tr>\n",
       "    <tr>\n",
       "      <th>z</th>\n",
       "      <td>0.967638</td>\n",
       "      <td>0.098773</td>\n",
       "      <td>0.149717</td>\n",
       "      <td>0.873781</td>\n",
       "      <td>0.981652</td>\n",
       "      <td>0.981458</td>\n",
       "      <td>1.000000</td>\n",
       "    </tr>\n",
       "  </tbody>\n",
       "</table>\n",
       "</div>"
      ],
      "text/plain": [
       "          carat     depth     table     price         x         y         z\n",
       "carat  1.000000  0.025693  0.172883  0.917935  0.977465  0.976506  0.967638\n",
       "depth  0.025693  1.000000 -0.272056 -0.023919 -0.028798 -0.031777  0.098773\n",
       "table  0.172883 -0.272056  1.000000  0.120700  0.191000  0.184370  0.149717\n",
       "price  0.917935 -0.023919  0.120700  1.000000  0.885361  0.887571  0.873781\n",
       "x      0.977465 -0.028798  0.191000  0.885361  1.000000  0.998887  0.981652\n",
       "y      0.976506 -0.031777  0.184370  0.887571  0.998887  1.000000  0.981458\n",
       "z      0.967638  0.098773  0.149717  0.873781  0.981652  0.981458  1.000000"
      ]
     },
     "execution_count": 15,
     "metadata": {},
     "output_type": "execute_result"
    }
   ],
   "source": [
    "diamonds_data_corr = diamonds_data.corr()\n",
    "\n",
    "diamonds_data_corr"
   ]
  },
  {
   "cell_type": "code",
   "execution_count": 16,
   "metadata": {},
   "outputs": [
    {
     "data": {
      "image/png": "[encoded data removed]",
      "text/plain": [
       "<Figure size 864x576 with 2 Axes>"
      ]
     },
     "metadata": {
      "needs_background": "light"
     },
     "output_type": "display_data"
    }
   ],
   "source": [
    "plt.subplots(figsize=(12, 8))\n",
    "\n",
    "sns.heatmap(diamonds_data_corr, annot=True)\n",
    "\n",
    "plt.show()"
   ]
  },
  {
   "cell_type": "code",
   "execution_count": 17,
   "metadata": {},
   "outputs": [],
   "source": [
    "features = diamonds_data.drop('price', axis=1)\n",
    "\n",
    "target = diamonds_data[['price']]"
   ]
  },
  {
   "cell_type": "code",
   "execution_count": 18,
   "metadata": {},
   "outputs": [
    {
     "data": {
      "text/html": [
       "<div>\n",
       "<style scoped>\n",
       "    .dataframe tbody tr th:only-of-type {\n",
       "        vertical-align: middle;\n",
       "    }\n",
       "\n",
       "    .dataframe tbody tr th {\n",
       "        vertical-align: top;\n",
       "    }\n",
       "\n",
       "    .dataframe thead th {\n",
       "        text-align: right;\n",
       "    }\n",
       "</style>\n",
       "<table border=\"1\" class=\"dataframe\">\n",
       "  <thead>\n",
       "    <tr style=\"text-align: right;\">\n",
       "      <th></th>\n",
       "      <th>carat</th>\n",
       "      <th>cut</th>\n",
       "      <th>color</th>\n",
       "      <th>clarity</th>\n",
       "      <th>depth</th>\n",
       "      <th>table</th>\n",
       "      <th>x</th>\n",
       "      <th>y</th>\n",
       "      <th>z</th>\n",
       "    </tr>\n",
       "  </thead>\n",
       "  <tbody>\n",
       "    <tr>\n",
       "      <th>3836</th>\n",
       "      <td>1.00</td>\n",
       "      <td>Premium</td>\n",
       "      <td>H</td>\n",
       "      <td>SI2</td>\n",
       "      <td>59.0</td>\n",
       "      <td>58.0</td>\n",
       "      <td>6.62</td>\n",
       "      <td>6.50</td>\n",
       "      <td>3.87</td>\n",
       "    </tr>\n",
       "    <tr>\n",
       "      <th>3992</th>\n",
       "      <td>1.06</td>\n",
       "      <td>Very Good</td>\n",
       "      <td>I</td>\n",
       "      <td>SI2</td>\n",
       "      <td>58.4</td>\n",
       "      <td>62.0</td>\n",
       "      <td>6.65</td>\n",
       "      <td>6.70</td>\n",
       "      <td>3.90</td>\n",
       "    </tr>\n",
       "    <tr>\n",
       "      <th>42233</th>\n",
       "      <td>0.53</td>\n",
       "      <td>Very Good</td>\n",
       "      <td>F</td>\n",
       "      <td>SI1</td>\n",
       "      <td>60.9</td>\n",
       "      <td>56.0</td>\n",
       "      <td>5.21</td>\n",
       "      <td>5.23</td>\n",
       "      <td>3.18</td>\n",
       "    </tr>\n",
       "    <tr>\n",
       "      <th>45561</th>\n",
       "      <td>0.53</td>\n",
       "      <td>Good</td>\n",
       "      <td>F</td>\n",
       "      <td>VS1</td>\n",
       "      <td>64.2</td>\n",
       "      <td>56.0</td>\n",
       "      <td>5.11</td>\n",
       "      <td>5.14</td>\n",
       "      <td>3.29</td>\n",
       "    </tr>\n",
       "    <tr>\n",
       "      <th>36423</th>\n",
       "      <td>0.39</td>\n",
       "      <td>Good</td>\n",
       "      <td>G</td>\n",
       "      <td>VS2</td>\n",
       "      <td>63.7</td>\n",
       "      <td>53.0</td>\n",
       "      <td>4.67</td>\n",
       "      <td>4.62</td>\n",
       "      <td>2.96</td>\n",
       "    </tr>\n",
       "  </tbody>\n",
       "</table>\n",
       "</div>"
      ],
      "text/plain": [
       "       carat        cut color clarity  depth  table     x     y     z\n",
       "3836    1.00    Premium     H     SI2   59.0   58.0  6.62  6.50  3.87\n",
       "3992    1.06  Very Good     I     SI2   58.4   62.0  6.65  6.70  3.90\n",
       "42233   0.53  Very Good     F     SI1   60.9   56.0  5.21  5.23  3.18\n",
       "45561   0.53       Good     F     VS1   64.2   56.0  5.11  5.14  3.29\n",
       "36423   0.39       Good     G     VS2   63.7   53.0  4.67  4.62  2.96"
      ]
     },
     "execution_count": 18,
     "metadata": {},
     "output_type": "execute_result"
    }
   ],
   "source": [
    "features.head()"
   ]
  },
  {
   "cell_type": "code",
   "execution_count": 19,
   "metadata": {},
   "outputs": [
    {
     "data": {
      "text/html": [
       "<div>\n",
       "<style scoped>\n",
       "    .dataframe tbody tr th:only-of-type {\n",
       "        vertical-align: middle;\n",
       "    }\n",
       "\n",
       "    .dataframe tbody tr th {\n",
       "        vertical-align: top;\n",
       "    }\n",
       "\n",
       "    .dataframe thead th {\n",
       "        text-align: right;\n",
       "    }\n",
       "</style>\n",
       "<table border=\"1\" class=\"dataframe\">\n",
       "  <thead>\n",
       "    <tr style=\"text-align: right;\">\n",
       "      <th></th>\n",
       "      <th>color</th>\n",
       "      <th>cut</th>\n",
       "      <th>clarity</th>\n",
       "    </tr>\n",
       "  </thead>\n",
       "  <tbody>\n",
       "    <tr>\n",
       "      <th>3836</th>\n",
       "      <td>H</td>\n",
       "      <td>Premium</td>\n",
       "      <td>SI2</td>\n",
       "    </tr>\n",
       "    <tr>\n",
       "      <th>3992</th>\n",
       "      <td>I</td>\n",
       "      <td>Very Good</td>\n",
       "      <td>SI2</td>\n",
       "    </tr>\n",
       "    <tr>\n",
       "      <th>42233</th>\n",
       "      <td>F</td>\n",
       "      <td>Very Good</td>\n",
       "      <td>SI1</td>\n",
       "    </tr>\n",
       "    <tr>\n",
       "      <th>45561</th>\n",
       "      <td>F</td>\n",
       "      <td>Good</td>\n",
       "      <td>VS1</td>\n",
       "    </tr>\n",
       "    <tr>\n",
       "      <th>36423</th>\n",
       "      <td>G</td>\n",
       "      <td>Good</td>\n",
       "      <td>VS2</td>\n",
       "    </tr>\n",
       "  </tbody>\n",
       "</table>\n",
       "</div>"
      ],
      "text/plain": [
       "      color        cut clarity\n",
       "3836      H    Premium     SI2\n",
       "3992      I  Very Good     SI2\n",
       "42233     F  Very Good     SI1\n",
       "45561     F       Good     VS1\n",
       "36423     G       Good     VS2"
      ]
     },
     "execution_count": 19,
     "metadata": {},
     "output_type": "execute_result"
    }
   ],
   "source": [
    "categorical_features = features[['color', 'cut', 'clarity']].copy()\n",
    "\n",
    "categorical_features.head()"
   ]
  },
  {
   "cell_type": "code",
   "execution_count": 20,
   "metadata": {},
   "outputs": [
    {
     "data": {
      "text/html": [
       "<div>\n",
       "<style scoped>\n",
       "    .dataframe tbody tr th:only-of-type {\n",
       "        vertical-align: middle;\n",
       "    }\n",
       "\n",
       "    .dataframe tbody tr th {\n",
       "        vertical-align: top;\n",
       "    }\n",
       "\n",
       "    .dataframe thead th {\n",
       "        text-align: right;\n",
       "    }\n",
       "</style>\n",
       "<table border=\"1\" class=\"dataframe\">\n",
       "  <thead>\n",
       "    <tr style=\"text-align: right;\">\n",
       "      <th></th>\n",
       "      <th>carat</th>\n",
       "      <th>depth</th>\n",
       "      <th>table</th>\n",
       "      <th>x</th>\n",
       "      <th>y</th>\n",
       "      <th>z</th>\n",
       "    </tr>\n",
       "  </thead>\n",
       "  <tbody>\n",
       "    <tr>\n",
       "      <th>3836</th>\n",
       "      <td>1.00</td>\n",
       "      <td>59.0</td>\n",
       "      <td>58.0</td>\n",
       "      <td>6.62</td>\n",
       "      <td>6.50</td>\n",
       "      <td>3.87</td>\n",
       "    </tr>\n",
       "    <tr>\n",
       "      <th>3992</th>\n",
       "      <td>1.06</td>\n",
       "      <td>58.4</td>\n",
       "      <td>62.0</td>\n",
       "      <td>6.65</td>\n",
       "      <td>6.70</td>\n",
       "      <td>3.90</td>\n",
       "    </tr>\n",
       "    <tr>\n",
       "      <th>42233</th>\n",
       "      <td>0.53</td>\n",
       "      <td>60.9</td>\n",
       "      <td>56.0</td>\n",
       "      <td>5.21</td>\n",
       "      <td>5.23</td>\n",
       "      <td>3.18</td>\n",
       "    </tr>\n",
       "    <tr>\n",
       "      <th>45561</th>\n",
       "      <td>0.53</td>\n",
       "      <td>64.2</td>\n",
       "      <td>56.0</td>\n",
       "      <td>5.11</td>\n",
       "      <td>5.14</td>\n",
       "      <td>3.29</td>\n",
       "    </tr>\n",
       "    <tr>\n",
       "      <th>36423</th>\n",
       "      <td>0.39</td>\n",
       "      <td>63.7</td>\n",
       "      <td>53.0</td>\n",
       "      <td>4.67</td>\n",
       "      <td>4.62</td>\n",
       "      <td>2.96</td>\n",
       "    </tr>\n",
       "  </tbody>\n",
       "</table>\n",
       "</div>"
      ],
      "text/plain": [
       "       carat  depth  table     x     y     z\n",
       "3836    1.00   59.0   58.0  6.62  6.50  3.87\n",
       "3992    1.06   58.4   62.0  6.65  6.70  3.90\n",
       "42233   0.53   60.9   56.0  5.21  5.23  3.18\n",
       "45561   0.53   64.2   56.0  5.11  5.14  3.29\n",
       "36423   0.39   63.7   53.0  4.67  4.62  2.96"
      ]
     },
     "execution_count": 20,
     "metadata": {},
     "output_type": "execute_result"
    }
   ],
   "source": [
    "numeric_features = features.drop(['color', 'cut', 'clarity'], axis=1)\n",
    "\n",
    "numeric_features.head()"
   ]
  },
  {
   "cell_type": "markdown",
   "metadata": {},
   "source": [
    "### Performing label and one hot encoding for categorical columns"
   ]
  },
  {
   "cell_type": "code",
   "execution_count": 21,
   "metadata": {},
   "outputs": [
    {
     "data": {
      "text/plain": [
       "array(['H', 'I', 'F', 'G', 'E', 'D', 'J'], dtype=object)"
      ]
     },
     "execution_count": 21,
     "metadata": {},
     "output_type": "execute_result"
    }
   ],
   "source": [
    "categorical_features['color'].unique()"
   ]
  },
  {
   "cell_type": "code",
   "execution_count": 22,
   "metadata": {},
   "outputs": [
    {
     "data": {
      "text/plain": [
       "array(['Premium', 'Very Good', 'Good', 'Ideal', 'Fair'], dtype=object)"
      ]
     },
     "execution_count": 22,
     "metadata": {},
     "output_type": "execute_result"
    }
   ],
   "source": [
    "categorical_features['cut'].unique()"
   ]
  },
  {
   "cell_type": "code",
   "execution_count": 23,
   "metadata": {},
   "outputs": [
    {
     "data": {
      "text/plain": [
       "array(['SI2', 'SI1', 'VS1', 'VS2', 'I1', 'VVS2', 'VVS1', 'IF'],\n",
       "      dtype=object)"
      ]
     },
     "execution_count": 23,
     "metadata": {},
     "output_type": "execute_result"
    }
   ],
   "source": [
    "categorical_features['clarity'].unique()"
   ]
  },
  {
   "cell_type": "code",
   "execution_count": 24,
   "metadata": {},
   "outputs": [
    {
     "data": {
      "text/html": [
       "<div>\n",
       "<style scoped>\n",
       "    .dataframe tbody tr th:only-of-type {\n",
       "        vertical-align: middle;\n",
       "    }\n",
       "\n",
       "    .dataframe tbody tr th {\n",
       "        vertical-align: top;\n",
       "    }\n",
       "\n",
       "    .dataframe thead th {\n",
       "        text-align: right;\n",
       "    }\n",
       "</style>\n",
       "<table border=\"1\" class=\"dataframe\">\n",
       "  <thead>\n",
       "    <tr style=\"text-align: right;\">\n",
       "      <th></th>\n",
       "      <th>color</th>\n",
       "      <th>cut</th>\n",
       "      <th>clarity</th>\n",
       "    </tr>\n",
       "  </thead>\n",
       "  <tbody>\n",
       "    <tr>\n",
       "      <th>3836</th>\n",
       "      <td>4</td>\n",
       "      <td>Premium</td>\n",
       "      <td>SI2</td>\n",
       "    </tr>\n",
       "    <tr>\n",
       "      <th>3992</th>\n",
       "      <td>5</td>\n",
       "      <td>Very Good</td>\n",
       "      <td>SI2</td>\n",
       "    </tr>\n",
       "    <tr>\n",
       "      <th>42233</th>\n",
       "      <td>2</td>\n",
       "      <td>Very Good</td>\n",
       "      <td>SI1</td>\n",
       "    </tr>\n",
       "    <tr>\n",
       "      <th>45561</th>\n",
       "      <td>2</td>\n",
       "      <td>Good</td>\n",
       "      <td>VS1</td>\n",
       "    </tr>\n",
       "    <tr>\n",
       "      <th>36423</th>\n",
       "      <td>3</td>\n",
       "      <td>Good</td>\n",
       "      <td>VS2</td>\n",
       "    </tr>\n",
       "  </tbody>\n",
       "</table>\n",
       "</div>"
      ],
      "text/plain": [
       "       color        cut clarity\n",
       "3836       4    Premium     SI2\n",
       "3992       5  Very Good     SI2\n",
       "42233      2  Very Good     SI1\n",
       "45561      2       Good     VS1\n",
       "36423      3       Good     VS2"
      ]
     },
     "execution_count": 24,
     "metadata": {},
     "output_type": "execute_result"
    }
   ],
   "source": [
    "color_dict = {'D':0, 'E':1, 'F':2, 'G':3, 'H':4, 'I':5, 'J':6}\n",
    "\n",
    "categorical_features['color'].replace(color_dict, inplace=True)\n",
    "\n",
    "categorical_features.head()"
   ]
  },
  {
   "cell_type": "code",
   "execution_count": 25,
   "metadata": {},
   "outputs": [
    {
     "data": {
      "text/html": [
       "<div>\n",
       "<style scoped>\n",
       "    .dataframe tbody tr th:only-of-type {\n",
       "        vertical-align: middle;\n",
       "    }\n",
       "\n",
       "    .dataframe tbody tr th {\n",
       "        vertical-align: top;\n",
       "    }\n",
       "\n",
       "    .dataframe thead th {\n",
       "        text-align: right;\n",
       "    }\n",
       "</style>\n",
       "<table border=\"1\" class=\"dataframe\">\n",
       "  <thead>\n",
       "    <tr style=\"text-align: right;\">\n",
       "      <th></th>\n",
       "      <th>color</th>\n",
       "      <th>cut</th>\n",
       "      <th>clarity</th>\n",
       "    </tr>\n",
       "  </thead>\n",
       "  <tbody>\n",
       "    <tr>\n",
       "      <th>3836</th>\n",
       "      <td>4</td>\n",
       "      <td>3</td>\n",
       "      <td>SI2</td>\n",
       "    </tr>\n",
       "    <tr>\n",
       "      <th>3992</th>\n",
       "      <td>5</td>\n",
       "      <td>2</td>\n",
       "      <td>SI2</td>\n",
       "    </tr>\n",
       "    <tr>\n",
       "      <th>42233</th>\n",
       "      <td>2</td>\n",
       "      <td>2</td>\n",
       "      <td>SI1</td>\n",
       "    </tr>\n",
       "    <tr>\n",
       "      <th>45561</th>\n",
       "      <td>2</td>\n",
       "      <td>1</td>\n",
       "      <td>VS1</td>\n",
       "    </tr>\n",
       "    <tr>\n",
       "      <th>36423</th>\n",
       "      <td>3</td>\n",
       "      <td>1</td>\n",
       "      <td>VS2</td>\n",
       "    </tr>\n",
       "  </tbody>\n",
       "</table>\n",
       "</div>"
      ],
      "text/plain": [
       "       color  cut clarity\n",
       "3836       4    3     SI2\n",
       "3992       5    2     SI2\n",
       "42233      2    2     SI1\n",
       "45561      2    1     VS1\n",
       "36423      3    1     VS2"
      ]
     },
     "execution_count": 25,
     "metadata": {},
     "output_type": "execute_result"
    }
   ],
   "source": [
    "cut_dict = {'Fair':0, 'Good':1, 'Very Good':2, 'Premium':3, 'Ideal':4}\n",
    "\n",
    "categorical_features['cut'].replace(cut_dict, inplace=True)\n",
    "\n",
    "categorical_features.head()"
   ]
  },
  {
   "cell_type": "code",
   "execution_count": 26,
   "metadata": {},
   "outputs": [
    {
     "data": {
      "text/html": [
       "<div>\n",
       "<style scoped>\n",
       "    .dataframe tbody tr th:only-of-type {\n",
       "        vertical-align: middle;\n",
       "    }\n",
       "\n",
       "    .dataframe tbody tr th {\n",
       "        vertical-align: top;\n",
       "    }\n",
       "\n",
       "    .dataframe thead th {\n",
       "        text-align: right;\n",
       "    }\n",
       "</style>\n",
       "<table border=\"1\" class=\"dataframe\">\n",
       "  <thead>\n",
       "    <tr style=\"text-align: right;\">\n",
       "      <th></th>\n",
       "      <th>color</th>\n",
       "      <th>cut</th>\n",
       "      <th>clarity</th>\n",
       "    </tr>\n",
       "  </thead>\n",
       "  <tbody>\n",
       "    <tr>\n",
       "      <th>3836</th>\n",
       "      <td>4</td>\n",
       "      <td>3</td>\n",
       "      <td>1</td>\n",
       "    </tr>\n",
       "    <tr>\n",
       "      <th>3992</th>\n",
       "      <td>5</td>\n",
       "      <td>2</td>\n",
       "      <td>1</td>\n",
       "    </tr>\n",
       "    <tr>\n",
       "      <th>42233</th>\n",
       "      <td>2</td>\n",
       "      <td>2</td>\n",
       "      <td>2</td>\n",
       "    </tr>\n",
       "    <tr>\n",
       "      <th>45561</th>\n",
       "      <td>2</td>\n",
       "      <td>1</td>\n",
       "      <td>4</td>\n",
       "    </tr>\n",
       "    <tr>\n",
       "      <th>36423</th>\n",
       "      <td>3</td>\n",
       "      <td>1</td>\n",
       "      <td>3</td>\n",
       "    </tr>\n",
       "  </tbody>\n",
       "</table>\n",
       "</div>"
      ],
      "text/plain": [
       "       color  cut  clarity\n",
       "3836       4    3        1\n",
       "3992       5    2        1\n",
       "42233      2    2        2\n",
       "45561      2    1        4\n",
       "36423      3    1        3"
      ]
     },
     "execution_count": 26,
     "metadata": {},
     "output_type": "execute_result"
    }
   ],
   "source": [
    "clarity_dict = {'I1':0, 'SI2':1, 'SI1':2, 'VS2':3, 'VS1':4, 'VVS2':5, 'VVS1':6, 'IF':7}\n",
    "\n",
    "categorical_features['clarity'].replace(clarity_dict, inplace=True)\n",
    "\n",
    "categorical_features.head()"
   ]
  },
  {
   "cell_type": "code",
   "execution_count": 27,
   "metadata": {},
   "outputs": [
    {
     "data": {
      "text/html": [
       "<div>\n",
       "<style scoped>\n",
       "    .dataframe tbody tr th:only-of-type {\n",
       "        vertical-align: middle;\n",
       "    }\n",
       "\n",
       "    .dataframe tbody tr th {\n",
       "        vertical-align: top;\n",
       "    }\n",
       "\n",
       "    .dataframe thead th {\n",
       "        text-align: right;\n",
       "    }\n",
       "</style>\n",
       "<table border=\"1\" class=\"dataframe\">\n",
       "  <thead>\n",
       "    <tr style=\"text-align: right;\">\n",
       "      <th></th>\n",
       "      <th>carat</th>\n",
       "      <th>depth</th>\n",
       "      <th>table</th>\n",
       "      <th>x</th>\n",
       "      <th>y</th>\n",
       "      <th>z</th>\n",
       "    </tr>\n",
       "  </thead>\n",
       "  <tbody>\n",
       "    <tr>\n",
       "      <th>count</th>\n",
       "      <td>5000.000000</td>\n",
       "      <td>5000.000000</td>\n",
       "      <td>5000.000000</td>\n",
       "      <td>5000.000000</td>\n",
       "      <td>5000.000000</td>\n",
       "      <td>5000.000000</td>\n",
       "    </tr>\n",
       "    <tr>\n",
       "      <th>mean</th>\n",
       "      <td>0.803538</td>\n",
       "      <td>61.788320</td>\n",
       "      <td>57.474800</td>\n",
       "      <td>5.742690</td>\n",
       "      <td>5.744566</td>\n",
       "      <td>3.546074</td>\n",
       "    </tr>\n",
       "    <tr>\n",
       "      <th>std</th>\n",
       "      <td>0.478023</td>\n",
       "      <td>1.420722</td>\n",
       "      <td>2.231787</td>\n",
       "      <td>1.123872</td>\n",
       "      <td>1.114735</td>\n",
       "      <td>0.699272</td>\n",
       "    </tr>\n",
       "    <tr>\n",
       "      <th>min</th>\n",
       "      <td>0.200000</td>\n",
       "      <td>50.800000</td>\n",
       "      <td>49.000000</td>\n",
       "      <td>3.760000</td>\n",
       "      <td>3.730000</td>\n",
       "      <td>0.000000</td>\n",
       "    </tr>\n",
       "    <tr>\n",
       "      <th>25%</th>\n",
       "      <td>0.400000</td>\n",
       "      <td>61.100000</td>\n",
       "      <td>56.000000</td>\n",
       "      <td>4.720000</td>\n",
       "      <td>4.730000</td>\n",
       "      <td>2.920000</td>\n",
       "    </tr>\n",
       "    <tr>\n",
       "      <th>50%</th>\n",
       "      <td>0.700000</td>\n",
       "      <td>61.900000</td>\n",
       "      <td>57.000000</td>\n",
       "      <td>5.700000</td>\n",
       "      <td>5.710000</td>\n",
       "      <td>3.530000</td>\n",
       "    </tr>\n",
       "    <tr>\n",
       "      <th>75%</th>\n",
       "      <td>1.050000</td>\n",
       "      <td>62.600000</td>\n",
       "      <td>59.000000</td>\n",
       "      <td>6.550000</td>\n",
       "      <td>6.540000</td>\n",
       "      <td>4.040000</td>\n",
       "    </tr>\n",
       "    <tr>\n",
       "      <th>max</th>\n",
       "      <td>4.130000</td>\n",
       "      <td>71.300000</td>\n",
       "      <td>76.000000</td>\n",
       "      <td>10.010000</td>\n",
       "      <td>9.940000</td>\n",
       "      <td>6.430000</td>\n",
       "    </tr>\n",
       "  </tbody>\n",
       "</table>\n",
       "</div>"
      ],
      "text/plain": [
       "             carat        depth        table            x            y  \\\n",
       "count  5000.000000  5000.000000  5000.000000  5000.000000  5000.000000   \n",
       "mean      0.803538    61.788320    57.474800     5.742690     5.744566   \n",
       "std       0.478023     1.420722     2.231787     1.123872     1.114735   \n",
       "min       0.200000    50.800000    49.000000     3.760000     3.730000   \n",
       "25%       0.400000    61.100000    56.000000     4.720000     4.730000   \n",
       "50%       0.700000    61.900000    57.000000     5.700000     5.710000   \n",
       "75%       1.050000    62.600000    59.000000     6.550000     6.540000   \n",
       "max       4.130000    71.300000    76.000000    10.010000     9.940000   \n",
       "\n",
       "                 z  \n",
       "count  5000.000000  \n",
       "mean      3.546074  \n",
       "std       0.699272  \n",
       "min       0.000000  \n",
       "25%       2.920000  \n",
       "50%       3.530000  \n",
       "75%       4.040000  \n",
       "max       6.430000  "
      ]
     },
     "execution_count": 27,
     "metadata": {},
     "output_type": "execute_result"
    }
   ],
   "source": [
    "numeric_features.describe()"
   ]
  },
  {
   "cell_type": "code",
   "execution_count": 28,
   "metadata": {},
   "outputs": [
    {
     "data": {
      "text/html": [
       "<div>\n",
       "<style scoped>\n",
       "    .dataframe tbody tr th:only-of-type {\n",
       "        vertical-align: middle;\n",
       "    }\n",
       "\n",
       "    .dataframe tbody tr th {\n",
       "        vertical-align: top;\n",
       "    }\n",
       "\n",
       "    .dataframe thead th {\n",
       "        text-align: right;\n",
       "    }\n",
       "</style>\n",
       "<table border=\"1\" class=\"dataframe\">\n",
       "  <thead>\n",
       "    <tr style=\"text-align: right;\">\n",
       "      <th></th>\n",
       "      <th>carat</th>\n",
       "      <th>depth</th>\n",
       "      <th>table</th>\n",
       "      <th>x</th>\n",
       "      <th>y</th>\n",
       "      <th>z</th>\n",
       "    </tr>\n",
       "  </thead>\n",
       "  <tbody>\n",
       "    <tr>\n",
       "      <th>count</th>\n",
       "      <td>5.000000e+03</td>\n",
       "      <td>5.000000e+03</td>\n",
       "      <td>5.000000e+03</td>\n",
       "      <td>5.000000e+03</td>\n",
       "      <td>5.000000e+03</td>\n",
       "      <td>5.000000e+03</td>\n",
       "    </tr>\n",
       "    <tr>\n",
       "      <th>mean</th>\n",
       "      <td>1.891820e-17</td>\n",
       "      <td>8.105794e-16</td>\n",
       "      <td>-1.062195e-15</td>\n",
       "      <td>-4.766187e-16</td>\n",
       "      <td>-6.604273e-16</td>\n",
       "      <td>-5.689005e-16</td>\n",
       "    </tr>\n",
       "    <tr>\n",
       "      <th>std</th>\n",
       "      <td>1.000100e+00</td>\n",
       "      <td>1.000100e+00</td>\n",
       "      <td>1.000100e+00</td>\n",
       "      <td>1.000100e+00</td>\n",
       "      <td>1.000100e+00</td>\n",
       "      <td>1.000100e+00</td>\n",
       "    </tr>\n",
       "    <tr>\n",
       "      <th>min</th>\n",
       "      <td>-1.262698e+00</td>\n",
       "      <td>-7.735094e+00</td>\n",
       "      <td>-3.797696e+00</td>\n",
       "      <td>-1.764337e+00</td>\n",
       "      <td>-1.807396e+00</td>\n",
       "      <td>-5.071599e+00</td>\n",
       "    </tr>\n",
       "    <tr>\n",
       "      <th>25%</th>\n",
       "      <td>-8.442658e-01</td>\n",
       "      <td>-4.845345e-01</td>\n",
       "      <td>-6.608818e-01</td>\n",
       "      <td>-9.100614e-01</td>\n",
       "      <td>-9.102318e-01</td>\n",
       "      <td>-8.954118e-01</td>\n",
       "    </tr>\n",
       "    <tr>\n",
       "      <th>50%</th>\n",
       "      <td>-2.166180e-01</td>\n",
       "      <td>7.861578e-02</td>\n",
       "      <td>-2.127656e-01</td>\n",
       "      <td>-3.798856e-02</td>\n",
       "      <td>-3.101136e-02</td>\n",
       "      <td>-2.298905e-02</td>\n",
       "    </tr>\n",
       "    <tr>\n",
       "      <th>75%</th>\n",
       "      <td>5.156378e-01</td>\n",
       "      <td>5.713723e-01</td>\n",
       "      <td>6.834669e-01</td>\n",
       "      <td>7.184011e-01</td>\n",
       "      <td>7.136346e-01</td>\n",
       "      <td>7.064136e-01</td>\n",
       "    </tr>\n",
       "    <tr>\n",
       "      <th>max</th>\n",
       "      <td>6.959488e+00</td>\n",
       "      <td>6.695631e+00</td>\n",
       "      <td>8.301443e+00</td>\n",
       "      <td>3.797352e+00</td>\n",
       "      <td>3.763991e+00</td>\n",
       "      <td>4.124594e+00</td>\n",
       "    </tr>\n",
       "  </tbody>\n",
       "</table>\n",
       "</div>"
      ],
      "text/plain": [
       "              carat         depth         table             x             y  \\\n",
       "count  5.000000e+03  5.000000e+03  5.000000e+03  5.000000e+03  5.000000e+03   \n",
       "mean   1.891820e-17  8.105794e-16 -1.062195e-15 -4.766187e-16 -6.604273e-16   \n",
       "std    1.000100e+00  1.000100e+00  1.000100e+00  1.000100e+00  1.000100e+00   \n",
       "min   -1.262698e+00 -7.735094e+00 -3.797696e+00 -1.764337e+00 -1.807396e+00   \n",
       "25%   -8.442658e-01 -4.845345e-01 -6.608818e-01 -9.100614e-01 -9.102318e-01   \n",
       "50%   -2.166180e-01  7.861578e-02 -2.127656e-01 -3.798856e-02 -3.101136e-02   \n",
       "75%    5.156378e-01  5.713723e-01  6.834669e-01  7.184011e-01  7.136346e-01   \n",
       "max    6.959488e+00  6.695631e+00  8.301443e+00  3.797352e+00  3.763991e+00   \n",
       "\n",
       "                  z  \n",
       "count  5.000000e+03  \n",
       "mean  -5.689005e-16  \n",
       "std    1.000100e+00  \n",
       "min   -5.071599e+00  \n",
       "25%   -8.954118e-01  \n",
       "50%   -2.298905e-02  \n",
       "75%    7.064136e-01  \n",
       "max    4.124594e+00  "
      ]
     },
     "execution_count": 28,
     "metadata": {},
     "output_type": "execute_result"
    }
   ],
   "source": [
    "standardScaler = StandardScaler()\n",
    "\n",
    "numeric_features = pd.DataFrame(standardScaler.fit_transform(numeric_features), \n",
    "                                columns=numeric_features.columns,\n",
    "                                index=numeric_features.index)\n",
    "\n",
    "numeric_features.describe()"
   ]
  },
  {
   "cell_type": "code",
   "execution_count": 29,
   "metadata": {},
   "outputs": [
    {
     "data": {
      "text/html": [
       "<div>\n",
       "<style scoped>\n",
       "    .dataframe tbody tr th:only-of-type {\n",
       "        vertical-align: middle;\n",
       "    }\n",
       "\n",
       "    .dataframe tbody tr th {\n",
       "        vertical-align: top;\n",
       "    }\n",
       "\n",
       "    .dataframe thead th {\n",
       "        text-align: right;\n",
       "    }\n",
       "</style>\n",
       "<table border=\"1\" class=\"dataframe\">\n",
       "  <thead>\n",
       "    <tr style=\"text-align: right;\">\n",
       "      <th></th>\n",
       "      <th>carat</th>\n",
       "      <th>depth</th>\n",
       "      <th>table</th>\n",
       "      <th>x</th>\n",
       "      <th>y</th>\n",
       "      <th>z</th>\n",
       "    </tr>\n",
       "  </thead>\n",
       "  <tbody>\n",
       "    <tr>\n",
       "      <th>3836</th>\n",
       "      <td>0.411030</td>\n",
       "      <td>-1.962804</td>\n",
       "      <td>0.235351</td>\n",
       "      <td>0.780692</td>\n",
       "      <td>0.677748</td>\n",
       "      <td>0.463279</td>\n",
       "    </tr>\n",
       "    <tr>\n",
       "      <th>3992</th>\n",
       "      <td>0.536559</td>\n",
       "      <td>-2.385167</td>\n",
       "      <td>2.027816</td>\n",
       "      <td>0.807388</td>\n",
       "      <td>0.857181</td>\n",
       "      <td>0.506185</td>\n",
       "    </tr>\n",
       "    <tr>\n",
       "      <th>42233</th>\n",
       "      <td>-0.572285</td>\n",
       "      <td>-0.625322</td>\n",
       "      <td>-0.660882</td>\n",
       "      <td>-0.474025</td>\n",
       "      <td>-0.461650</td>\n",
       "      <td>-0.523559</td>\n",
       "    </tr>\n",
       "    <tr>\n",
       "      <th>45561</th>\n",
       "      <td>-0.572285</td>\n",
       "      <td>1.697673</td>\n",
       "      <td>-0.660882</td>\n",
       "      <td>-0.563012</td>\n",
       "      <td>-0.542395</td>\n",
       "      <td>-0.366237</td>\n",
       "    </tr>\n",
       "    <tr>\n",
       "      <th>36423</th>\n",
       "      <td>-0.865187</td>\n",
       "      <td>1.345704</td>\n",
       "      <td>-2.005231</td>\n",
       "      <td>-0.954555</td>\n",
       "      <td>-1.008920</td>\n",
       "      <td>-0.838204</td>\n",
       "    </tr>\n",
       "  </tbody>\n",
       "</table>\n",
       "</div>"
      ],
      "text/plain": [
       "          carat     depth     table         x         y         z\n",
       "3836   0.411030 -1.962804  0.235351  0.780692  0.677748  0.463279\n",
       "3992   0.536559 -2.385167  2.027816  0.807388  0.857181  0.506185\n",
       "42233 -0.572285 -0.625322 -0.660882 -0.474025 -0.461650 -0.523559\n",
       "45561 -0.572285  1.697673 -0.660882 -0.563012 -0.542395 -0.366237\n",
       "36423 -0.865187  1.345704 -2.005231 -0.954555 -1.008920 -0.838204"
      ]
     },
     "execution_count": 29,
     "metadata": {},
     "output_type": "execute_result"
    }
   ],
   "source": [
    "numeric_features.head()"
   ]
  },
  {
   "cell_type": "code",
   "execution_count": 30,
   "metadata": {},
   "outputs": [
    {
     "data": {
      "text/html": [
       "<div>\n",
       "<style scoped>\n",
       "    .dataframe tbody tr th:only-of-type {\n",
       "        vertical-align: middle;\n",
       "    }\n",
       "\n",
       "    .dataframe tbody tr th {\n",
       "        vertical-align: top;\n",
       "    }\n",
       "\n",
       "    .dataframe thead th {\n",
       "        text-align: right;\n",
       "    }\n",
       "</style>\n",
       "<table border=\"1\" class=\"dataframe\">\n",
       "  <thead>\n",
       "    <tr style=\"text-align: right;\">\n",
       "      <th></th>\n",
       "      <th>color</th>\n",
       "      <th>cut</th>\n",
       "      <th>clarity</th>\n",
       "    </tr>\n",
       "  </thead>\n",
       "  <tbody>\n",
       "    <tr>\n",
       "      <th>3836</th>\n",
       "      <td>4</td>\n",
       "      <td>3</td>\n",
       "      <td>1</td>\n",
       "    </tr>\n",
       "    <tr>\n",
       "      <th>3992</th>\n",
       "      <td>5</td>\n",
       "      <td>2</td>\n",
       "      <td>1</td>\n",
       "    </tr>\n",
       "    <tr>\n",
       "      <th>42233</th>\n",
       "      <td>2</td>\n",
       "      <td>2</td>\n",
       "      <td>2</td>\n",
       "    </tr>\n",
       "    <tr>\n",
       "      <th>45561</th>\n",
       "      <td>2</td>\n",
       "      <td>1</td>\n",
       "      <td>4</td>\n",
       "    </tr>\n",
       "    <tr>\n",
       "      <th>36423</th>\n",
       "      <td>3</td>\n",
       "      <td>1</td>\n",
       "      <td>3</td>\n",
       "    </tr>\n",
       "  </tbody>\n",
       "</table>\n",
       "</div>"
      ],
      "text/plain": [
       "       color  cut  clarity\n",
       "3836       4    3        1\n",
       "3992       5    2        1\n",
       "42233      2    2        2\n",
       "45561      2    1        4\n",
       "36423      3    1        3"
      ]
     },
     "execution_count": 30,
     "metadata": {},
     "output_type": "execute_result"
    }
   ],
   "source": [
    "categorical_features.head()"
   ]
  },
  {
   "cell_type": "code",
   "execution_count": 31,
   "metadata": {},
   "outputs": [
    {
     "data": {
      "text/html": [
       "<div>\n",
       "<style scoped>\n",
       "    .dataframe tbody tr th:only-of-type {\n",
       "        vertical-align: middle;\n",
       "    }\n",
       "\n",
       "    .dataframe tbody tr th {\n",
       "        vertical-align: top;\n",
       "    }\n",
       "\n",
       "    .dataframe thead th {\n",
       "        text-align: right;\n",
       "    }\n",
       "</style>\n",
       "<table border=\"1\" class=\"dataframe\">\n",
       "  <thead>\n",
       "    <tr style=\"text-align: right;\">\n",
       "      <th></th>\n",
       "      <th>0</th>\n",
       "      <th>1</th>\n",
       "      <th>2</th>\n",
       "      <th>3</th>\n",
       "      <th>4</th>\n",
       "      <th>5</th>\n",
       "      <th>6</th>\n",
       "      <th>7</th>\n",
       "      <th>8</th>\n",
       "    </tr>\n",
       "  </thead>\n",
       "  <tbody>\n",
       "    <tr>\n",
       "      <th>3836</th>\n",
       "      <td>0.411030</td>\n",
       "      <td>-1.962804</td>\n",
       "      <td>0.235351</td>\n",
       "      <td>0.780692</td>\n",
       "      <td>0.677748</td>\n",
       "      <td>0.463279</td>\n",
       "      <td>4</td>\n",
       "      <td>3</td>\n",
       "      <td>1</td>\n",
       "    </tr>\n",
       "    <tr>\n",
       "      <th>3992</th>\n",
       "      <td>0.536559</td>\n",
       "      <td>-2.385167</td>\n",
       "      <td>2.027816</td>\n",
       "      <td>0.807388</td>\n",
       "      <td>0.857181</td>\n",
       "      <td>0.506185</td>\n",
       "      <td>5</td>\n",
       "      <td>2</td>\n",
       "      <td>1</td>\n",
       "    </tr>\n",
       "    <tr>\n",
       "      <th>42233</th>\n",
       "      <td>-0.572285</td>\n",
       "      <td>-0.625322</td>\n",
       "      <td>-0.660882</td>\n",
       "      <td>-0.474025</td>\n",
       "      <td>-0.461650</td>\n",
       "      <td>-0.523559</td>\n",
       "      <td>2</td>\n",
       "      <td>2</td>\n",
       "      <td>2</td>\n",
       "    </tr>\n",
       "    <tr>\n",
       "      <th>45561</th>\n",
       "      <td>-0.572285</td>\n",
       "      <td>1.697673</td>\n",
       "      <td>-0.660882</td>\n",
       "      <td>-0.563012</td>\n",
       "      <td>-0.542395</td>\n",
       "      <td>-0.366237</td>\n",
       "      <td>2</td>\n",
       "      <td>1</td>\n",
       "      <td>4</td>\n",
       "    </tr>\n",
       "    <tr>\n",
       "      <th>36423</th>\n",
       "      <td>-0.865187</td>\n",
       "      <td>1.345704</td>\n",
       "      <td>-2.005231</td>\n",
       "      <td>-0.954555</td>\n",
       "      <td>-1.008920</td>\n",
       "      <td>-0.838204</td>\n",
       "      <td>3</td>\n",
       "      <td>1</td>\n",
       "      <td>3</td>\n",
       "    </tr>\n",
       "  </tbody>\n",
       "</table>\n",
       "</div>"
      ],
      "text/plain": [
       "              0         1         2         3         4         5  6  7  8\n",
       "3836   0.411030 -1.962804  0.235351  0.780692  0.677748  0.463279  4  3  1\n",
       "3992   0.536559 -2.385167  2.027816  0.807388  0.857181  0.506185  5  2  1\n",
       "42233 -0.572285 -0.625322 -0.660882 -0.474025 -0.461650 -0.523559  2  2  2\n",
       "45561 -0.572285  1.697673 -0.660882 -0.563012 -0.542395 -0.366237  2  1  4\n",
       "36423 -0.865187  1.345704 -2.005231 -0.954555 -1.008920 -0.838204  3  1  3"
      ]
     },
     "execution_count": 31,
     "metadata": {},
     "output_type": "execute_result"
    }
   ],
   "source": [
    "processed_features = pd.concat([numeric_features, categorical_features], axis=1,\n",
    "                               ignore_index=True, sort=False)\n",
    "\n",
    "processed_features.head()"
   ]
  },
  {
   "cell_type": "code",
   "execution_count": 32,
   "metadata": {},
   "outputs": [
    {
     "data": {
      "text/plain": [
       "(5000, 9)"
      ]
     },
     "execution_count": 32,
     "metadata": {},
     "output_type": "execute_result"
    }
   ],
   "source": [
    "processed_features.shape"
   ]
  },
  {
   "cell_type": "code",
   "execution_count": 33,
   "metadata": {},
   "outputs": [
    {
     "data": {
      "text/html": [
       "<div>\n",
       "<style scoped>\n",
       "    .dataframe tbody tr th:only-of-type {\n",
       "        vertical-align: middle;\n",
       "    }\n",
       "\n",
       "    .dataframe tbody tr th {\n",
       "        vertical-align: top;\n",
       "    }\n",
       "\n",
       "    .dataframe thead th {\n",
       "        text-align: right;\n",
       "    }\n",
       "</style>\n",
       "<table border=\"1\" class=\"dataframe\">\n",
       "  <thead>\n",
       "    <tr style=\"text-align: right;\">\n",
       "      <th></th>\n",
       "      <th>price</th>\n",
       "    </tr>\n",
       "  </thead>\n",
       "  <tbody>\n",
       "    <tr>\n",
       "      <th>3836</th>\n",
       "      <td>3472</td>\n",
       "    </tr>\n",
       "    <tr>\n",
       "      <th>3992</th>\n",
       "      <td>3515</td>\n",
       "    </tr>\n",
       "    <tr>\n",
       "      <th>42233</th>\n",
       "      <td>1291</td>\n",
       "    </tr>\n",
       "    <tr>\n",
       "      <th>45561</th>\n",
       "      <td>1688</td>\n",
       "    </tr>\n",
       "    <tr>\n",
       "      <th>36423</th>\n",
       "      <td>942</td>\n",
       "    </tr>\n",
       "    <tr>\n",
       "      <th>8418</th>\n",
       "      <td>4404</td>\n",
       "    </tr>\n",
       "    <tr>\n",
       "      <th>3551</th>\n",
       "      <td>3415</td>\n",
       "    </tr>\n",
       "    <tr>\n",
       "      <th>25151</th>\n",
       "      <td>13720</td>\n",
       "    </tr>\n",
       "    <tr>\n",
       "      <th>35069</th>\n",
       "      <td>886</td>\n",
       "    </tr>\n",
       "    <tr>\n",
       "      <th>53386</th>\n",
       "      <td>2662</td>\n",
       "    </tr>\n",
       "  </tbody>\n",
       "</table>\n",
       "</div>"
      ],
      "text/plain": [
       "       price\n",
       "3836    3472\n",
       "3992    3515\n",
       "42233   1291\n",
       "45561   1688\n",
       "36423    942\n",
       "8418    4404\n",
       "3551    3415\n",
       "25151  13720\n",
       "35069    886\n",
       "53386   2662"
      ]
     },
     "execution_count": 33,
     "metadata": {},
     "output_type": "execute_result"
    }
   ],
   "source": [
    "target.head(10)"
   ]
  },
  {
   "cell_type": "code",
   "execution_count": 34,
   "metadata": {},
   "outputs": [],
   "source": [
    "x_train, x_test, y_train, y_test = train_test_split(processed_features, \n",
    "                                                    target,\n",
    "                                                    test_size=0.2, random_state=1)"
   ]
  },
  {
   "cell_type": "code",
   "execution_count": 35,
   "metadata": {},
   "outputs": [],
   "source": [
    "x_train_tensor = torch.tensor(x_train.values, dtype = torch.float)\n",
    "x_test_tensor = torch.tensor(x_test.values, dtype = torch.float)\n",
    "\n",
    "y_train_tensor = torch.tensor(y_train.values, dtype = torch.float)\n",
    "y_test_tensor = torch.tensor(y_test.values, dtype = torch.float)"
   ]
  },
  {
   "cell_type": "code",
   "execution_count": 36,
   "metadata": {},
   "outputs": [
    {
     "data": {
      "text/plain": [
       "(torch.Size([4000, 9]), torch.Size([4000, 1]))"
      ]
     },
     "execution_count": 36,
     "metadata": {},
     "output_type": "execute_result"
    }
   ],
   "source": [
    "x_train_tensor.shape, y_train_tensor.shape"
   ]
  },
  {
   "cell_type": "code",
   "execution_count": 37,
   "metadata": {},
   "outputs": [
    {
     "data": {
      "text/plain": [
       "(torch.Size([1000, 9]), torch.Size([1000, 1]))"
      ]
     },
     "execution_count": 37,
     "metadata": {},
     "output_type": "execute_result"
    }
   ],
   "source": [
    "x_test_tensor.shape, y_test_tensor.shape"
   ]
  },
  {
   "cell_type": "code",
   "execution_count": 38,
   "metadata": {},
   "outputs": [
    {
     "data": {
      "text/plain": [
       "tensor([[-0.6141, -0.0622, -0.6609, -0.5541, -0.5334, -0.5379,  2.0000,  4.0000,\n",
       "          2.0000],\n",
       "        [ 0.4320, -2.5963,  0.6835,  0.8163,  0.7675, -5.0716,  4.0000,  3.0000,\n",
       "          0.0000],\n",
       "        [-0.5095, -0.0622, -0.6609, -0.3761, -0.4168, -0.3948,  2.0000,  4.0000,\n",
       "          4.0000],\n",
       "        [-0.4886, -2.9483,  1.1316, -0.2249, -0.2643, -0.5665,  2.0000,  1.0000,\n",
       "          5.0000],\n",
       "        [-0.4258, -0.6253, -1.1090, -0.2249, -0.2104, -0.2947,  2.0000,  4.0000,\n",
       "          3.0000]])"
      ]
     },
     "execution_count": 38,
     "metadata": {},
     "output_type": "execute_result"
    }
   ],
   "source": [
    "x_train_tensor[:5]"
   ]
  },
  {
   "cell_type": "code",
   "execution_count": 39,
   "metadata": {},
   "outputs": [
    {
     "data": {
      "text/plain": [
       "tensor([[1394.],\n",
       "        [3167.],\n",
       "        [2016.],\n",
       "        [2298.],\n",
       "        [2099.]])"
      ]
     },
     "execution_count": 39,
     "metadata": {},
     "output_type": "execute_result"
    }
   ],
   "source": [
    "y_train_tensor[:5]"
   ]
  },
  {
   "cell_type": "code",
   "execution_count": 40,
   "metadata": {},
   "outputs": [],
   "source": [
    "train_data = data_utils.TensorDataset(x_train_tensor, y_train_tensor)\n",
    "\n",
    "train_loader = data_utils.DataLoader(train_data, batch_size=500, shuffle=True)"
   ]
  },
  {
   "cell_type": "code",
   "execution_count": 41,
   "metadata": {},
   "outputs": [
    {
     "data": {
      "text/plain": [
       "8"
      ]
     },
     "execution_count": 41,
     "metadata": {},
     "output_type": "execute_result"
    }
   ],
   "source": [
    "len(train_loader)"
   ]
  },
  {
   "cell_type": "code",
   "execution_count": 42,
   "metadata": {},
   "outputs": [
    {
     "data": {
      "text/plain": [
       "torch.Size([500, 9])"
      ]
     },
     "execution_count": 42,
     "metadata": {},
     "output_type": "execute_result"
    }
   ],
   "source": [
    "features_batch, target_batch = iter(train_loader).next()\n",
    "\n",
    "features_batch.shape"
   ]
  },
  {
   "cell_type": "code",
   "execution_count": 43,
   "metadata": {},
   "outputs": [
    {
     "data": {
      "text/plain": [
       "torch.Size([500, 1])"
      ]
     },
     "execution_count": 43,
     "metadata": {},
     "output_type": "execute_result"
    }
   ],
   "source": [
    "target_batch.shape"
   ]
  },
  {
   "cell_type": "markdown",
   "metadata": {},
   "source": [
    "#### By default reduction method in loss function is 'mean'"
   ]
  },
  {
   "cell_type": "code",
   "execution_count": 44,
   "metadata": {},
   "outputs": [],
   "source": [
    "input_layer = x_train_tensor.shape[1]\n",
    "\n",
    "output_layer = 1\n",
    "\n",
    "hidden_layer = 12\n",
    "\n",
    "loss_fn = torch.nn.MSELoss()"
   ]
  },
  {
   "cell_type": "markdown",
   "metadata": {},
   "source": [
    "## Below we are building two model \n",
    "#### First we will take the first model and run the code till end then we will take the second model and run the code till end"
   ]
  },
  {
   "cell_type": "code",
   "execution_count": null,
   "metadata": {},
   "outputs": [],
   "source": [
    "# TODO recording (Step1): Model and learning rate (this should be only an ok model)\n",
    "\n",
    "model = torch.nn.Sequential(torch.nn.Linear(input_layer, hidden_layer),\n",
    "                            torch.nn.Linear(hidden_layer, output_layer))\n",
    "\n",
    "optimizer = torch.optim.Adam(model.parameters(), lr = 0.001)"
   ]
  },
  {
   "cell_type": "code",
   "execution_count": null,
   "metadata": {},
   "outputs": [],
   "source": [
    "# TODO recording (Step2): Model and learning rate (this should also be just an ok model)\n",
    "\n",
    "model = torch.nn.Sequential(torch.nn.Linear(input_layer, hidden_layer),\n",
    "                            torch.nn.ReLU(),\n",
    "                            torch.nn.Linear(hidden_layer, output_layer))\n",
    "\n",
    "optimizer = torch.optim.Adam(model.parameters(), lr = 0.001)"
   ]
  },
  {
   "cell_type": "code",
   "execution_count": null,
   "metadata": {},
   "outputs": [],
   "source": [
    "# TODO recording (Step3): Model and learning rate (only the learning rate has changed)\n",
    "# Model converges quickly\n",
    "# Because of that we'll get a very high R2, probably overfitting\n",
    "\n",
    "model = torch.nn.Sequential(torch.nn.Linear(input_layer, hidden_layer),\n",
    "                            torch.nn.ReLU(),\n",
    "                            torch.nn.Linear(hidden_layer, output_layer))\n",
    "\n",
    "optimizer = torch.optim.Adam(model.parameters(), lr = 0.01)"
   ]
  },
  {
   "cell_type": "code",
   "execution_count": 45,
   "metadata": {},
   "outputs": [],
   "source": [
    "# TODO recording (Step4): Model woth dropout and learning rate \n",
    "# The R2 should fall a little from earlier\n",
    "\n",
    "model = torch.nn.Sequential(torch.nn.Linear(input_layer, hidden_layer),\n",
    "                            torch.nn.ReLU(),\n",
    "                            torch.nn.Dropout(0.4),\n",
    "                            torch.nn.Linear(hidden_layer, output_layer))\n",
    "\n",
    "optimizer = torch.optim.Adam(model.parameters(), lr = 0.01)"
   ]
  },
  {
   "cell_type": "code",
   "execution_count": 46,
   "metadata": {},
   "outputs": [
    {
     "name": "stdout",
     "output_type": "stream",
     "text": [
      "Epoch [1/1000], Step [1/8], Loss: 31593184.0000\n",
      "Epoch [1/1000], Step [2/8], Loss: 29646156.0000\n",
      "Epoch [1/1000], Step [3/8], Loss: 33223680.0000\n",
      "Epoch [1/1000], Step [4/8], Loss: 37765876.0000\n",
      "Epoch [1/1000], Step [5/8], Loss: 27909044.0000\n",
      "Epoch [1/1000], Step [6/8], Loss: 30090096.0000\n",
      "Epoch [1/1000], Step [7/8], Loss: 34455840.0000\n",
      "Epoch [1/1000], Step [8/8], Loss: 31267908.0000\n",
      "Epoch [21/1000], Step [1/8], Loss: 26370776.0000\n",
      "Epoch [21/1000], Step [2/8], Loss: 32643120.0000\n",
      "Epoch [21/1000], Step [3/8], Loss: 24665958.0000\n",
      "Epoch [21/1000], Step [4/8], Loss: 25779564.0000\n",
      "Epoch [21/1000], Step [5/8], Loss: 27513548.0000\n",
      "Epoch [21/1000], Step [6/8], Loss: 29178674.0000\n",
      "Epoch [21/1000], Step [7/8], Loss: 22644178.0000\n",
      "Epoch [21/1000], Step [8/8], Loss: 23650214.0000\n",
      "Epoch [41/1000], Step [1/8], Loss: 16490278.0000\n",
      "Epoch [41/1000], Step [2/8], Loss: 14447814.0000\n",
      "Epoch [41/1000], Step [3/8], Loss: 13852801.0000\n",
      "Epoch [41/1000], Step [4/8], Loss: 15108703.0000\n",
      "Epoch [41/1000], Step [5/8], Loss: 17738612.0000\n",
      "Epoch [41/1000], Step [6/8], Loss: 11896244.0000\n",
      "Epoch [41/1000], Step [7/8], Loss: 10141968.0000\n",
      "Epoch [41/1000], Step [8/8], Loss: 13644264.0000\n",
      "Epoch [61/1000], Step [1/8], Loss: 7728071.0000\n",
      "Epoch [61/1000], Step [2/8], Loss: 8651676.0000\n",
      "Epoch [61/1000], Step [3/8], Loss: 7923085.5000\n",
      "Epoch [61/1000], Step [4/8], Loss: 7087092.5000\n",
      "Epoch [61/1000], Step [5/8], Loss: 6923310.5000\n",
      "Epoch [61/1000], Step [6/8], Loss: 7954343.0000\n",
      "Epoch [61/1000], Step [7/8], Loss: 7691822.0000\n",
      "Epoch [61/1000], Step [8/8], Loss: 7833329.5000\n",
      "Epoch [81/1000], Step [1/8], Loss: 5206034.0000\n",
      "Epoch [81/1000], Step [2/8], Loss: 5168845.5000\n",
      "Epoch [81/1000], Step [3/8], Loss: 5382912.5000\n",
      "Epoch [81/1000], Step [4/8], Loss: 5742229.5000\n",
      "Epoch [81/1000], Step [5/8], Loss: 7167026.5000\n",
      "Epoch [81/1000], Step [6/8], Loss: 5155160.0000\n",
      "Epoch [81/1000], Step [7/8], Loss: 6203723.0000\n",
      "Epoch [81/1000], Step [8/8], Loss: 5456045.5000\n",
      "Epoch [101/1000], Step [1/8], Loss: 4869289.0000\n",
      "Epoch [101/1000], Step [2/8], Loss: 5472105.0000\n",
      "Epoch [101/1000], Step [3/8], Loss: 3792888.5000\n",
      "Epoch [101/1000], Step [4/8], Loss: 5485861.5000\n",
      "Epoch [101/1000], Step [5/8], Loss: 4736084.5000\n",
      "Epoch [101/1000], Step [6/8], Loss: 4538675.5000\n",
      "Epoch [101/1000], Step [7/8], Loss: 4263829.0000\n",
      "Epoch [101/1000], Step [8/8], Loss: 5152154.0000\n",
      "Epoch [121/1000], Step [1/8], Loss: 4043160.0000\n",
      "Epoch [121/1000], Step [2/8], Loss: 4076186.0000\n",
      "Epoch [121/1000], Step [3/8], Loss: 3864342.5000\n",
      "Epoch [121/1000], Step [4/8], Loss: 4637359.0000\n",
      "Epoch [121/1000], Step [5/8], Loss: 3603393.0000\n",
      "Epoch [121/1000], Step [6/8], Loss: 4326901.0000\n",
      "Epoch [121/1000], Step [7/8], Loss: 4726611.0000\n",
      "Epoch [121/1000], Step [8/8], Loss: 3566036.7500\n",
      "Epoch [141/1000], Step [1/8], Loss: 3432745.7500\n",
      "Epoch [141/1000], Step [2/8], Loss: 3524824.5000\n",
      "Epoch [141/1000], Step [3/8], Loss: 4058635.5000\n",
      "Epoch [141/1000], Step [4/8], Loss: 3811713.2500\n",
      "Epoch [141/1000], Step [5/8], Loss: 4364811.5000\n",
      "Epoch [141/1000], Step [6/8], Loss: 4254881.5000\n",
      "Epoch [141/1000], Step [7/8], Loss: 3070374.2500\n",
      "Epoch [141/1000], Step [8/8], Loss: 2820824.7500\n",
      "Epoch [161/1000], Step [1/8], Loss: 3978624.2500\n",
      "Epoch [161/1000], Step [2/8], Loss: 3289863.7500\n",
      "Epoch [161/1000], Step [3/8], Loss: 3963827.2500\n",
      "Epoch [161/1000], Step [4/8], Loss: 2799916.5000\n",
      "Epoch [161/1000], Step [5/8], Loss: 3069114.2500\n",
      "Epoch [161/1000], Step [6/8], Loss: 3630895.2500\n",
      "Epoch [161/1000], Step [7/8], Loss: 3325845.7500\n",
      "Epoch [161/1000], Step [8/8], Loss: 4457662.0000\n",
      "Epoch [181/1000], Step [1/8], Loss: 3483666.0000\n",
      "Epoch [181/1000], Step [2/8], Loss: 2799213.7500\n",
      "Epoch [181/1000], Step [3/8], Loss: 3557765.0000\n",
      "Epoch [181/1000], Step [4/8], Loss: 3544765.7500\n",
      "Epoch [181/1000], Step [5/8], Loss: 3261641.7500\n",
      "Epoch [181/1000], Step [6/8], Loss: 3743466.7500\n",
      "Epoch [181/1000], Step [7/8], Loss: 3439738.2500\n",
      "Epoch [181/1000], Step [8/8], Loss: 3085634.0000\n",
      "Epoch [201/1000], Step [1/8], Loss: 2408633.7500\n",
      "Epoch [201/1000], Step [2/8], Loss: 3008210.0000\n",
      "Epoch [201/1000], Step [3/8], Loss: 2845961.2500\n",
      "Epoch [201/1000], Step [4/8], Loss: 2985316.2500\n",
      "Epoch [201/1000], Step [5/8], Loss: 2391449.5000\n",
      "Epoch [201/1000], Step [6/8], Loss: 3264326.5000\n",
      "Epoch [201/1000], Step [7/8], Loss: 2859986.5000\n",
      "Epoch [201/1000], Step [8/8], Loss: 3466301.0000\n",
      "Epoch [221/1000], Step [1/8], Loss: 2898622.0000\n",
      "Epoch [221/1000], Step [2/8], Loss: 2773802.7500\n",
      "Epoch [221/1000], Step [3/8], Loss: 3009564.2500\n",
      "Epoch [221/1000], Step [4/8], Loss: 3077138.5000\n",
      "Epoch [221/1000], Step [5/8], Loss: 2199435.5000\n",
      "Epoch [221/1000], Step [6/8], Loss: 2755257.7500\n",
      "Epoch [221/1000], Step [7/8], Loss: 3145490.0000\n",
      "Epoch [221/1000], Step [8/8], Loss: 3282200.2500\n",
      "Epoch [241/1000], Step [1/8], Loss: 2335316.2500\n",
      "Epoch [241/1000], Step [2/8], Loss: 3517839.0000\n",
      "Epoch [241/1000], Step [3/8], Loss: 2669578.7500\n",
      "Epoch [241/1000], Step [4/8], Loss: 2718230.5000\n",
      "Epoch [241/1000], Step [5/8], Loss: 2313003.5000\n",
      "Epoch [241/1000], Step [6/8], Loss: 2782949.0000\n",
      "Epoch [241/1000], Step [7/8], Loss: 2995457.2500\n",
      "Epoch [241/1000], Step [8/8], Loss: 2959379.5000\n",
      "Epoch [261/1000], Step [1/8], Loss: 2157902.0000\n",
      "Epoch [261/1000], Step [2/8], Loss: 2933337.0000\n",
      "Epoch [261/1000], Step [3/8], Loss: 2797325.0000\n",
      "Epoch [261/1000], Step [4/8], Loss: 2259174.7500\n",
      "Epoch [261/1000], Step [5/8], Loss: 2517708.7500\n",
      "Epoch [261/1000], Step [6/8], Loss: 2553915.0000\n",
      "Epoch [261/1000], Step [7/8], Loss: 3628905.0000\n",
      "Epoch [261/1000], Step [8/8], Loss: 3653450.0000\n",
      "Epoch [281/1000], Step [1/8], Loss: 2899114.0000\n",
      "Epoch [281/1000], Step [2/8], Loss: 2989964.7500\n",
      "Epoch [281/1000], Step [3/8], Loss: 2820007.5000\n",
      "Epoch [281/1000], Step [4/8], Loss: 2403290.5000\n",
      "Epoch [281/1000], Step [5/8], Loss: 3220484.5000\n",
      "Epoch [281/1000], Step [6/8], Loss: 3054459.7500\n",
      "Epoch [281/1000], Step [7/8], Loss: 2772538.0000\n",
      "Epoch [281/1000], Step [8/8], Loss: 2281005.0000\n",
      "Epoch [301/1000], Step [1/8], Loss: 2804884.7500\n",
      "Epoch [301/1000], Step [2/8], Loss: 3375320.5000\n",
      "Epoch [301/1000], Step [3/8], Loss: 2318625.2500\n",
      "Epoch [301/1000], Step [4/8], Loss: 2392476.2500\n",
      "Epoch [301/1000], Step [5/8], Loss: 2758610.5000\n",
      "Epoch [301/1000], Step [6/8], Loss: 3168252.7500\n",
      "Epoch [301/1000], Step [7/8], Loss: 2722842.5000\n",
      "Epoch [301/1000], Step [8/8], Loss: 2622358.2500\n",
      "Epoch [321/1000], Step [1/8], Loss: 2886579.5000\n",
      "Epoch [321/1000], Step [2/8], Loss: 2675830.0000\n",
      "Epoch [321/1000], Step [3/8], Loss: 2805788.0000\n",
      "Epoch [321/1000], Step [4/8], Loss: 3029955.7500\n",
      "Epoch [321/1000], Step [5/8], Loss: 2279953.0000\n",
      "Epoch [321/1000], Step [6/8], Loss: 2227885.2500\n",
      "Epoch [321/1000], Step [7/8], Loss: 2406307.7500\n",
      "Epoch [321/1000], Step [8/8], Loss: 3113053.0000\n",
      "Epoch [341/1000], Step [1/8], Loss: 2657808.5000\n",
      "Epoch [341/1000], Step [2/8], Loss: 2433182.7500\n",
      "Epoch [341/1000], Step [3/8], Loss: 2976389.7500\n",
      "Epoch [341/1000], Step [4/8], Loss: 2324581.7500\n",
      "Epoch [341/1000], Step [5/8], Loss: 2814899.2500\n",
      "Epoch [341/1000], Step [6/8], Loss: 2197264.7500\n",
      "Epoch [341/1000], Step [7/8], Loss: 2147642.0000\n",
      "Epoch [341/1000], Step [8/8], Loss: 3220269.2500\n",
      "Epoch [361/1000], Step [1/8], Loss: 2567922.2500\n",
      "Epoch [361/1000], Step [2/8], Loss: 2571927.7500\n",
      "Epoch [361/1000], Step [3/8], Loss: 2320857.0000\n",
      "Epoch [361/1000], Step [4/8], Loss: 2314369.0000\n",
      "Epoch [361/1000], Step [5/8], Loss: 2391827.2500\n",
      "Epoch [361/1000], Step [6/8], Loss: 2900430.0000\n",
      "Epoch [361/1000], Step [7/8], Loss: 2323623.5000\n",
      "Epoch [361/1000], Step [8/8], Loss: 2805966.5000\n",
      "Epoch [381/1000], Step [1/8], Loss: 2136108.2500\n",
      "Epoch [381/1000], Step [2/8], Loss: 2504046.0000\n",
      "Epoch [381/1000], Step [3/8], Loss: 2275078.7500\n",
      "Epoch [381/1000], Step [4/8], Loss: 2395609.5000\n",
      "Epoch [381/1000], Step [5/8], Loss: 2823593.7500\n",
      "Epoch [381/1000], Step [6/8], Loss: 2761688.2500\n",
      "Epoch [381/1000], Step [7/8], Loss: 2865394.0000\n",
      "Epoch [381/1000], Step [8/8], Loss: 3547346.0000\n",
      "Epoch [401/1000], Step [1/8], Loss: 2025773.6250\n",
      "Epoch [401/1000], Step [2/8], Loss: 2405833.5000\n",
      "Epoch [401/1000], Step [3/8], Loss: 2867054.2500\n",
      "Epoch [401/1000], Step [4/8], Loss: 2947576.5000\n",
      "Epoch [401/1000], Step [5/8], Loss: 3456194.5000\n",
      "Epoch [401/1000], Step [6/8], Loss: 2797369.7500\n",
      "Epoch [401/1000], Step [7/8], Loss: 2588436.7500\n",
      "Epoch [401/1000], Step [8/8], Loss: 3015937.0000\n"
     ]
    },
    {
     "name": "stdout",
     "output_type": "stream",
     "text": [
      "Epoch [421/1000], Step [1/8], Loss: 2672807.0000\n",
      "Epoch [421/1000], Step [2/8], Loss: 2667900.0000\n",
      "Epoch [421/1000], Step [3/8], Loss: 2885926.2500\n",
      "Epoch [421/1000], Step [4/8], Loss: 3140932.2500\n",
      "Epoch [421/1000], Step [5/8], Loss: 1979955.3750\n",
      "Epoch [421/1000], Step [6/8], Loss: 2839524.0000\n",
      "Epoch [421/1000], Step [7/8], Loss: 2266067.5000\n",
      "Epoch [421/1000], Step [8/8], Loss: 3753441.0000\n",
      "Epoch [441/1000], Step [1/8], Loss: 3246377.5000\n",
      "Epoch [441/1000], Step [2/8], Loss: 2579355.0000\n",
      "Epoch [441/1000], Step [3/8], Loss: 2395441.2500\n",
      "Epoch [441/1000], Step [4/8], Loss: 2126311.5000\n",
      "Epoch [441/1000], Step [5/8], Loss: 2400702.5000\n",
      "Epoch [441/1000], Step [6/8], Loss: 2934996.5000\n",
      "Epoch [441/1000], Step [7/8], Loss: 2558537.0000\n",
      "Epoch [441/1000], Step [8/8], Loss: 2467459.0000\n",
      "Epoch [461/1000], Step [1/8], Loss: 2665732.2500\n",
      "Epoch [461/1000], Step [2/8], Loss: 2621342.5000\n",
      "Epoch [461/1000], Step [3/8], Loss: 3034745.0000\n",
      "Epoch [461/1000], Step [4/8], Loss: 2481983.5000\n",
      "Epoch [461/1000], Step [5/8], Loss: 2496031.0000\n",
      "Epoch [461/1000], Step [6/8], Loss: 2522949.5000\n",
      "Epoch [461/1000], Step [7/8], Loss: 2459961.7500\n",
      "Epoch [461/1000], Step [8/8], Loss: 2572587.5000\n",
      "Epoch [481/1000], Step [1/8], Loss: 2608382.2500\n",
      "Epoch [481/1000], Step [2/8], Loss: 2047680.7500\n",
      "Epoch [481/1000], Step [3/8], Loss: 2704330.0000\n",
      "Epoch [481/1000], Step [4/8], Loss: 2434973.2500\n",
      "Epoch [481/1000], Step [5/8], Loss: 2371162.5000\n",
      "Epoch [481/1000], Step [6/8], Loss: 2487957.2500\n",
      "Epoch [481/1000], Step [7/8], Loss: 2449730.7500\n",
      "Epoch [481/1000], Step [8/8], Loss: 3118269.5000\n",
      "Epoch [501/1000], Step [1/8], Loss: 3614610.5000\n",
      "Epoch [501/1000], Step [2/8], Loss: 2252696.0000\n",
      "Epoch [501/1000], Step [3/8], Loss: 2877719.2500\n",
      "Epoch [501/1000], Step [4/8], Loss: 2569789.5000\n",
      "Epoch [501/1000], Step [5/8], Loss: 2716052.2500\n",
      "Epoch [501/1000], Step [6/8], Loss: 1452907.2500\n",
      "Epoch [501/1000], Step [7/8], Loss: 2881270.7500\n",
      "Epoch [501/1000], Step [8/8], Loss: 2832228.7500\n",
      "Epoch [521/1000], Step [1/8], Loss: 3246231.5000\n",
      "Epoch [521/1000], Step [2/8], Loss: 3239029.0000\n",
      "Epoch [521/1000], Step [3/8], Loss: 2681595.7500\n",
      "Epoch [521/1000], Step [4/8], Loss: 2374146.5000\n",
      "Epoch [521/1000], Step [5/8], Loss: 2603648.2500\n",
      "Epoch [521/1000], Step [6/8], Loss: 3230453.2500\n",
      "Epoch [521/1000], Step [7/8], Loss: 2877895.2500\n",
      "Epoch [521/1000], Step [8/8], Loss: 3256816.7500\n",
      "Epoch [541/1000], Step [1/8], Loss: 3631079.2500\n",
      "Epoch [541/1000], Step [2/8], Loss: 2749784.2500\n",
      "Epoch [541/1000], Step [3/8], Loss: 2436973.7500\n",
      "Epoch [541/1000], Step [4/8], Loss: 3220461.7500\n",
      "Epoch [541/1000], Step [5/8], Loss: 2744337.5000\n",
      "Epoch [541/1000], Step [6/8], Loss: 2541308.0000\n",
      "Epoch [541/1000], Step [7/8], Loss: 2334024.0000\n",
      "Epoch [541/1000], Step [8/8], Loss: 2481601.0000\n",
      "Epoch [561/1000], Step [1/8], Loss: 3042763.7500\n",
      "Epoch [561/1000], Step [2/8], Loss: 2417477.7500\n",
      "Epoch [561/1000], Step [3/8], Loss: 2597010.5000\n",
      "Epoch [561/1000], Step [4/8], Loss: 3194216.5000\n",
      "Epoch [561/1000], Step [5/8], Loss: 2715909.5000\n",
      "Epoch [561/1000], Step [6/8], Loss: 2344426.0000\n",
      "Epoch [561/1000], Step [7/8], Loss: 2379085.2500\n",
      "Epoch [561/1000], Step [8/8], Loss: 2909602.0000\n",
      "Epoch [581/1000], Step [1/8], Loss: 2544270.2500\n",
      "Epoch [581/1000], Step [2/8], Loss: 2366500.7500\n",
      "Epoch [581/1000], Step [3/8], Loss: 2782746.5000\n",
      "Epoch [581/1000], Step [4/8], Loss: 2764130.2500\n",
      "Epoch [581/1000], Step [5/8], Loss: 2430684.0000\n",
      "Epoch [581/1000], Step [6/8], Loss: 2852954.5000\n",
      "Epoch [581/1000], Step [7/8], Loss: 2503848.7500\n",
      "Epoch [581/1000], Step [8/8], Loss: 2790179.5000\n",
      "Epoch [601/1000], Step [1/8], Loss: 3190980.2500\n",
      "Epoch [601/1000], Step [2/8], Loss: 2698914.2500\n",
      "Epoch [601/1000], Step [3/8], Loss: 2960971.7500\n",
      "Epoch [601/1000], Step [4/8], Loss: 2681286.2500\n",
      "Epoch [601/1000], Step [5/8], Loss: 2560253.0000\n",
      "Epoch [601/1000], Step [6/8], Loss: 2778638.2500\n",
      "Epoch [601/1000], Step [7/8], Loss: 2534147.0000\n",
      "Epoch [601/1000], Step [8/8], Loss: 3103599.0000\n",
      "Epoch [621/1000], Step [1/8], Loss: 2003255.8750\n",
      "Epoch [621/1000], Step [2/8], Loss: 2893884.0000\n",
      "Epoch [621/1000], Step [3/8], Loss: 2711249.7500\n",
      "Epoch [621/1000], Step [4/8], Loss: 2645803.2500\n",
      "Epoch [621/1000], Step [5/8], Loss: 2341875.2500\n",
      "Epoch [621/1000], Step [6/8], Loss: 2691995.5000\n",
      "Epoch [621/1000], Step [7/8], Loss: 2602209.7500\n",
      "Epoch [621/1000], Step [8/8], Loss: 2598833.7500\n",
      "Epoch [641/1000], Step [1/8], Loss: 2142099.0000\n",
      "Epoch [641/1000], Step [2/8], Loss: 2849083.0000\n",
      "Epoch [641/1000], Step [3/8], Loss: 2971212.5000\n",
      "Epoch [641/1000], Step [4/8], Loss: 2796351.2500\n",
      "Epoch [641/1000], Step [5/8], Loss: 2685170.5000\n",
      "Epoch [641/1000], Step [6/8], Loss: 2609173.0000\n",
      "Epoch [641/1000], Step [7/8], Loss: 1843939.5000\n",
      "Epoch [641/1000], Step [8/8], Loss: 2952584.2500\n",
      "Epoch [661/1000], Step [1/8], Loss: 3031768.7500\n",
      "Epoch [661/1000], Step [2/8], Loss: 2307955.2500\n",
      "Epoch [661/1000], Step [3/8], Loss: 2298406.0000\n",
      "Epoch [661/1000], Step [4/8], Loss: 2475973.5000\n",
      "Epoch [661/1000], Step [5/8], Loss: 2905893.5000\n",
      "Epoch [661/1000], Step [6/8], Loss: 2836505.5000\n",
      "Epoch [661/1000], Step [7/8], Loss: 2753436.2500\n",
      "Epoch [661/1000], Step [8/8], Loss: 2561802.0000\n",
      "Epoch [681/1000], Step [1/8], Loss: 2067549.0000\n",
      "Epoch [681/1000], Step [2/8], Loss: 2306621.7500\n",
      "Epoch [681/1000], Step [3/8], Loss: 2750475.2500\n",
      "Epoch [681/1000], Step [4/8], Loss: 2583116.0000\n",
      "Epoch [681/1000], Step [5/8], Loss: 2058392.3750\n",
      "Epoch [681/1000], Step [6/8], Loss: 1964266.5000\n",
      "Epoch [681/1000], Step [7/8], Loss: 2242280.5000\n",
      "Epoch [681/1000], Step [8/8], Loss: 2702742.2500\n",
      "Epoch [701/1000], Step [1/8], Loss: 2602503.2500\n",
      "Epoch [701/1000], Step [2/8], Loss: 2552241.2500\n",
      "Epoch [701/1000], Step [3/8], Loss: 2855795.2500\n",
      "Epoch [701/1000], Step [4/8], Loss: 3438071.2500\n",
      "Epoch [701/1000], Step [5/8], Loss: 2770803.2500\n",
      "Epoch [701/1000], Step [6/8], Loss: 2947395.5000\n",
      "Epoch [701/1000], Step [7/8], Loss: 2730026.0000\n",
      "Epoch [701/1000], Step [8/8], Loss: 2697439.5000\n",
      "Epoch [721/1000], Step [1/8], Loss: 2644902.7500\n",
      "Epoch [721/1000], Step [2/8], Loss: 2041452.0000\n",
      "Epoch [721/1000], Step [3/8], Loss: 2415190.2500\n",
      "Epoch [721/1000], Step [4/8], Loss: 3747018.2500\n",
      "Epoch [721/1000], Step [5/8], Loss: 2402870.5000\n",
      "Epoch [721/1000], Step [6/8], Loss: 2231591.0000\n",
      "Epoch [721/1000], Step [7/8], Loss: 2749992.0000\n",
      "Epoch [721/1000], Step [8/8], Loss: 2313216.7500\n",
      "Epoch [741/1000], Step [1/8], Loss: 2915966.5000\n",
      "Epoch [741/1000], Step [2/8], Loss: 3427305.7500\n",
      "Epoch [741/1000], Step [3/8], Loss: 2359647.7500\n",
      "Epoch [741/1000], Step [4/8], Loss: 3287926.7500\n",
      "Epoch [741/1000], Step [5/8], Loss: 2800584.7500\n",
      "Epoch [741/1000], Step [6/8], Loss: 2192851.0000\n",
      "Epoch [741/1000], Step [7/8], Loss: 2606390.7500\n",
      "Epoch [741/1000], Step [8/8], Loss: 2569449.7500\n",
      "Epoch [761/1000], Step [1/8], Loss: 2297868.2500\n",
      "Epoch [761/1000], Step [2/8], Loss: 2781059.2500\n",
      "Epoch [761/1000], Step [3/8], Loss: 3331103.5000\n",
      "Epoch [761/1000], Step [4/8], Loss: 2954414.0000\n",
      "Epoch [761/1000], Step [5/8], Loss: 2336494.0000\n",
      "Epoch [761/1000], Step [6/8], Loss: 3207238.5000\n",
      "Epoch [761/1000], Step [7/8], Loss: 2218535.7500\n",
      "Epoch [761/1000], Step [8/8], Loss: 2282363.7500\n",
      "Epoch [781/1000], Step [1/8], Loss: 2135521.0000\n",
      "Epoch [781/1000], Step [2/8], Loss: 2773893.0000\n",
      "Epoch [781/1000], Step [3/8], Loss: 2909867.7500\n",
      "Epoch [781/1000], Step [4/8], Loss: 2553931.5000\n",
      "Epoch [781/1000], Step [5/8], Loss: 2674515.0000\n",
      "Epoch [781/1000], Step [6/8], Loss: 1739027.7500\n",
      "Epoch [781/1000], Step [7/8], Loss: 2155275.0000\n",
      "Epoch [781/1000], Step [8/8], Loss: 4506894.0000\n",
      "Epoch [801/1000], Step [1/8], Loss: 2076776.5000\n",
      "Epoch [801/1000], Step [2/8], Loss: 2393779.0000\n",
      "Epoch [801/1000], Step [3/8], Loss: 3005233.2500\n",
      "Epoch [801/1000], Step [4/8], Loss: 2998407.2500\n",
      "Epoch [801/1000], Step [5/8], Loss: 2184977.5000\n",
      "Epoch [801/1000], Step [6/8], Loss: 2373367.5000\n",
      "Epoch [801/1000], Step [7/8], Loss: 2271393.2500\n",
      "Epoch [801/1000], Step [8/8], Loss: 1914433.7500\n",
      "Epoch [821/1000], Step [1/8], Loss: 2559784.2500\n",
      "Epoch [821/1000], Step [2/8], Loss: 1820845.5000\n",
      "Epoch [821/1000], Step [3/8], Loss: 2877249.2500\n",
      "Epoch [821/1000], Step [4/8], Loss: 2594962.0000\n",
      "Epoch [821/1000], Step [5/8], Loss: 3227624.5000\n",
      "Epoch [821/1000], Step [6/8], Loss: 2164310.0000\n",
      "Epoch [821/1000], Step [7/8], Loss: 2769574.2500\n",
      "Epoch [821/1000], Step [8/8], Loss: 2380600.0000\n"
     ]
    },
    {
     "name": "stdout",
     "output_type": "stream",
     "text": [
      "Epoch [841/1000], Step [1/8], Loss: 2664317.0000\n",
      "Epoch [841/1000], Step [2/8], Loss: 2618974.2500\n",
      "Epoch [841/1000], Step [3/8], Loss: 2875899.2500\n",
      "Epoch [841/1000], Step [4/8], Loss: 2477230.7500\n",
      "Epoch [841/1000], Step [5/8], Loss: 2481770.5000\n",
      "Epoch [841/1000], Step [6/8], Loss: 2111565.0000\n",
      "Epoch [841/1000], Step [7/8], Loss: 2904464.7500\n",
      "Epoch [841/1000], Step [8/8], Loss: 2370710.0000\n",
      "Epoch [861/1000], Step [1/8], Loss: 3294765.5000\n",
      "Epoch [861/1000], Step [2/8], Loss: 1489404.3750\n",
      "Epoch [861/1000], Step [3/8], Loss: 2428727.0000\n",
      "Epoch [861/1000], Step [4/8], Loss: 2214779.2500\n",
      "Epoch [861/1000], Step [5/8], Loss: 2581779.7500\n",
      "Epoch [861/1000], Step [6/8], Loss: 2349783.2500\n",
      "Epoch [861/1000], Step [7/8], Loss: 2395730.2500\n",
      "Epoch [861/1000], Step [8/8], Loss: 3674638.7500\n",
      "Epoch [881/1000], Step [1/8], Loss: 2251622.2500\n",
      "Epoch [881/1000], Step [2/8], Loss: 2861092.5000\n",
      "Epoch [881/1000], Step [3/8], Loss: 2886216.7500\n",
      "Epoch [881/1000], Step [4/8], Loss: 2201825.0000\n",
      "Epoch [881/1000], Step [5/8], Loss: 2789868.5000\n",
      "Epoch [881/1000], Step [6/8], Loss: 3208486.7500\n",
      "Epoch [881/1000], Step [7/8], Loss: 3139145.2500\n",
      "Epoch [881/1000], Step [8/8], Loss: 2772420.5000\n",
      "Epoch [901/1000], Step [1/8], Loss: 2904579.0000\n",
      "Epoch [901/1000], Step [2/8], Loss: 2862931.0000\n",
      "Epoch [901/1000], Step [3/8], Loss: 2508906.2500\n",
      "Epoch [901/1000], Step [4/8], Loss: 2301861.5000\n",
      "Epoch [901/1000], Step [5/8], Loss: 1910346.7500\n",
      "Epoch [901/1000], Step [6/8], Loss: 2325516.0000\n",
      "Epoch [901/1000], Step [7/8], Loss: 3030695.7500\n",
      "Epoch [901/1000], Step [8/8], Loss: 2992862.0000\n",
      "Epoch [921/1000], Step [1/8], Loss: 3060966.5000\n",
      "Epoch [921/1000], Step [2/8], Loss: 2255179.0000\n",
      "Epoch [921/1000], Step [3/8], Loss: 2365992.7500\n",
      "Epoch [921/1000], Step [4/8], Loss: 2979563.0000\n",
      "Epoch [921/1000], Step [5/8], Loss: 2563582.7500\n",
      "Epoch [921/1000], Step [6/8], Loss: 1966899.6250\n",
      "Epoch [921/1000], Step [7/8], Loss: 1770776.6250\n",
      "Epoch [921/1000], Step [8/8], Loss: 2217670.2500\n",
      "Epoch [941/1000], Step [1/8], Loss: 2170659.5000\n",
      "Epoch [941/1000], Step [2/8], Loss: 2107132.5000\n",
      "Epoch [941/1000], Step [3/8], Loss: 3488667.7500\n",
      "Epoch [941/1000], Step [4/8], Loss: 2470372.7500\n",
      "Epoch [941/1000], Step [5/8], Loss: 2515433.0000\n",
      "Epoch [941/1000], Step [6/8], Loss: 2610779.2500\n",
      "Epoch [941/1000], Step [7/8], Loss: 2316957.7500\n",
      "Epoch [941/1000], Step [8/8], Loss: 3090709.7500\n",
      "Epoch [961/1000], Step [1/8], Loss: 2370685.7500\n",
      "Epoch [961/1000], Step [2/8], Loss: 2318351.2500\n",
      "Epoch [961/1000], Step [3/8], Loss: 2078252.2500\n",
      "Epoch [961/1000], Step [4/8], Loss: 2472315.5000\n",
      "Epoch [961/1000], Step [5/8], Loss: 2810673.5000\n",
      "Epoch [961/1000], Step [6/8], Loss: 2927144.7500\n",
      "Epoch [961/1000], Step [7/8], Loss: 3368024.7500\n",
      "Epoch [961/1000], Step [8/8], Loss: 3613937.5000\n",
      "Epoch [981/1000], Step [1/8], Loss: 2183384.2500\n",
      "Epoch [981/1000], Step [2/8], Loss: 2367128.5000\n",
      "Epoch [981/1000], Step [3/8], Loss: 2642853.7500\n",
      "Epoch [981/1000], Step [4/8], Loss: 2896956.0000\n",
      "Epoch [981/1000], Step [5/8], Loss: 2847108.2500\n",
      "Epoch [981/1000], Step [6/8], Loss: 2384728.5000\n",
      "Epoch [981/1000], Step [7/8], Loss: 3240203.5000\n",
      "Epoch [981/1000], Step [8/8], Loss: 2328488.2500\n",
      "Epoch [1001/1000], Step [1/8], Loss: 2576690.5000\n",
      "Epoch [1001/1000], Step [2/8], Loss: 2650284.2500\n",
      "Epoch [1001/1000], Step [3/8], Loss: 1975548.1250\n",
      "Epoch [1001/1000], Step [4/8], Loss: 2463035.5000\n",
      "Epoch [1001/1000], Step [5/8], Loss: 2755353.5000\n",
      "Epoch [1001/1000], Step [6/8], Loss: 3107944.5000\n",
      "Epoch [1001/1000], Step [7/8], Loss: 3684978.0000\n",
      "Epoch [1001/1000], Step [8/8], Loss: 2520782.5000\n"
     ]
    }
   ],
   "source": [
    "total_step = len(train_loader)\n",
    "\n",
    "num_epochs = 1000\n",
    "\n",
    "for epoch in range(num_epochs + 1):\n",
    "    for i, (features, target) in enumerate(train_loader):\n",
    "        output = model(features)\n",
    "        loss = loss_fn(output, target)\n",
    "        \n",
    "        optimizer.zero_grad()\n",
    "        \n",
    "        loss.backward()\n",
    "        \n",
    "        optimizer.step()\n",
    "        \n",
    "        if epoch % 20 == 0:\n",
    "            print('Epoch [{}/{}], Step [{}/{}], Loss: {:.4f}'\n",
    "                  .format(epoch+1, num_epochs, i+1, total_step, loss.item()), flush=True)"
   ]
  },
  {
   "cell_type": "code",
   "execution_count": 47,
   "metadata": {},
   "outputs": [],
   "source": [
    "model.eval()\n",
    "\n",
    "with torch.no_grad():\n",
    "    y_pred = model(x_test_tensor)"
   ]
  },
  {
   "cell_type": "code",
   "execution_count": 48,
   "metadata": {},
   "outputs": [
    {
     "name": "stdout",
     "output_type": "stream",
     "text": [
      "Predicted price:  3406.253662109375\n",
      "Actual price:  price    4124\n",
      "Name: 6846, dtype: int64\n"
     ]
    }
   ],
   "source": [
    "sample = x_test.iloc[10]\n",
    "\n",
    "sample_tensor = torch.tensor(sample.values,\n",
    "                             dtype = torch.float)\n",
    "\n",
    "with torch.no_grad():\n",
    "    y_pred = model(sample_tensor)\n",
    "    \n",
    "print(\"Predicted price: \", (y_pred.item()))\n",
    "print(\"Actual price: \", (y_test.iloc[10]))"
   ]
  },
  {
   "cell_type": "code",
   "execution_count": 49,
   "metadata": {},
   "outputs": [
    {
     "name": "stdout",
     "output_type": "stream",
     "text": [
      "Predicted price:  12172.017578125\n",
      "Actual price:  price    14482\n",
      "Name: 25613, dtype: int64\n"
     ]
    }
   ],
   "source": [
    "sample = x_test.iloc[20]\n",
    "\n",
    "sample_tensor = torch.tensor(sample.values,\n",
    "                             dtype = torch.float)\n",
    "\n",
    "with torch.no_grad():\n",
    "    y_pred = model(sample_tensor)\n",
    "    \n",
    "print(\"Predicted price: \", (y_pred.item()))\n",
    "print(\"Actual price: \", (y_test.iloc[20]))"
   ]
  },
  {
   "cell_type": "code",
   "execution_count": 50,
   "metadata": {},
   "outputs": [],
   "source": [
    "with torch.no_grad():\n",
    "    y_pred_tensor = model(x_test_tensor)"
   ]
  },
  {
   "cell_type": "code",
   "execution_count": 51,
   "metadata": {},
   "outputs": [
    {
     "data": {
      "text/plain": [
       "(1000, 1)"
      ]
     },
     "execution_count": 51,
     "metadata": {},
     "output_type": "execute_result"
    }
   ],
   "source": [
    "y_pred = y_pred_tensor.detach().numpy()\n",
    "\n",
    "y_pred.shape"
   ]
  },
  {
   "cell_type": "code",
   "execution_count": 52,
   "metadata": {},
   "outputs": [
    {
     "data": {
      "text/plain": [
       "(1000, 1)"
      ]
     },
     "execution_count": 52,
     "metadata": {},
     "output_type": "execute_result"
    }
   ],
   "source": [
    "y_test.values.shape"
   ]
  },
  {
   "cell_type": "code",
   "execution_count": 53,
   "metadata": {},
   "outputs": [
    {
     "data": {
      "text/html": [
       "<div>\n",
       "<style scoped>\n",
       "    .dataframe tbody tr th:only-of-type {\n",
       "        vertical-align: middle;\n",
       "    }\n",
       "\n",
       "    .dataframe tbody tr th {\n",
       "        vertical-align: top;\n",
       "    }\n",
       "\n",
       "    .dataframe thead th {\n",
       "        text-align: right;\n",
       "    }\n",
       "</style>\n",
       "<table border=\"1\" class=\"dataframe\">\n",
       "  <thead>\n",
       "    <tr style=\"text-align: right;\">\n",
       "      <th></th>\n",
       "      <th>Actual price</th>\n",
       "      <th>Predicted price</th>\n",
       "    </tr>\n",
       "  </thead>\n",
       "  <tbody>\n",
       "    <tr>\n",
       "      <th>374</th>\n",
       "      <td>7351</td>\n",
       "      <td>6864.920898</td>\n",
       "    </tr>\n",
       "    <tr>\n",
       "      <th>568</th>\n",
       "      <td>900</td>\n",
       "      <td>510.253967</td>\n",
       "    </tr>\n",
       "    <tr>\n",
       "      <th>543</th>\n",
       "      <td>597</td>\n",
       "      <td>379.419952</td>\n",
       "    </tr>\n",
       "    <tr>\n",
       "      <th>82</th>\n",
       "      <td>16854</td>\n",
       "      <td>15526.008789</td>\n",
       "    </tr>\n",
       "    <tr>\n",
       "      <th>347</th>\n",
       "      <td>2338</td>\n",
       "      <td>1385.742798</td>\n",
       "    </tr>\n",
       "    <tr>\n",
       "      <th>431</th>\n",
       "      <td>17658</td>\n",
       "      <td>15031.387695</td>\n",
       "    </tr>\n",
       "    <tr>\n",
       "      <th>482</th>\n",
       "      <td>3394</td>\n",
       "      <td>2471.397461</td>\n",
       "    </tr>\n",
       "    <tr>\n",
       "      <th>448</th>\n",
       "      <td>709</td>\n",
       "      <td>515.012329</td>\n",
       "    </tr>\n",
       "    <tr>\n",
       "      <th>202</th>\n",
       "      <td>4797</td>\n",
       "      <td>4387.099121</td>\n",
       "    </tr>\n",
       "    <tr>\n",
       "      <th>690</th>\n",
       "      <td>5019</td>\n",
       "      <td>4763.947266</td>\n",
       "    </tr>\n",
       "  </tbody>\n",
       "</table>\n",
       "</div>"
      ],
      "text/plain": [
       "     Actual price  Predicted price\n",
       "374          7351      6864.920898\n",
       "568           900       510.253967\n",
       "543           597       379.419952\n",
       "82          16854     15526.008789\n",
       "347          2338      1385.742798\n",
       "431         17658     15031.387695\n",
       "482          3394      2471.397461\n",
       "448           709       515.012329\n",
       "202          4797      4387.099121\n",
       "690          5019      4763.947266"
      ]
     },
     "execution_count": 53,
     "metadata": {},
     "output_type": "execute_result"
    }
   ],
   "source": [
    "compare_df = pd.DataFrame({'Actual price': np.squeeze(y_test.values), \n",
    "                           'Predicted price': np.squeeze(y_pred)})\n",
    "\n",
    "compare_df.sample(10)"
   ]
  },
  {
   "cell_type": "code",
   "execution_count": 54,
   "metadata": {},
   "outputs": [
    {
     "data": {
      "text/plain": [
       "0.9338853210436859"
      ]
     },
     "execution_count": 54,
     "metadata": {},
     "output_type": "execute_result"
    }
   ],
   "source": [
    "r2_score(y_test, y_pred)"
   ]
  },
  {
   "cell_type": "code",
   "execution_count": 55,
   "metadata": {},
   "outputs": [
    {
     "data": {
      "image/png": "[encoded data removed]",
      "text/plain": [
       "<Figure size 720x576 with 1 Axes>"
      ]
     },
     "metadata": {
      "needs_background": "light"
     },
     "output_type": "display_data"
    }
   ],
   "source": [
    "plt.figure(figsize=(10, 8))\n",
    "\n",
    "plt.scatter(y_pred, y_test.values, s=200)\n",
    "\n",
    "plt.xlabel('Actual price')\n",
    "plt.ylabel('Predicted price')\n",
    "\n",
    "plt.show()"
   ]
  },
  {
   "cell_type": "code",
   "execution_count": null,
   "metadata": {},
   "outputs": [],
   "source": []
  },
  {
   "cell_type": "code",
   "execution_count": null,
   "metadata": {},
   "outputs": [],
   "source": []
  },
  {
   "cell_type": "code",
   "execution_count": null,
   "metadata": {},
   "outputs": [],
   "source": []
  },
  {
   "cell_type": "code",
   "execution_count": null,
   "metadata": {},
   "outputs": [],
   "source": []
  },
  {
   "cell_type": "code",
   "execution_count": null,
   "metadata": {},
   "outputs": [],
   "source": []
  },
  {
   "cell_type": "code",
   "execution_count": null,
   "metadata": {},
   "outputs": [],
   "source": []
  },
  {
   "cell_type": "code",
   "execution_count": null,
   "metadata": {},
   "outputs": [],
   "source": []
  },
  {
   "cell_type": "code",
   "execution_count": null,
   "metadata": {},
   "outputs": [],
   "source": []
  },
  {
   "cell_type": "code",
   "execution_count": null,
   "metadata": {},
   "outputs": [],
   "source": []
  },
  {
   "cell_type": "code",
   "execution_count": null,
   "metadata": {},
   "outputs": [],
   "source": []
  },
  {
   "cell_type": "code",
   "execution_count": null,
   "metadata": {},
   "outputs": [],
   "source": []
  },
  {
   "cell_type": "code",
   "execution_count": null,
   "metadata": {},
   "outputs": [],
   "source": []
  },
  {
   "cell_type": "code",
   "execution_count": null,
   "metadata": {},
   "outputs": [],
   "source": []
  },
  {
   "cell_type": "code",
   "execution_count": null,
   "metadata": {},
   "outputs": [],
   "source": []
  },
  {
   "cell_type": "code",
   "execution_count": null,
   "metadata": {},
   "outputs": [],
   "source": []
  },
  {
   "cell_type": "code",
   "execution_count": null,
   "metadata": {},
   "outputs": [],
   "source": []
  },
  {
   "cell_type": "code",
   "execution_count": null,
   "metadata": {},
   "outputs": [],
   "source": []
  },
  {
   "cell_type": "code",
   "execution_count": null,
   "metadata": {},
   "outputs": [],
   "source": []
  },
  {
   "cell_type": "code",
   "execution_count": null,
   "metadata": {},
   "outputs": [],
   "source": []
  },
  {
   "cell_type": "code",
   "execution_count": null,
   "metadata": {},
   "outputs": [],
   "source": []
  },
  {
   "cell_type": "code",
   "execution_count": null,
   "metadata": {},
   "outputs": [],
   "source": []
  },
  {
   "cell_type": "code",
   "execution_count": null,
   "metadata": {},
   "outputs": [],
   "source": []
  },
  {
   "cell_type": "code",
   "execution_count": null,
   "metadata": {},
   "outputs": [],
   "source": []
  },
  {
   "cell_type": "code",
   "execution_count": null,
   "metadata": {},
   "outputs": [],
   "source": []
  },
  {
   "cell_type": "code",
   "execution_count": null,
   "metadata": {},
   "outputs": [],
   "source": []
  },
  {
   "cell_type": "code",
   "execution_count": null,
   "metadata": {},
   "outputs": [],
   "source": []
  },
  {
   "cell_type": "code",
   "execution_count": null,
   "metadata": {},
   "outputs": [],
   "source": []
  },
  {
   "cell_type": "code",
   "execution_count": null,
   "metadata": {},
   "outputs": [],
   "source": []
  },
  {
   "cell_type": "code",
   "execution_count": null,
   "metadata": {},
   "outputs": [],
   "source": []
  },
  {
   "cell_type": "code",
   "execution_count": null,
   "metadata": {},
   "outputs": [],
   "source": []
  },
  {
   "cell_type": "code",
   "execution_count": null,
   "metadata": {},
   "outputs": [],
   "source": []
  },
  {
   "cell_type": "code",
   "execution_count": null,
   "metadata": {},
   "outputs": [],
   "source": []
  },
  {
   "cell_type": "code",
   "execution_count": null,
   "metadata": {},
   "outputs": [],
   "source": []
  },
  {
   "cell_type": "code",
   "execution_count": null,
   "metadata": {},
   "outputs": [],
   "source": []
  },
  {
   "cell_type": "code",
   "execution_count": null,
   "metadata": {},
   "outputs": [],
   "source": []
  },
  {
   "cell_type": "code",
   "execution_count": null,
   "metadata": {},
   "outputs": [],
   "source": []
  },
  {
   "cell_type": "code",
   "execution_count": null,
   "metadata": {},
   "outputs": [],
   "source": []
  },
  {
   "cell_type": "code",
   "execution_count": null,
   "metadata": {},
   "outputs": [],
   "source": []
  },
  {
   "cell_type": "code",
   "execution_count": null,
   "metadata": {},
   "outputs": [],
   "source": []
  },
  {
   "cell_type": "code",
   "execution_count": null,
   "metadata": {},
   "outputs": [],
   "source": []
  },
  {
   "cell_type": "code",
   "execution_count": null,
   "metadata": {},
   "outputs": [],
   "source": []
  },
  {
   "cell_type": "code",
   "execution_count": null,
   "metadata": {},
   "outputs": [],
   "source": []
  },
  {
   "cell_type": "code",
   "execution_count": null,
   "metadata": {},
   "outputs": [],
   "source": []
  },
  {
   "cell_type": "code",
   "execution_count": null,
   "metadata": {},
   "outputs": [],
   "source": []
  },
  {
   "cell_type": "code",
   "execution_count": null,
   "metadata": {},
   "outputs": [],
   "source": []
  },
  {
   "cell_type": "code",
   "execution_count": null,
   "metadata": {},
   "outputs": [],
   "source": []
  },
  {
   "cell_type": "code",
   "execution_count": null,
   "metadata": {},
   "outputs": [],
   "source": []
  },
  {
   "cell_type": "code",
   "execution_count": null,
   "metadata": {},
   "outputs": [],
   "source": []
  },
  {
   "cell_type": "code",
   "execution_count": null,
   "metadata": {},
   "outputs": [],
   "source": []
  },
  {
   "cell_type": "code",
   "execution_count": null,
   "metadata": {},
   "outputs": [],
   "source": []
  },
  {
   "cell_type": "code",
   "execution_count": null,
   "metadata": {},
   "outputs": [],
   "source": []
  },
  {
   "cell_type": "code",
   "execution_count": null,
   "metadata": {},
   "outputs": [],
   "source": []
  },
  {
   "cell_type": "code",
   "execution_count": null,
   "metadata": {},
   "outputs": [],
   "source": []
  },
  {
   "cell_type": "code",
   "execution_count": null,
   "metadata": {},
   "outputs": [],
   "source": []
  },
  {
   "cell_type": "code",
   "execution_count": null,
   "metadata": {},
   "outputs": [],
   "source": []
  },
  {
   "cell_type": "code",
   "execution_count": null,
   "metadata": {},
   "outputs": [],
   "source": []
  },
  {
   "cell_type": "code",
   "execution_count": null,
   "metadata": {},
   "outputs": [],
   "source": []
  },
  {
   "cell_type": "code",
   "execution_count": null,
   "metadata": {},
   "outputs": [],
   "source": []
  },
  {
   "cell_type": "code",
   "execution_count": null,
   "metadata": {},
   "outputs": [],
   "source": []
  },
  {
   "cell_type": "code",
   "execution_count": null,
   "metadata": {},
   "outputs": [],
   "source": []
  },
  {
   "cell_type": "code",
   "execution_count": null,
   "metadata": {},
   "outputs": [],
   "source": []
  },
  {
   "cell_type": "code",
   "execution_count": null,
   "metadata": {},
   "outputs": [],
   "source": []
  },
  {
   "cell_type": "code",
   "execution_count": null,
   "metadata": {},
   "outputs": [],
   "source": []
  }
 ],
 "metadata": {
  "kernelspec": {
   "display_name": "Python 3",
   "language": "python",
   "name": "python3"
  },
  "language_info": {
   "codemirror_mode": {
    "name": "ipython",
    "version": 3
   },
   "file_extension": ".py",
   "mimetype": "text/x-python",
   "name": "python",
   "nbconvert_exporter": "python",
   "pygments_lexer": "ipython3",
   "version": "3.7.4"
  }
 },
 "nbformat": 4,
 "nbformat_minor": 2
}
