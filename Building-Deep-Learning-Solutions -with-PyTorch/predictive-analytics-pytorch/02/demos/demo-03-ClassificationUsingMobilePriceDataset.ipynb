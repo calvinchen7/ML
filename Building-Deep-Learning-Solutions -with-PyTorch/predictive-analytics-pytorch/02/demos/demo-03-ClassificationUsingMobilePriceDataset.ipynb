{
 "cells": [
  {
   "cell_type": "markdown",
   "metadata": {},
   "source": [
    "### Importing libraries"
   ]
  },
  {
   "cell_type": "code",
   "execution_count": 1,
   "metadata": {},
   "outputs": [],
   "source": [
    "import torch\n",
    "import torch.nn as nn\n",
    "import torch.nn.functional as F\n",
    "import torch.optim as optim\n",
    "\n",
    "import pandas as pd\n",
    "import matplotlib.pyplot as plt\n",
    "import seaborn as sns\n",
    "\n",
    "from sklearn.preprocessing import StandardScaler\n",
    "from sklearn.model_selection import train_test_split\n",
    "from sklearn.metrics import accuracy_score\n",
    "from sklearn.metrics import confusion_matrix, recall_score, precision_score"
   ]
  },
  {
   "cell_type": "markdown",
   "metadata": {},
   "source": [
    "### Loading dataset"
   ]
  },
  {
   "cell_type": "markdown",
   "metadata": {},
   "source": [
    "### Mobile Price Classification\n",
    "\n",
    "source: https://www.kaggle.com/iabhishekofficial/mobile-price-classification#train.csv\n",
    "\n",
    "Datafields:\n",
    "\n",
    "* battery_power : Total energy a battery can store in one time measured in mAh\n",
    "* blue : Has bluetooth or not\n",
    "* clock_speed : speed at which microprocessor executes instructions\n",
    "* dual_sim : Has dual sim support or not\n",
    "* fc : Front Camera mega pixels\n",
    "* four_g : Has 4G or not\n",
    "* int_memory : Internal Memory in Gigabytes\n",
    "* m_dep : Mobile Depth in cm\n",
    "* mobile_wt : Weight of mobile phone\n",
    "* n_cores : Number of cores of processor\n",
    "* pc : Primary Camera mega pixels\n",
    "* px_height : Pixel Resolution Height\n",
    "* px_width : Pixel Resolution Width\n",
    "* ram : Random Access Memory in Mega Bytes\n",
    "* sc_h : Screen Height of mobile in cm\n",
    "* sc_w : Screen Width of mobile in cm\n",
    "* talk_time : longest time that a single battery charge will last when you are\n",
    "* three_g : Has 3G or not\n",
    "* touch_screen : Has touch screen or not\n",
    "* wifi : Has wifi or not\n",
    "* price_range : This is the target variable with value of 0(low cost), 1(medium cost), 2(high cost) and 3(very high cost). "
   ]
  },
  {
   "cell_type": "code",
   "execution_count": 2,
   "metadata": {},
   "outputs": [
    {
     "data": {
      "text/html": [
       "<div>\n",
       "<style scoped>\n",
       "    .dataframe tbody tr th:only-of-type {\n",
       "        vertical-align: middle;\n",
       "    }\n",
       "\n",
       "    .dataframe tbody tr th {\n",
       "        vertical-align: top;\n",
       "    }\n",
       "\n",
       "    .dataframe thead th {\n",
       "        text-align: right;\n",
       "    }\n",
       "</style>\n",
       "<table border=\"1\" class=\"dataframe\">\n",
       "  <thead>\n",
       "    <tr style=\"text-align: right;\">\n",
       "      <th></th>\n",
       "      <th>battery_power</th>\n",
       "      <th>blue</th>\n",
       "      <th>clock_speed</th>\n",
       "      <th>dual_sim</th>\n",
       "      <th>fc</th>\n",
       "      <th>four_g</th>\n",
       "      <th>int_memory</th>\n",
       "      <th>m_dep</th>\n",
       "      <th>mobile_wt</th>\n",
       "      <th>n_cores</th>\n",
       "      <th>...</th>\n",
       "      <th>px_height</th>\n",
       "      <th>px_width</th>\n",
       "      <th>ram</th>\n",
       "      <th>sc_h</th>\n",
       "      <th>sc_w</th>\n",
       "      <th>talk_time</th>\n",
       "      <th>three_g</th>\n",
       "      <th>touch_screen</th>\n",
       "      <th>wifi</th>\n",
       "      <th>price_range</th>\n",
       "    </tr>\n",
       "  </thead>\n",
       "  <tbody>\n",
       "    <tr>\n",
       "      <td>0</td>\n",
       "      <td>842</td>\n",
       "      <td>0</td>\n",
       "      <td>2.2</td>\n",
       "      <td>0</td>\n",
       "      <td>1</td>\n",
       "      <td>0</td>\n",
       "      <td>7</td>\n",
       "      <td>0.6</td>\n",
       "      <td>188</td>\n",
       "      <td>2</td>\n",
       "      <td>...</td>\n",
       "      <td>20</td>\n",
       "      <td>756</td>\n",
       "      <td>2549</td>\n",
       "      <td>9</td>\n",
       "      <td>7</td>\n",
       "      <td>19</td>\n",
       "      <td>0</td>\n",
       "      <td>0</td>\n",
       "      <td>1</td>\n",
       "      <td>1</td>\n",
       "    </tr>\n",
       "    <tr>\n",
       "      <td>1</td>\n",
       "      <td>1021</td>\n",
       "      <td>1</td>\n",
       "      <td>0.5</td>\n",
       "      <td>1</td>\n",
       "      <td>0</td>\n",
       "      <td>1</td>\n",
       "      <td>53</td>\n",
       "      <td>0.7</td>\n",
       "      <td>136</td>\n",
       "      <td>3</td>\n",
       "      <td>...</td>\n",
       "      <td>905</td>\n",
       "      <td>1988</td>\n",
       "      <td>2631</td>\n",
       "      <td>17</td>\n",
       "      <td>3</td>\n",
       "      <td>7</td>\n",
       "      <td>1</td>\n",
       "      <td>1</td>\n",
       "      <td>0</td>\n",
       "      <td>2</td>\n",
       "    </tr>\n",
       "    <tr>\n",
       "      <td>2</td>\n",
       "      <td>563</td>\n",
       "      <td>1</td>\n",
       "      <td>0.5</td>\n",
       "      <td>1</td>\n",
       "      <td>2</td>\n",
       "      <td>1</td>\n",
       "      <td>41</td>\n",
       "      <td>0.9</td>\n",
       "      <td>145</td>\n",
       "      <td>5</td>\n",
       "      <td>...</td>\n",
       "      <td>1263</td>\n",
       "      <td>1716</td>\n",
       "      <td>2603</td>\n",
       "      <td>11</td>\n",
       "      <td>2</td>\n",
       "      <td>9</td>\n",
       "      <td>1</td>\n",
       "      <td>1</td>\n",
       "      <td>0</td>\n",
       "      <td>2</td>\n",
       "    </tr>\n",
       "    <tr>\n",
       "      <td>3</td>\n",
       "      <td>615</td>\n",
       "      <td>1</td>\n",
       "      <td>2.5</td>\n",
       "      <td>0</td>\n",
       "      <td>0</td>\n",
       "      <td>0</td>\n",
       "      <td>10</td>\n",
       "      <td>0.8</td>\n",
       "      <td>131</td>\n",
       "      <td>6</td>\n",
       "      <td>...</td>\n",
       "      <td>1216</td>\n",
       "      <td>1786</td>\n",
       "      <td>2769</td>\n",
       "      <td>16</td>\n",
       "      <td>8</td>\n",
       "      <td>11</td>\n",
       "      <td>1</td>\n",
       "      <td>0</td>\n",
       "      <td>0</td>\n",
       "      <td>2</td>\n",
       "    </tr>\n",
       "    <tr>\n",
       "      <td>4</td>\n",
       "      <td>1821</td>\n",
       "      <td>1</td>\n",
       "      <td>1.2</td>\n",
       "      <td>0</td>\n",
       "      <td>13</td>\n",
       "      <td>1</td>\n",
       "      <td>44</td>\n",
       "      <td>0.6</td>\n",
       "      <td>141</td>\n",
       "      <td>2</td>\n",
       "      <td>...</td>\n",
       "      <td>1208</td>\n",
       "      <td>1212</td>\n",
       "      <td>1411</td>\n",
       "      <td>8</td>\n",
       "      <td>2</td>\n",
       "      <td>15</td>\n",
       "      <td>1</td>\n",
       "      <td>1</td>\n",
       "      <td>0</td>\n",
       "      <td>1</td>\n",
       "    </tr>\n",
       "    <tr>\n",
       "      <td>5</td>\n",
       "      <td>1859</td>\n",
       "      <td>0</td>\n",
       "      <td>0.5</td>\n",
       "      <td>1</td>\n",
       "      <td>3</td>\n",
       "      <td>0</td>\n",
       "      <td>22</td>\n",
       "      <td>0.7</td>\n",
       "      <td>164</td>\n",
       "      <td>1</td>\n",
       "      <td>...</td>\n",
       "      <td>1004</td>\n",
       "      <td>1654</td>\n",
       "      <td>1067</td>\n",
       "      <td>17</td>\n",
       "      <td>1</td>\n",
       "      <td>10</td>\n",
       "      <td>1</td>\n",
       "      <td>0</td>\n",
       "      <td>0</td>\n",
       "      <td>1</td>\n",
       "    </tr>\n",
       "    <tr>\n",
       "      <td>6</td>\n",
       "      <td>1821</td>\n",
       "      <td>0</td>\n",
       "      <td>1.7</td>\n",
       "      <td>0</td>\n",
       "      <td>4</td>\n",
       "      <td>1</td>\n",
       "      <td>10</td>\n",
       "      <td>0.8</td>\n",
       "      <td>139</td>\n",
       "      <td>8</td>\n",
       "      <td>...</td>\n",
       "      <td>381</td>\n",
       "      <td>1018</td>\n",
       "      <td>3220</td>\n",
       "      <td>13</td>\n",
       "      <td>8</td>\n",
       "      <td>18</td>\n",
       "      <td>1</td>\n",
       "      <td>0</td>\n",
       "      <td>1</td>\n",
       "      <td>3</td>\n",
       "    </tr>\n",
       "    <tr>\n",
       "      <td>7</td>\n",
       "      <td>1954</td>\n",
       "      <td>0</td>\n",
       "      <td>0.5</td>\n",
       "      <td>1</td>\n",
       "      <td>0</td>\n",
       "      <td>0</td>\n",
       "      <td>24</td>\n",
       "      <td>0.8</td>\n",
       "      <td>187</td>\n",
       "      <td>4</td>\n",
       "      <td>...</td>\n",
       "      <td>512</td>\n",
       "      <td>1149</td>\n",
       "      <td>700</td>\n",
       "      <td>16</td>\n",
       "      <td>3</td>\n",
       "      <td>5</td>\n",
       "      <td>1</td>\n",
       "      <td>1</td>\n",
       "      <td>1</td>\n",
       "      <td>0</td>\n",
       "    </tr>\n",
       "    <tr>\n",
       "      <td>8</td>\n",
       "      <td>1445</td>\n",
       "      <td>1</td>\n",
       "      <td>0.5</td>\n",
       "      <td>0</td>\n",
       "      <td>0</td>\n",
       "      <td>0</td>\n",
       "      <td>53</td>\n",
       "      <td>0.7</td>\n",
       "      <td>174</td>\n",
       "      <td>7</td>\n",
       "      <td>...</td>\n",
       "      <td>386</td>\n",
       "      <td>836</td>\n",
       "      <td>1099</td>\n",
       "      <td>17</td>\n",
       "      <td>1</td>\n",
       "      <td>20</td>\n",
       "      <td>1</td>\n",
       "      <td>0</td>\n",
       "      <td>0</td>\n",
       "      <td>0</td>\n",
       "    </tr>\n",
       "    <tr>\n",
       "      <td>9</td>\n",
       "      <td>509</td>\n",
       "      <td>1</td>\n",
       "      <td>0.6</td>\n",
       "      <td>1</td>\n",
       "      <td>2</td>\n",
       "      <td>1</td>\n",
       "      <td>9</td>\n",
       "      <td>0.1</td>\n",
       "      <td>93</td>\n",
       "      <td>5</td>\n",
       "      <td>...</td>\n",
       "      <td>1137</td>\n",
       "      <td>1224</td>\n",
       "      <td>513</td>\n",
       "      <td>19</td>\n",
       "      <td>10</td>\n",
       "      <td>12</td>\n",
       "      <td>1</td>\n",
       "      <td>0</td>\n",
       "      <td>0</td>\n",
       "      <td>0</td>\n",
       "    </tr>\n",
       "  </tbody>\n",
       "</table>\n",
       "<p>10 rows × 21 columns</p>\n",
       "</div>"
      ],
      "text/plain": [
       "   battery_power  blue  clock_speed  dual_sim  fc  four_g  int_memory  m_dep  \\\n",
       "0            842     0          2.2         0   1       0           7    0.6   \n",
       "1           1021     1          0.5         1   0       1          53    0.7   \n",
       "2            563     1          0.5         1   2       1          41    0.9   \n",
       "3            615     1          2.5         0   0       0          10    0.8   \n",
       "4           1821     1          1.2         0  13       1          44    0.6   \n",
       "5           1859     0          0.5         1   3       0          22    0.7   \n",
       "6           1821     0          1.7         0   4       1          10    0.8   \n",
       "7           1954     0          0.5         1   0       0          24    0.8   \n",
       "8           1445     1          0.5         0   0       0          53    0.7   \n",
       "9            509     1          0.6         1   2       1           9    0.1   \n",
       "\n",
       "   mobile_wt  n_cores  ...  px_height  px_width   ram  sc_h  sc_w  talk_time  \\\n",
       "0        188        2  ...         20       756  2549     9     7         19   \n",
       "1        136        3  ...        905      1988  2631    17     3          7   \n",
       "2        145        5  ...       1263      1716  2603    11     2          9   \n",
       "3        131        6  ...       1216      1786  2769    16     8         11   \n",
       "4        141        2  ...       1208      1212  1411     8     2         15   \n",
       "5        164        1  ...       1004      1654  1067    17     1         10   \n",
       "6        139        8  ...        381      1018  3220    13     8         18   \n",
       "7        187        4  ...        512      1149   700    16     3          5   \n",
       "8        174        7  ...        386       836  1099    17     1         20   \n",
       "9         93        5  ...       1137      1224   513    19    10         12   \n",
       "\n",
       "   three_g  touch_screen  wifi  price_range  \n",
       "0        0             0     1            1  \n",
       "1        1             1     0            2  \n",
       "2        1             1     0            2  \n",
       "3        1             0     0            2  \n",
       "4        1             1     0            1  \n",
       "5        1             0     0            1  \n",
       "6        1             0     1            3  \n",
       "7        1             1     1            0  \n",
       "8        1             0     0            0  \n",
       "9        1             0     0            0  \n",
       "\n",
       "[10 rows x 21 columns]"
      ]
     },
     "execution_count": 2,
     "metadata": {},
     "output_type": "execute_result"
    }
   ],
   "source": [
    "mob_price_data = pd.read_csv('datasets/mobile_price.csv')\n",
    "\n",
    "mob_price_data.head(10)"
   ]
  },
  {
   "cell_type": "code",
   "execution_count": 3,
   "metadata": {},
   "outputs": [
    {
     "data": {
      "text/plain": [
       "(2000, 21)"
      ]
     },
     "execution_count": 3,
     "metadata": {},
     "output_type": "execute_result"
    }
   ],
   "source": [
    "mob_price_data.shape"
   ]
  },
  {
   "cell_type": "code",
   "execution_count": 4,
   "metadata": {},
   "outputs": [
    {
     "data": {
      "text/plain": [
       "Index(['battery_power', 'blue', 'clock_speed', 'dual_sim', 'fc', 'four_g',\n",
       "       'int_memory', 'm_dep', 'mobile_wt', 'n_cores', 'pc', 'px_height',\n",
       "       'px_width', 'ram', 'sc_h', 'sc_w', 'talk_time', 'three_g',\n",
       "       'touch_screen', 'wifi', 'price_range'],\n",
       "      dtype='object')"
      ]
     },
     "execution_count": 4,
     "metadata": {},
     "output_type": "execute_result"
    }
   ],
   "source": [
    "mob_price_data.columns"
   ]
  },
  {
   "cell_type": "code",
   "execution_count": 5,
   "metadata": {},
   "outputs": [],
   "source": [
    "NUMERIC_FEATURES = ['battery_power', 'clock_speed', 'fc', 'int_memory', \n",
    "                    'm_dep', 'mobile_wt', 'pc', 'px_height', 'px_width', \n",
    "                    'ram', 'sc_h', 'sc_w', 'talk_time']\n",
    "\n",
    "CATEGORICAL_FEATURES = ['blue', 'dual_sim', 'four_g', \n",
    "                        'n_cores', 'three_g', 'touch_screen', 'wifi']"
   ]
  },
  {
   "cell_type": "code",
   "execution_count": 6,
   "metadata": {},
   "outputs": [
    {
     "data": {
      "text/plain": [
       "(20, 21)"
      ]
     },
     "execution_count": 6,
     "metadata": {},
     "output_type": "execute_result"
    }
   ],
   "source": [
    "len(NUMERIC_FEATURES + CATEGORICAL_FEATURES), len(mob_price_data.columns)"
   ]
  },
  {
   "cell_type": "code",
   "execution_count": 7,
   "metadata": {},
   "outputs": [
    {
     "data": {
      "text/plain": [
       "3    500\n",
       "2    500\n",
       "1    500\n",
       "0    500\n",
       "Name: price_range, dtype: int64"
      ]
     },
     "execution_count": 7,
     "metadata": {},
     "output_type": "execute_result"
    }
   ],
   "source": [
    "mob_price_data['price_range'].value_counts()"
   ]
  },
  {
   "cell_type": "code",
   "execution_count": 8,
   "metadata": {},
   "outputs": [
    {
     "data": {
      "text/html": [
       "<div>\n",
       "<style scoped>\n",
       "    .dataframe tbody tr th:only-of-type {\n",
       "        vertical-align: middle;\n",
       "    }\n",
       "\n",
       "    .dataframe tbody tr th {\n",
       "        vertical-align: top;\n",
       "    }\n",
       "\n",
       "    .dataframe thead th {\n",
       "        text-align: right;\n",
       "    }\n",
       "</style>\n",
       "<table border=\"1\" class=\"dataframe\">\n",
       "  <thead>\n",
       "    <tr style=\"text-align: right;\">\n",
       "      <th></th>\n",
       "      <th>count</th>\n",
       "      <th>mean</th>\n",
       "      <th>std</th>\n",
       "      <th>min</th>\n",
       "      <th>25%</th>\n",
       "      <th>50%</th>\n",
       "      <th>75%</th>\n",
       "      <th>max</th>\n",
       "    </tr>\n",
       "  </thead>\n",
       "  <tbody>\n",
       "    <tr>\n",
       "      <td>battery_power</td>\n",
       "      <td>2000.0</td>\n",
       "      <td>1238.51850</td>\n",
       "      <td>439.418206</td>\n",
       "      <td>501.0</td>\n",
       "      <td>851.75</td>\n",
       "      <td>1226.0</td>\n",
       "      <td>1615.25</td>\n",
       "      <td>1998.0</td>\n",
       "    </tr>\n",
       "    <tr>\n",
       "      <td>clock_speed</td>\n",
       "      <td>2000.0</td>\n",
       "      <td>1.52225</td>\n",
       "      <td>0.816004</td>\n",
       "      <td>0.5</td>\n",
       "      <td>0.70</td>\n",
       "      <td>1.5</td>\n",
       "      <td>2.20</td>\n",
       "      <td>3.0</td>\n",
       "    </tr>\n",
       "    <tr>\n",
       "      <td>fc</td>\n",
       "      <td>2000.0</td>\n",
       "      <td>4.30950</td>\n",
       "      <td>4.341444</td>\n",
       "      <td>0.0</td>\n",
       "      <td>1.00</td>\n",
       "      <td>3.0</td>\n",
       "      <td>7.00</td>\n",
       "      <td>19.0</td>\n",
       "    </tr>\n",
       "    <tr>\n",
       "      <td>int_memory</td>\n",
       "      <td>2000.0</td>\n",
       "      <td>32.04650</td>\n",
       "      <td>18.145715</td>\n",
       "      <td>2.0</td>\n",
       "      <td>16.00</td>\n",
       "      <td>32.0</td>\n",
       "      <td>48.00</td>\n",
       "      <td>64.0</td>\n",
       "    </tr>\n",
       "    <tr>\n",
       "      <td>m_dep</td>\n",
       "      <td>2000.0</td>\n",
       "      <td>0.50175</td>\n",
       "      <td>0.288416</td>\n",
       "      <td>0.1</td>\n",
       "      <td>0.20</td>\n",
       "      <td>0.5</td>\n",
       "      <td>0.80</td>\n",
       "      <td>1.0</td>\n",
       "    </tr>\n",
       "    <tr>\n",
       "      <td>mobile_wt</td>\n",
       "      <td>2000.0</td>\n",
       "      <td>140.24900</td>\n",
       "      <td>35.399655</td>\n",
       "      <td>80.0</td>\n",
       "      <td>109.00</td>\n",
       "      <td>141.0</td>\n",
       "      <td>170.00</td>\n",
       "      <td>200.0</td>\n",
       "    </tr>\n",
       "    <tr>\n",
       "      <td>pc</td>\n",
       "      <td>2000.0</td>\n",
       "      <td>9.91650</td>\n",
       "      <td>6.064315</td>\n",
       "      <td>0.0</td>\n",
       "      <td>5.00</td>\n",
       "      <td>10.0</td>\n",
       "      <td>15.00</td>\n",
       "      <td>20.0</td>\n",
       "    </tr>\n",
       "    <tr>\n",
       "      <td>px_height</td>\n",
       "      <td>2000.0</td>\n",
       "      <td>645.10800</td>\n",
       "      <td>443.780811</td>\n",
       "      <td>0.0</td>\n",
       "      <td>282.75</td>\n",
       "      <td>564.0</td>\n",
       "      <td>947.25</td>\n",
       "      <td>1960.0</td>\n",
       "    </tr>\n",
       "    <tr>\n",
       "      <td>px_width</td>\n",
       "      <td>2000.0</td>\n",
       "      <td>1251.51550</td>\n",
       "      <td>432.199447</td>\n",
       "      <td>500.0</td>\n",
       "      <td>874.75</td>\n",
       "      <td>1247.0</td>\n",
       "      <td>1633.00</td>\n",
       "      <td>1998.0</td>\n",
       "    </tr>\n",
       "    <tr>\n",
       "      <td>ram</td>\n",
       "      <td>2000.0</td>\n",
       "      <td>2124.21300</td>\n",
       "      <td>1084.732044</td>\n",
       "      <td>256.0</td>\n",
       "      <td>1207.50</td>\n",
       "      <td>2146.5</td>\n",
       "      <td>3064.50</td>\n",
       "      <td>3998.0</td>\n",
       "    </tr>\n",
       "    <tr>\n",
       "      <td>sc_h</td>\n",
       "      <td>2000.0</td>\n",
       "      <td>12.30650</td>\n",
       "      <td>4.213245</td>\n",
       "      <td>5.0</td>\n",
       "      <td>9.00</td>\n",
       "      <td>12.0</td>\n",
       "      <td>16.00</td>\n",
       "      <td>19.0</td>\n",
       "    </tr>\n",
       "    <tr>\n",
       "      <td>sc_w</td>\n",
       "      <td>2000.0</td>\n",
       "      <td>5.76700</td>\n",
       "      <td>4.356398</td>\n",
       "      <td>0.0</td>\n",
       "      <td>2.00</td>\n",
       "      <td>5.0</td>\n",
       "      <td>9.00</td>\n",
       "      <td>18.0</td>\n",
       "    </tr>\n",
       "    <tr>\n",
       "      <td>talk_time</td>\n",
       "      <td>2000.0</td>\n",
       "      <td>11.01100</td>\n",
       "      <td>5.463955</td>\n",
       "      <td>2.0</td>\n",
       "      <td>6.00</td>\n",
       "      <td>11.0</td>\n",
       "      <td>16.00</td>\n",
       "      <td>20.0</td>\n",
       "    </tr>\n",
       "  </tbody>\n",
       "</table>\n",
       "</div>"
      ],
      "text/plain": [
       "                count        mean          std    min      25%     50%  \\\n",
       "battery_power  2000.0  1238.51850   439.418206  501.0   851.75  1226.0   \n",
       "clock_speed    2000.0     1.52225     0.816004    0.5     0.70     1.5   \n",
       "fc             2000.0     4.30950     4.341444    0.0     1.00     3.0   \n",
       "int_memory     2000.0    32.04650    18.145715    2.0    16.00    32.0   \n",
       "m_dep          2000.0     0.50175     0.288416    0.1     0.20     0.5   \n",
       "mobile_wt      2000.0   140.24900    35.399655   80.0   109.00   141.0   \n",
       "pc             2000.0     9.91650     6.064315    0.0     5.00    10.0   \n",
       "px_height      2000.0   645.10800   443.780811    0.0   282.75   564.0   \n",
       "px_width       2000.0  1251.51550   432.199447  500.0   874.75  1247.0   \n",
       "ram            2000.0  2124.21300  1084.732044  256.0  1207.50  2146.5   \n",
       "sc_h           2000.0    12.30650     4.213245    5.0     9.00    12.0   \n",
       "sc_w           2000.0     5.76700     4.356398    0.0     2.00     5.0   \n",
       "talk_time      2000.0    11.01100     5.463955    2.0     6.00    11.0   \n",
       "\n",
       "                   75%     max  \n",
       "battery_power  1615.25  1998.0  \n",
       "clock_speed       2.20     3.0  \n",
       "fc                7.00    19.0  \n",
       "int_memory       48.00    64.0  \n",
       "m_dep             0.80     1.0  \n",
       "mobile_wt       170.00   200.0  \n",
       "pc               15.00    20.0  \n",
       "px_height       947.25  1960.0  \n",
       "px_width       1633.00  1998.0  \n",
       "ram            3064.50  3998.0  \n",
       "sc_h             16.00    19.0  \n",
       "sc_w              9.00    18.0  \n",
       "talk_time        16.00    20.0  "
      ]
     },
     "execution_count": 8,
     "metadata": {},
     "output_type": "execute_result"
    }
   ],
   "source": [
    "mob_price_data[NUMERIC_FEATURES].describe().transpose()"
   ]
  },
  {
   "cell_type": "markdown",
   "metadata": {},
   "source": [
    "### Visualizing Relationship"
   ]
  },
  {
   "cell_type": "code",
   "execution_count": 9,
   "metadata": {},
   "outputs": [
    {
     "data": {
      "image/png": "[encoded data removed]",
      "text/plain": [
       "<Figure size 576x432 with 1 Axes>"
      ]
     },
     "metadata": {
      "needs_background": "light"
     },
     "output_type": "display_data"
    }
   ],
   "source": [
    "plt.figure(figsize=(8, 6))\n",
    "\n",
    "sns.boxplot('price_range', 'battery_power', data = mob_price_data)\n",
    "\n",
    "plt.xlabel('Price Range', fontsize = 20)\n",
    "plt.ylabel('Battery Power', fontsize = 20)\n",
    "\n",
    "plt.show()"
   ]
  },
  {
   "cell_type": "code",
   "execution_count": 10,
   "metadata": {},
   "outputs": [
    {
     "data": {
      "image/png": "[encoded data removed]",
      "text/plain": [
       "<Figure size 576x432 with 1 Axes>"
      ]
     },
     "metadata": {
      "needs_background": "light"
     },
     "output_type": "display_data"
    }
   ],
   "source": [
    "plt.figure(figsize=(8, 6))\n",
    "\n",
    "sns.boxplot('price_range', 'ram', data = mob_price_data)\n",
    "\n",
    "plt.xlabel('Price Range', fontsize = 20)\n",
    "plt.ylabel('Ram', fontsize = 20)\n",
    "\n",
    "plt.show()"
   ]
  },
  {
   "cell_type": "code",
   "execution_count": 11,
   "metadata": {},
   "outputs": [
    {
     "data": {
      "image/png": "[encoded data removed]",
      "text/plain": [
       "<Figure size 576x432 with 1 Axes>"
      ]
     },
     "metadata": {
      "needs_background": "light"
     },
     "output_type": "display_data"
    }
   ],
   "source": [
    "plt.figure(figsize=(8, 6))\n",
    "\n",
    "sns.boxplot('price_range', 'talk_time', data = mob_price_data)\n",
    "\n",
    "plt.xlabel('Front Camera Megapixels', fontsize = 20)\n",
    "plt.ylabel('Count', fontsize = 20)\n",
    "\n",
    "plt.show()"
   ]
  },
  {
   "cell_type": "code",
   "execution_count": 12,
   "metadata": {},
   "outputs": [
    {
     "data": {
      "image/png": "[encoded data removed]",
      "text/plain": [
       "<Figure size 576x432 with 1 Axes>"
      ]
     },
     "metadata": {
      "needs_background": "light"
     },
     "output_type": "display_data"
    }
   ],
   "source": [
    "plt.figure(figsize=(8, 6))\n",
    "\n",
    "sns.countplot('three_g', data = mob_price_data)\n",
    "\n",
    "plt.xlabel('Has 3G or not', fontsize = 20)\n",
    "plt.ylabel('Count', fontsize = 20)\n",
    "\n",
    "plt.show()"
   ]
  },
  {
   "cell_type": "markdown",
   "metadata": {},
   "source": [
    "### Splitting data into train data and test data"
   ]
  },
  {
   "cell_type": "code",
   "execution_count": 13,
   "metadata": {},
   "outputs": [
    {
     "data": {
      "text/html": [
       "<div>\n",
       "<style scoped>\n",
       "    .dataframe tbody tr th:only-of-type {\n",
       "        vertical-align: middle;\n",
       "    }\n",
       "\n",
       "    .dataframe tbody tr th {\n",
       "        vertical-align: top;\n",
       "    }\n",
       "\n",
       "    .dataframe thead th {\n",
       "        text-align: right;\n",
       "    }\n",
       "</style>\n",
       "<table border=\"1\" class=\"dataframe\">\n",
       "  <thead>\n",
       "    <tr style=\"text-align: right;\">\n",
       "      <th></th>\n",
       "      <th>battery_power</th>\n",
       "      <th>blue</th>\n",
       "      <th>clock_speed</th>\n",
       "      <th>dual_sim</th>\n",
       "      <th>fc</th>\n",
       "      <th>four_g</th>\n",
       "      <th>int_memory</th>\n",
       "      <th>m_dep</th>\n",
       "      <th>mobile_wt</th>\n",
       "      <th>n_cores</th>\n",
       "      <th>pc</th>\n",
       "      <th>px_height</th>\n",
       "      <th>px_width</th>\n",
       "      <th>ram</th>\n",
       "      <th>sc_h</th>\n",
       "      <th>sc_w</th>\n",
       "      <th>talk_time</th>\n",
       "      <th>three_g</th>\n",
       "      <th>touch_screen</th>\n",
       "      <th>wifi</th>\n",
       "    </tr>\n",
       "  </thead>\n",
       "  <tbody>\n",
       "    <tr>\n",
       "      <td>0</td>\n",
       "      <td>842</td>\n",
       "      <td>0</td>\n",
       "      <td>2.2</td>\n",
       "      <td>0</td>\n",
       "      <td>1</td>\n",
       "      <td>0</td>\n",
       "      <td>7</td>\n",
       "      <td>0.6</td>\n",
       "      <td>188</td>\n",
       "      <td>2</td>\n",
       "      <td>2</td>\n",
       "      <td>20</td>\n",
       "      <td>756</td>\n",
       "      <td>2549</td>\n",
       "      <td>9</td>\n",
       "      <td>7</td>\n",
       "      <td>19</td>\n",
       "      <td>0</td>\n",
       "      <td>0</td>\n",
       "      <td>1</td>\n",
       "    </tr>\n",
       "    <tr>\n",
       "      <td>1</td>\n",
       "      <td>1021</td>\n",
       "      <td>1</td>\n",
       "      <td>0.5</td>\n",
       "      <td>1</td>\n",
       "      <td>0</td>\n",
       "      <td>1</td>\n",
       "      <td>53</td>\n",
       "      <td>0.7</td>\n",
       "      <td>136</td>\n",
       "      <td>3</td>\n",
       "      <td>6</td>\n",
       "      <td>905</td>\n",
       "      <td>1988</td>\n",
       "      <td>2631</td>\n",
       "      <td>17</td>\n",
       "      <td>3</td>\n",
       "      <td>7</td>\n",
       "      <td>1</td>\n",
       "      <td>1</td>\n",
       "      <td>0</td>\n",
       "    </tr>\n",
       "    <tr>\n",
       "      <td>2</td>\n",
       "      <td>563</td>\n",
       "      <td>1</td>\n",
       "      <td>0.5</td>\n",
       "      <td>1</td>\n",
       "      <td>2</td>\n",
       "      <td>1</td>\n",
       "      <td>41</td>\n",
       "      <td>0.9</td>\n",
       "      <td>145</td>\n",
       "      <td>5</td>\n",
       "      <td>6</td>\n",
       "      <td>1263</td>\n",
       "      <td>1716</td>\n",
       "      <td>2603</td>\n",
       "      <td>11</td>\n",
       "      <td>2</td>\n",
       "      <td>9</td>\n",
       "      <td>1</td>\n",
       "      <td>1</td>\n",
       "      <td>0</td>\n",
       "    </tr>\n",
       "    <tr>\n",
       "      <td>3</td>\n",
       "      <td>615</td>\n",
       "      <td>1</td>\n",
       "      <td>2.5</td>\n",
       "      <td>0</td>\n",
       "      <td>0</td>\n",
       "      <td>0</td>\n",
       "      <td>10</td>\n",
       "      <td>0.8</td>\n",
       "      <td>131</td>\n",
       "      <td>6</td>\n",
       "      <td>9</td>\n",
       "      <td>1216</td>\n",
       "      <td>1786</td>\n",
       "      <td>2769</td>\n",
       "      <td>16</td>\n",
       "      <td>8</td>\n",
       "      <td>11</td>\n",
       "      <td>1</td>\n",
       "      <td>0</td>\n",
       "      <td>0</td>\n",
       "    </tr>\n",
       "    <tr>\n",
       "      <td>4</td>\n",
       "      <td>1821</td>\n",
       "      <td>1</td>\n",
       "      <td>1.2</td>\n",
       "      <td>0</td>\n",
       "      <td>13</td>\n",
       "      <td>1</td>\n",
       "      <td>44</td>\n",
       "      <td>0.6</td>\n",
       "      <td>141</td>\n",
       "      <td>2</td>\n",
       "      <td>14</td>\n",
       "      <td>1208</td>\n",
       "      <td>1212</td>\n",
       "      <td>1411</td>\n",
       "      <td>8</td>\n",
       "      <td>2</td>\n",
       "      <td>15</td>\n",
       "      <td>1</td>\n",
       "      <td>1</td>\n",
       "      <td>0</td>\n",
       "    </tr>\n",
       "    <tr>\n",
       "      <td>...</td>\n",
       "      <td>...</td>\n",
       "      <td>...</td>\n",
       "      <td>...</td>\n",
       "      <td>...</td>\n",
       "      <td>...</td>\n",
       "      <td>...</td>\n",
       "      <td>...</td>\n",
       "      <td>...</td>\n",
       "      <td>...</td>\n",
       "      <td>...</td>\n",
       "      <td>...</td>\n",
       "      <td>...</td>\n",
       "      <td>...</td>\n",
       "      <td>...</td>\n",
       "      <td>...</td>\n",
       "      <td>...</td>\n",
       "      <td>...</td>\n",
       "      <td>...</td>\n",
       "      <td>...</td>\n",
       "      <td>...</td>\n",
       "    </tr>\n",
       "    <tr>\n",
       "      <td>1995</td>\n",
       "      <td>794</td>\n",
       "      <td>1</td>\n",
       "      <td>0.5</td>\n",
       "      <td>1</td>\n",
       "      <td>0</td>\n",
       "      <td>1</td>\n",
       "      <td>2</td>\n",
       "      <td>0.8</td>\n",
       "      <td>106</td>\n",
       "      <td>6</td>\n",
       "      <td>14</td>\n",
       "      <td>1222</td>\n",
       "      <td>1890</td>\n",
       "      <td>668</td>\n",
       "      <td>13</td>\n",
       "      <td>4</td>\n",
       "      <td>19</td>\n",
       "      <td>1</td>\n",
       "      <td>1</td>\n",
       "      <td>0</td>\n",
       "    </tr>\n",
       "    <tr>\n",
       "      <td>1996</td>\n",
       "      <td>1965</td>\n",
       "      <td>1</td>\n",
       "      <td>2.6</td>\n",
       "      <td>1</td>\n",
       "      <td>0</td>\n",
       "      <td>0</td>\n",
       "      <td>39</td>\n",
       "      <td>0.2</td>\n",
       "      <td>187</td>\n",
       "      <td>4</td>\n",
       "      <td>3</td>\n",
       "      <td>915</td>\n",
       "      <td>1965</td>\n",
       "      <td>2032</td>\n",
       "      <td>11</td>\n",
       "      <td>10</td>\n",
       "      <td>16</td>\n",
       "      <td>1</td>\n",
       "      <td>1</td>\n",
       "      <td>1</td>\n",
       "    </tr>\n",
       "    <tr>\n",
       "      <td>1997</td>\n",
       "      <td>1911</td>\n",
       "      <td>0</td>\n",
       "      <td>0.9</td>\n",
       "      <td>1</td>\n",
       "      <td>1</td>\n",
       "      <td>1</td>\n",
       "      <td>36</td>\n",
       "      <td>0.7</td>\n",
       "      <td>108</td>\n",
       "      <td>8</td>\n",
       "      <td>3</td>\n",
       "      <td>868</td>\n",
       "      <td>1632</td>\n",
       "      <td>3057</td>\n",
       "      <td>9</td>\n",
       "      <td>1</td>\n",
       "      <td>5</td>\n",
       "      <td>1</td>\n",
       "      <td>1</td>\n",
       "      <td>0</td>\n",
       "    </tr>\n",
       "    <tr>\n",
       "      <td>1998</td>\n",
       "      <td>1512</td>\n",
       "      <td>0</td>\n",
       "      <td>0.9</td>\n",
       "      <td>0</td>\n",
       "      <td>4</td>\n",
       "      <td>1</td>\n",
       "      <td>46</td>\n",
       "      <td>0.1</td>\n",
       "      <td>145</td>\n",
       "      <td>5</td>\n",
       "      <td>5</td>\n",
       "      <td>336</td>\n",
       "      <td>670</td>\n",
       "      <td>869</td>\n",
       "      <td>18</td>\n",
       "      <td>10</td>\n",
       "      <td>19</td>\n",
       "      <td>1</td>\n",
       "      <td>1</td>\n",
       "      <td>1</td>\n",
       "    </tr>\n",
       "    <tr>\n",
       "      <td>1999</td>\n",
       "      <td>510</td>\n",
       "      <td>1</td>\n",
       "      <td>2.0</td>\n",
       "      <td>1</td>\n",
       "      <td>5</td>\n",
       "      <td>1</td>\n",
       "      <td>45</td>\n",
       "      <td>0.9</td>\n",
       "      <td>168</td>\n",
       "      <td>6</td>\n",
       "      <td>16</td>\n",
       "      <td>483</td>\n",
       "      <td>754</td>\n",
       "      <td>3919</td>\n",
       "      <td>19</td>\n",
       "      <td>4</td>\n",
       "      <td>2</td>\n",
       "      <td>1</td>\n",
       "      <td>1</td>\n",
       "      <td>1</td>\n",
       "    </tr>\n",
       "  </tbody>\n",
       "</table>\n",
       "<p>2000 rows × 20 columns</p>\n",
       "</div>"
      ],
      "text/plain": [
       "      battery_power  blue  clock_speed  dual_sim  fc  four_g  int_memory  \\\n",
       "0               842     0          2.2         0   1       0           7   \n",
       "1              1021     1          0.5         1   0       1          53   \n",
       "2               563     1          0.5         1   2       1          41   \n",
       "3               615     1          2.5         0   0       0          10   \n",
       "4              1821     1          1.2         0  13       1          44   \n",
       "...             ...   ...          ...       ...  ..     ...         ...   \n",
       "1995            794     1          0.5         1   0       1           2   \n",
       "1996           1965     1          2.6         1   0       0          39   \n",
       "1997           1911     0          0.9         1   1       1          36   \n",
       "1998           1512     0          0.9         0   4       1          46   \n",
       "1999            510     1          2.0         1   5       1          45   \n",
       "\n",
       "      m_dep  mobile_wt  n_cores  pc  px_height  px_width   ram  sc_h  sc_w  \\\n",
       "0       0.6        188        2   2         20       756  2549     9     7   \n",
       "1       0.7        136        3   6        905      1988  2631    17     3   \n",
       "2       0.9        145        5   6       1263      1716  2603    11     2   \n",
       "3       0.8        131        6   9       1216      1786  2769    16     8   \n",
       "4       0.6        141        2  14       1208      1212  1411     8     2   \n",
       "...     ...        ...      ...  ..        ...       ...   ...   ...   ...   \n",
       "1995    0.8        106        6  14       1222      1890   668    13     4   \n",
       "1996    0.2        187        4   3        915      1965  2032    11    10   \n",
       "1997    0.7        108        8   3        868      1632  3057     9     1   \n",
       "1998    0.1        145        5   5        336       670   869    18    10   \n",
       "1999    0.9        168        6  16        483       754  3919    19     4   \n",
       "\n",
       "      talk_time  three_g  touch_screen  wifi  \n",
       "0            19        0             0     1  \n",
       "1             7        1             1     0  \n",
       "2             9        1             1     0  \n",
       "3            11        1             0     0  \n",
       "4            15        1             1     0  \n",
       "...         ...      ...           ...   ...  \n",
       "1995         19        1             1     0  \n",
       "1996         16        1             1     1  \n",
       "1997          5        1             1     0  \n",
       "1998         19        1             1     1  \n",
       "1999          2        1             1     1  \n",
       "\n",
       "[2000 rows x 20 columns]"
      ]
     },
     "execution_count": 13,
     "metadata": {},
     "output_type": "execute_result"
    }
   ],
   "source": [
    "features = mob_price_data.drop('price_range', axis=1)\n",
    "\n",
    "features"
   ]
  },
  {
   "cell_type": "code",
   "execution_count": 14,
   "metadata": {},
   "outputs": [
    {
     "data": {
      "text/html": [
       "<div>\n",
       "<style scoped>\n",
       "    .dataframe tbody tr th:only-of-type {\n",
       "        vertical-align: middle;\n",
       "    }\n",
       "\n",
       "    .dataframe tbody tr th {\n",
       "        vertical-align: top;\n",
       "    }\n",
       "\n",
       "    .dataframe thead th {\n",
       "        text-align: right;\n",
       "    }\n",
       "</style>\n",
       "<table border=\"1\" class=\"dataframe\">\n",
       "  <thead>\n",
       "    <tr style=\"text-align: right;\">\n",
       "      <th></th>\n",
       "      <th>battery_power</th>\n",
       "      <th>clock_speed</th>\n",
       "      <th>fc</th>\n",
       "      <th>int_memory</th>\n",
       "      <th>m_dep</th>\n",
       "      <th>mobile_wt</th>\n",
       "      <th>pc</th>\n",
       "      <th>px_height</th>\n",
       "      <th>px_width</th>\n",
       "      <th>ram</th>\n",
       "      <th>sc_h</th>\n",
       "      <th>sc_w</th>\n",
       "      <th>talk_time</th>\n",
       "    </tr>\n",
       "  </thead>\n",
       "  <tbody>\n",
       "    <tr>\n",
       "      <td>0</td>\n",
       "      <td>842</td>\n",
       "      <td>2.2</td>\n",
       "      <td>1</td>\n",
       "      <td>7</td>\n",
       "      <td>0.6</td>\n",
       "      <td>188</td>\n",
       "      <td>2</td>\n",
       "      <td>20</td>\n",
       "      <td>756</td>\n",
       "      <td>2549</td>\n",
       "      <td>9</td>\n",
       "      <td>7</td>\n",
       "      <td>19</td>\n",
       "    </tr>\n",
       "    <tr>\n",
       "      <td>1</td>\n",
       "      <td>1021</td>\n",
       "      <td>0.5</td>\n",
       "      <td>0</td>\n",
       "      <td>53</td>\n",
       "      <td>0.7</td>\n",
       "      <td>136</td>\n",
       "      <td>6</td>\n",
       "      <td>905</td>\n",
       "      <td>1988</td>\n",
       "      <td>2631</td>\n",
       "      <td>17</td>\n",
       "      <td>3</td>\n",
       "      <td>7</td>\n",
       "    </tr>\n",
       "    <tr>\n",
       "      <td>2</td>\n",
       "      <td>563</td>\n",
       "      <td>0.5</td>\n",
       "      <td>2</td>\n",
       "      <td>41</td>\n",
       "      <td>0.9</td>\n",
       "      <td>145</td>\n",
       "      <td>6</td>\n",
       "      <td>1263</td>\n",
       "      <td>1716</td>\n",
       "      <td>2603</td>\n",
       "      <td>11</td>\n",
       "      <td>2</td>\n",
       "      <td>9</td>\n",
       "    </tr>\n",
       "    <tr>\n",
       "      <td>3</td>\n",
       "      <td>615</td>\n",
       "      <td>2.5</td>\n",
       "      <td>0</td>\n",
       "      <td>10</td>\n",
       "      <td>0.8</td>\n",
       "      <td>131</td>\n",
       "      <td>9</td>\n",
       "      <td>1216</td>\n",
       "      <td>1786</td>\n",
       "      <td>2769</td>\n",
       "      <td>16</td>\n",
       "      <td>8</td>\n",
       "      <td>11</td>\n",
       "    </tr>\n",
       "    <tr>\n",
       "      <td>4</td>\n",
       "      <td>1821</td>\n",
       "      <td>1.2</td>\n",
       "      <td>13</td>\n",
       "      <td>44</td>\n",
       "      <td>0.6</td>\n",
       "      <td>141</td>\n",
       "      <td>14</td>\n",
       "      <td>1208</td>\n",
       "      <td>1212</td>\n",
       "      <td>1411</td>\n",
       "      <td>8</td>\n",
       "      <td>2</td>\n",
       "      <td>15</td>\n",
       "    </tr>\n",
       "  </tbody>\n",
       "</table>\n",
       "</div>"
      ],
      "text/plain": [
       "   battery_power  clock_speed  fc  int_memory  m_dep  mobile_wt  pc  \\\n",
       "0            842          2.2   1           7    0.6        188   2   \n",
       "1           1021          0.5   0          53    0.7        136   6   \n",
       "2            563          0.5   2          41    0.9        145   6   \n",
       "3            615          2.5   0          10    0.8        131   9   \n",
       "4           1821          1.2  13          44    0.6        141  14   \n",
       "\n",
       "   px_height  px_width   ram  sc_h  sc_w  talk_time  \n",
       "0         20       756  2549     9     7         19  \n",
       "1        905      1988  2631    17     3          7  \n",
       "2       1263      1716  2603    11     2          9  \n",
       "3       1216      1786  2769    16     8         11  \n",
       "4       1208      1212  1411     8     2         15  "
      ]
     },
     "execution_count": 14,
     "metadata": {},
     "output_type": "execute_result"
    }
   ],
   "source": [
    "numeric_features = mob_price_data[NUMERIC_FEATURES].copy()\n",
    "\n",
    "numeric_features.head()"
   ]
  },
  {
   "cell_type": "code",
   "execution_count": 15,
   "metadata": {},
   "outputs": [
    {
     "data": {
      "text/html": [
       "<div>\n",
       "<style scoped>\n",
       "    .dataframe tbody tr th:only-of-type {\n",
       "        vertical-align: middle;\n",
       "    }\n",
       "\n",
       "    .dataframe tbody tr th {\n",
       "        vertical-align: top;\n",
       "    }\n",
       "\n",
       "    .dataframe thead th {\n",
       "        text-align: right;\n",
       "    }\n",
       "</style>\n",
       "<table border=\"1\" class=\"dataframe\">\n",
       "  <thead>\n",
       "    <tr style=\"text-align: right;\">\n",
       "      <th></th>\n",
       "      <th>blue</th>\n",
       "      <th>dual_sim</th>\n",
       "      <th>four_g</th>\n",
       "      <th>n_cores</th>\n",
       "      <th>three_g</th>\n",
       "      <th>touch_screen</th>\n",
       "      <th>wifi</th>\n",
       "    </tr>\n",
       "  </thead>\n",
       "  <tbody>\n",
       "    <tr>\n",
       "      <td>0</td>\n",
       "      <td>0</td>\n",
       "      <td>0</td>\n",
       "      <td>0</td>\n",
       "      <td>2</td>\n",
       "      <td>0</td>\n",
       "      <td>0</td>\n",
       "      <td>1</td>\n",
       "    </tr>\n",
       "    <tr>\n",
       "      <td>1</td>\n",
       "      <td>1</td>\n",
       "      <td>1</td>\n",
       "      <td>1</td>\n",
       "      <td>3</td>\n",
       "      <td>1</td>\n",
       "      <td>1</td>\n",
       "      <td>0</td>\n",
       "    </tr>\n",
       "    <tr>\n",
       "      <td>2</td>\n",
       "      <td>1</td>\n",
       "      <td>1</td>\n",
       "      <td>1</td>\n",
       "      <td>5</td>\n",
       "      <td>1</td>\n",
       "      <td>1</td>\n",
       "      <td>0</td>\n",
       "    </tr>\n",
       "    <tr>\n",
       "      <td>3</td>\n",
       "      <td>1</td>\n",
       "      <td>0</td>\n",
       "      <td>0</td>\n",
       "      <td>6</td>\n",
       "      <td>1</td>\n",
       "      <td>0</td>\n",
       "      <td>0</td>\n",
       "    </tr>\n",
       "    <tr>\n",
       "      <td>4</td>\n",
       "      <td>1</td>\n",
       "      <td>0</td>\n",
       "      <td>1</td>\n",
       "      <td>2</td>\n",
       "      <td>1</td>\n",
       "      <td>1</td>\n",
       "      <td>0</td>\n",
       "    </tr>\n",
       "  </tbody>\n",
       "</table>\n",
       "</div>"
      ],
      "text/plain": [
       "   blue  dual_sim  four_g  n_cores  three_g  touch_screen  wifi\n",
       "0     0         0       0        2        0             0     1\n",
       "1     1         1       1        3        1             1     0\n",
       "2     1         1       1        5        1             1     0\n",
       "3     1         0       0        6        1             0     0\n",
       "4     1         0       1        2        1             1     0"
      ]
     },
     "execution_count": 15,
     "metadata": {},
     "output_type": "execute_result"
    }
   ],
   "source": [
    "categorical_features = mob_price_data[CATEGORICAL_FEATURES].copy()\n",
    "\n",
    "categorical_features.head()"
   ]
  },
  {
   "cell_type": "code",
   "execution_count": 16,
   "metadata": {},
   "outputs": [
    {
     "data": {
      "text/html": [
       "<div>\n",
       "<style scoped>\n",
       "    .dataframe tbody tr th:only-of-type {\n",
       "        vertical-align: middle;\n",
       "    }\n",
       "\n",
       "    .dataframe tbody tr th {\n",
       "        vertical-align: top;\n",
       "    }\n",
       "\n",
       "    .dataframe thead th {\n",
       "        text-align: right;\n",
       "    }\n",
       "</style>\n",
       "<table border=\"1\" class=\"dataframe\">\n",
       "  <thead>\n",
       "    <tr style=\"text-align: right;\">\n",
       "      <th></th>\n",
       "      <th>count</th>\n",
       "      <th>mean</th>\n",
       "      <th>std</th>\n",
       "      <th>min</th>\n",
       "      <th>25%</th>\n",
       "      <th>50%</th>\n",
       "      <th>75%</th>\n",
       "      <th>max</th>\n",
       "    </tr>\n",
       "  </thead>\n",
       "  <tbody>\n",
       "    <tr>\n",
       "      <td>battery_power</td>\n",
       "      <td>2000.0</td>\n",
       "      <td>2.128298e-16</td>\n",
       "      <td>1.00025</td>\n",
       "      <td>-1.678817</td>\n",
       "      <td>-0.880403</td>\n",
       "      <td>-0.028496</td>\n",
       "      <td>0.857556</td>\n",
       "      <td>1.728812</td>\n",
       "    </tr>\n",
       "    <tr>\n",
       "      <td>clock_speed</td>\n",
       "      <td>2000.0</td>\n",
       "      <td>-2.172151e-16</td>\n",
       "      <td>1.00025</td>\n",
       "      <td>-1.253064</td>\n",
       "      <td>-1.007906</td>\n",
       "      <td>-0.027274</td>\n",
       "      <td>0.830779</td>\n",
       "      <td>1.811412</td>\n",
       "    </tr>\n",
       "    <tr>\n",
       "      <td>fc</td>\n",
       "      <td>2000.0</td>\n",
       "      <td>9.230117e-17</td>\n",
       "      <td>1.00025</td>\n",
       "      <td>-0.992890</td>\n",
       "      <td>-0.762495</td>\n",
       "      <td>-0.301703</td>\n",
       "      <td>0.619880</td>\n",
       "      <td>3.384628</td>\n",
       "    </tr>\n",
       "    <tr>\n",
       "      <td>int_memory</td>\n",
       "      <td>2000.0</td>\n",
       "      <td>-8.754109e-17</td>\n",
       "      <td>1.00025</td>\n",
       "      <td>-1.656260</td>\n",
       "      <td>-0.884535</td>\n",
       "      <td>-0.002563</td>\n",
       "      <td>0.879408</td>\n",
       "      <td>1.761380</td>\n",
       "    </tr>\n",
       "    <tr>\n",
       "      <td>m_dep</td>\n",
       "      <td>2000.0</td>\n",
       "      <td>-1.045830e-16</td>\n",
       "      <td>1.00025</td>\n",
       "      <td>-1.393304</td>\n",
       "      <td>-1.046495</td>\n",
       "      <td>-0.006069</td>\n",
       "      <td>1.034357</td>\n",
       "      <td>1.727974</td>\n",
       "    </tr>\n",
       "    <tr>\n",
       "      <td>mobile_wt</td>\n",
       "      <td>2000.0</td>\n",
       "      <td>1.804112e-16</td>\n",
       "      <td>1.00025</td>\n",
       "      <td>-1.702391</td>\n",
       "      <td>-0.882969</td>\n",
       "      <td>0.021220</td>\n",
       "      <td>0.840642</td>\n",
       "      <td>1.688320</td>\n",
       "    </tr>\n",
       "    <tr>\n",
       "      <td>pc</td>\n",
       "      <td>2000.0</td>\n",
       "      <td>1.669775e-16</td>\n",
       "      <td>1.00025</td>\n",
       "      <td>-1.635631</td>\n",
       "      <td>-0.810929</td>\n",
       "      <td>0.013773</td>\n",
       "      <td>0.838474</td>\n",
       "      <td>1.663176</td>\n",
       "    </tr>\n",
       "    <tr>\n",
       "      <td>px_height</td>\n",
       "      <td>2000.0</td>\n",
       "      <td>1.287304e-16</td>\n",
       "      <td>1.00025</td>\n",
       "      <td>-1.454027</td>\n",
       "      <td>-0.816729</td>\n",
       "      <td>-0.182812</td>\n",
       "      <td>0.681006</td>\n",
       "      <td>2.963672</td>\n",
       "    </tr>\n",
       "    <tr>\n",
       "      <td>px_width</td>\n",
       "      <td>2000.0</td>\n",
       "      <td>5.595524e-17</td>\n",
       "      <td>1.00025</td>\n",
       "      <td>-1.739251</td>\n",
       "      <td>-0.871958</td>\n",
       "      <td>-0.010450</td>\n",
       "      <td>0.882879</td>\n",
       "      <td>1.727608</td>\n",
       "    </tr>\n",
       "    <tr>\n",
       "      <td>ram</td>\n",
       "      <td>2000.0</td>\n",
       "      <td>-1.582068e-16</td>\n",
       "      <td>1.00025</td>\n",
       "      <td>-1.722711</td>\n",
       "      <td>-0.845317</td>\n",
       "      <td>0.020551</td>\n",
       "      <td>0.867055</td>\n",
       "      <td>1.727851</td>\n",
       "    </tr>\n",
       "    <tr>\n",
       "      <td>sc_h</td>\n",
       "      <td>2000.0</td>\n",
       "      <td>3.719247e-17</td>\n",
       "      <td>1.00025</td>\n",
       "      <td>-1.734608</td>\n",
       "      <td>-0.784983</td>\n",
       "      <td>-0.072765</td>\n",
       "      <td>0.876859</td>\n",
       "      <td>1.589078</td>\n",
       "    </tr>\n",
       "    <tr>\n",
       "      <td>sc_w</td>\n",
       "      <td>2000.0</td>\n",
       "      <td>-4.085621e-17</td>\n",
       "      <td>1.00025</td>\n",
       "      <td>-1.324131</td>\n",
       "      <td>-0.864922</td>\n",
       "      <td>-0.176107</td>\n",
       "      <td>0.742313</td>\n",
       "      <td>2.808756</td>\n",
       "    </tr>\n",
       "    <tr>\n",
       "      <td>talk_time</td>\n",
       "      <td>2000.0</td>\n",
       "      <td>1.052491e-16</td>\n",
       "      <td>1.00025</td>\n",
       "      <td>-1.649584</td>\n",
       "      <td>-0.917331</td>\n",
       "      <td>-0.002014</td>\n",
       "      <td>0.913303</td>\n",
       "      <td>1.645557</td>\n",
       "    </tr>\n",
       "  </tbody>\n",
       "</table>\n",
       "</div>"
      ],
      "text/plain": [
       "                count          mean      std       min       25%       50%  \\\n",
       "battery_power  2000.0  2.128298e-16  1.00025 -1.678817 -0.880403 -0.028496   \n",
       "clock_speed    2000.0 -2.172151e-16  1.00025 -1.253064 -1.007906 -0.027274   \n",
       "fc             2000.0  9.230117e-17  1.00025 -0.992890 -0.762495 -0.301703   \n",
       "int_memory     2000.0 -8.754109e-17  1.00025 -1.656260 -0.884535 -0.002563   \n",
       "m_dep          2000.0 -1.045830e-16  1.00025 -1.393304 -1.046495 -0.006069   \n",
       "mobile_wt      2000.0  1.804112e-16  1.00025 -1.702391 -0.882969  0.021220   \n",
       "pc             2000.0  1.669775e-16  1.00025 -1.635631 -0.810929  0.013773   \n",
       "px_height      2000.0  1.287304e-16  1.00025 -1.454027 -0.816729 -0.182812   \n",
       "px_width       2000.0  5.595524e-17  1.00025 -1.739251 -0.871958 -0.010450   \n",
       "ram            2000.0 -1.582068e-16  1.00025 -1.722711 -0.845317  0.020551   \n",
       "sc_h           2000.0  3.719247e-17  1.00025 -1.734608 -0.784983 -0.072765   \n",
       "sc_w           2000.0 -4.085621e-17  1.00025 -1.324131 -0.864922 -0.176107   \n",
       "talk_time      2000.0  1.052491e-16  1.00025 -1.649584 -0.917331 -0.002014   \n",
       "\n",
       "                    75%       max  \n",
       "battery_power  0.857556  1.728812  \n",
       "clock_speed    0.830779  1.811412  \n",
       "fc             0.619880  3.384628  \n",
       "int_memory     0.879408  1.761380  \n",
       "m_dep          1.034357  1.727974  \n",
       "mobile_wt      0.840642  1.688320  \n",
       "pc             0.838474  1.663176  \n",
       "px_height      0.681006  2.963672  \n",
       "px_width       0.882879  1.727608  \n",
       "ram            0.867055  1.727851  \n",
       "sc_h           0.876859  1.589078  \n",
       "sc_w           0.742313  2.808756  \n",
       "talk_time      0.913303  1.645557  "
      ]
     },
     "execution_count": 16,
     "metadata": {},
     "output_type": "execute_result"
    }
   ],
   "source": [
    "standardScaler = StandardScaler()\n",
    "\n",
    "numeric_features = pd.DataFrame(standardScaler.fit_transform(numeric_features), \n",
    "                                columns=numeric_features.columns,\n",
    "                                index=numeric_features.index)\n",
    "\n",
    "numeric_features.describe().T"
   ]
  },
  {
   "cell_type": "code",
   "execution_count": 17,
   "metadata": {},
   "outputs": [
    {
     "data": {
      "text/html": [
       "<div>\n",
       "<style scoped>\n",
       "    .dataframe tbody tr th:only-of-type {\n",
       "        vertical-align: middle;\n",
       "    }\n",
       "\n",
       "    .dataframe tbody tr th {\n",
       "        vertical-align: top;\n",
       "    }\n",
       "\n",
       "    .dataframe thead th {\n",
       "        text-align: right;\n",
       "    }\n",
       "</style>\n",
       "<table border=\"1\" class=\"dataframe\">\n",
       "  <thead>\n",
       "    <tr style=\"text-align: right;\">\n",
       "      <th></th>\n",
       "      <th>0</th>\n",
       "      <th>1</th>\n",
       "      <th>2</th>\n",
       "      <th>3</th>\n",
       "      <th>4</th>\n",
       "      <th>5</th>\n",
       "      <th>6</th>\n",
       "      <th>7</th>\n",
       "      <th>8</th>\n",
       "      <th>9</th>\n",
       "      <th>10</th>\n",
       "      <th>11</th>\n",
       "      <th>12</th>\n",
       "      <th>13</th>\n",
       "      <th>14</th>\n",
       "      <th>15</th>\n",
       "      <th>16</th>\n",
       "      <th>17</th>\n",
       "      <th>18</th>\n",
       "      <th>19</th>\n",
       "    </tr>\n",
       "  </thead>\n",
       "  <tbody>\n",
       "    <tr>\n",
       "      <td>0</td>\n",
       "      <td>-0.902597</td>\n",
       "      <td>0.830779</td>\n",
       "      <td>-0.762495</td>\n",
       "      <td>-1.380644</td>\n",
       "      <td>0.340740</td>\n",
       "      <td>1.349249</td>\n",
       "      <td>-1.305750</td>\n",
       "      <td>-1.408949</td>\n",
       "      <td>-1.146784</td>\n",
       "      <td>0.391703</td>\n",
       "      <td>-0.784983</td>\n",
       "      <td>0.283103</td>\n",
       "      <td>1.462493</td>\n",
       "      <td>0</td>\n",
       "      <td>0</td>\n",
       "      <td>0</td>\n",
       "      <td>2</td>\n",
       "      <td>0</td>\n",
       "      <td>0</td>\n",
       "      <td>1</td>\n",
       "    </tr>\n",
       "    <tr>\n",
       "      <td>1</td>\n",
       "      <td>-0.495139</td>\n",
       "      <td>-1.253064</td>\n",
       "      <td>-0.992890</td>\n",
       "      <td>1.155024</td>\n",
       "      <td>0.687548</td>\n",
       "      <td>-0.120059</td>\n",
       "      <td>-0.645989</td>\n",
       "      <td>0.585778</td>\n",
       "      <td>1.704465</td>\n",
       "      <td>0.467317</td>\n",
       "      <td>1.114266</td>\n",
       "      <td>-0.635317</td>\n",
       "      <td>-0.734267</td>\n",
       "      <td>1</td>\n",
       "      <td>1</td>\n",
       "      <td>1</td>\n",
       "      <td>3</td>\n",
       "      <td>1</td>\n",
       "      <td>1</td>\n",
       "      <td>0</td>\n",
       "    </tr>\n",
       "    <tr>\n",
       "      <td>2</td>\n",
       "      <td>-1.537686</td>\n",
       "      <td>-1.253064</td>\n",
       "      <td>-0.532099</td>\n",
       "      <td>0.493546</td>\n",
       "      <td>1.381165</td>\n",
       "      <td>0.134244</td>\n",
       "      <td>-0.645989</td>\n",
       "      <td>1.392684</td>\n",
       "      <td>1.074968</td>\n",
       "      <td>0.441498</td>\n",
       "      <td>-0.310171</td>\n",
       "      <td>-0.864922</td>\n",
       "      <td>-0.368140</td>\n",
       "      <td>1</td>\n",
       "      <td>1</td>\n",
       "      <td>1</td>\n",
       "      <td>5</td>\n",
       "      <td>1</td>\n",
       "      <td>1</td>\n",
       "      <td>0</td>\n",
       "    </tr>\n",
       "    <tr>\n",
       "      <td>3</td>\n",
       "      <td>-1.419319</td>\n",
       "      <td>1.198517</td>\n",
       "      <td>-0.992890</td>\n",
       "      <td>-1.215274</td>\n",
       "      <td>1.034357</td>\n",
       "      <td>-0.261339</td>\n",
       "      <td>-0.151168</td>\n",
       "      <td>1.286750</td>\n",
       "      <td>1.236971</td>\n",
       "      <td>0.594569</td>\n",
       "      <td>0.876859</td>\n",
       "      <td>0.512708</td>\n",
       "      <td>-0.002014</td>\n",
       "      <td>1</td>\n",
       "      <td>0</td>\n",
       "      <td>0</td>\n",
       "      <td>6</td>\n",
       "      <td>1</td>\n",
       "      <td>0</td>\n",
       "      <td>0</td>\n",
       "    </tr>\n",
       "    <tr>\n",
       "      <td>4</td>\n",
       "      <td>1.325906</td>\n",
       "      <td>-0.395011</td>\n",
       "      <td>2.002254</td>\n",
       "      <td>0.658915</td>\n",
       "      <td>0.340740</td>\n",
       "      <td>0.021220</td>\n",
       "      <td>0.673534</td>\n",
       "      <td>1.268718</td>\n",
       "      <td>-0.091452</td>\n",
       "      <td>-0.657666</td>\n",
       "      <td>-1.022389</td>\n",
       "      <td>-0.864922</td>\n",
       "      <td>0.730240</td>\n",
       "      <td>1</td>\n",
       "      <td>0</td>\n",
       "      <td>1</td>\n",
       "      <td>2</td>\n",
       "      <td>1</td>\n",
       "      <td>1</td>\n",
       "      <td>0</td>\n",
       "    </tr>\n",
       "  </tbody>\n",
       "</table>\n",
       "</div>"
      ],
      "text/plain": [
       "          0         1         2         3         4         5         6  \\\n",
       "0 -0.902597  0.830779 -0.762495 -1.380644  0.340740  1.349249 -1.305750   \n",
       "1 -0.495139 -1.253064 -0.992890  1.155024  0.687548 -0.120059 -0.645989   \n",
       "2 -1.537686 -1.253064 -0.532099  0.493546  1.381165  0.134244 -0.645989   \n",
       "3 -1.419319  1.198517 -0.992890 -1.215274  1.034357 -0.261339 -0.151168   \n",
       "4  1.325906 -0.395011  2.002254  0.658915  0.340740  0.021220  0.673534   \n",
       "\n",
       "          7         8         9        10        11        12  13  14  15  16  \\\n",
       "0 -1.408949 -1.146784  0.391703 -0.784983  0.283103  1.462493   0   0   0   2   \n",
       "1  0.585778  1.704465  0.467317  1.114266 -0.635317 -0.734267   1   1   1   3   \n",
       "2  1.392684  1.074968  0.441498 -0.310171 -0.864922 -0.368140   1   1   1   5   \n",
       "3  1.286750  1.236971  0.594569  0.876859  0.512708 -0.002014   1   0   0   6   \n",
       "4  1.268718 -0.091452 -0.657666 -1.022389 -0.864922  0.730240   1   0   1   2   \n",
       "\n",
       "   17  18  19  \n",
       "0   0   0   1  \n",
       "1   1   1   0  \n",
       "2   1   1   0  \n",
       "3   1   0   0  \n",
       "4   1   1   0  "
      ]
     },
     "execution_count": 17,
     "metadata": {},
     "output_type": "execute_result"
    }
   ],
   "source": [
    "processed_features = pd.concat([numeric_features, categorical_features], axis=1,\n",
    "                                ignore_index=True, sort=False)\n",
    "\n",
    "processed_features.head()"
   ]
  },
  {
   "cell_type": "code",
   "execution_count": 18,
   "metadata": {},
   "outputs": [],
   "source": [
    "target = mob_price_data[['price_range']]"
   ]
  },
  {
   "cell_type": "code",
   "execution_count": 19,
   "metadata": {},
   "outputs": [],
   "source": [
    "x_train, x_test, y_train, y_test = train_test_split(processed_features, \n",
    "                                                    target, test_size=0.2, random_state=10)\n",
    "\n",
    "x_train_tensor = torch.from_numpy(x_train.values).float()\n",
    "\n",
    "x_test_tensor = torch.from_numpy(x_test.values).float()"
   ]
  },
  {
   "cell_type": "code",
   "execution_count": 20,
   "metadata": {},
   "outputs": [
    {
     "data": {
      "text/plain": [
       "(torch.Size([1600, 20]), torch.Size([400, 20]))"
      ]
     },
     "execution_count": 20,
     "metadata": {},
     "output_type": "execute_result"
    }
   ],
   "source": [
    "x_train_tensor.shape, x_test_tensor.shape"
   ]
  },
  {
   "cell_type": "code",
   "execution_count": 21,
   "metadata": {},
   "outputs": [],
   "source": [
    "y_train_tensor = torch.from_numpy(y_train.values).view(1, -1)[0].long()\n",
    "\n",
    "y_test_tensor = torch.from_numpy(y_test.values).view(1, -1)[0].long()"
   ]
  },
  {
   "cell_type": "code",
   "execution_count": 22,
   "metadata": {},
   "outputs": [
    {
     "data": {
      "text/plain": [
       "(torch.Size([1600]), torch.Size([400]))"
      ]
     },
     "execution_count": 22,
     "metadata": {},
     "output_type": "execute_result"
    }
   ],
   "source": [
    "y_train_tensor.shape, y_test_tensor.shape"
   ]
  },
  {
   "cell_type": "code",
   "execution_count": 23,
   "metadata": {},
   "outputs": [
    {
     "data": {
      "text/plain": [
       "tensor([0, 3, 0, 3, 2])"
      ]
     },
     "execution_count": 23,
     "metadata": {},
     "output_type": "execute_result"
    }
   ],
   "source": [
    "y_train_tensor[:5]"
   ]
  },
  {
   "cell_type": "code",
   "execution_count": 24,
   "metadata": {},
   "outputs": [],
   "source": [
    "input_size = x_train_tensor.shape[1]\n",
    "\n",
    "output_size = len(target['price_range'].unique())"
   ]
  },
  {
   "cell_type": "code",
   "execution_count": 25,
   "metadata": {},
   "outputs": [
    {
     "data": {
      "text/plain": [
       "(20, 4)"
      ]
     },
     "execution_count": 25,
     "metadata": {},
     "output_type": "execute_result"
    }
   ],
   "source": [
    "input_size, output_size"
   ]
  },
  {
   "cell_type": "markdown",
   "metadata": {},
   "source": [
    "### Building model"
   ]
  },
  {
   "cell_type": "code",
   "execution_count": 26,
   "metadata": {},
   "outputs": [],
   "source": [
    "class Net(nn.Module):\n",
    "    \n",
    "    def __init__(self, hidden_size, activation_fn='relu', apply_dropout=False): \n",
    "        super(Net, self).__init__()\n",
    "        \n",
    "        self.fc1 = nn.Linear(input_size, hidden_size) \n",
    "        self.fc2 = nn.Linear(hidden_size, hidden_size)\n",
    "        self.fc3 = nn.Linear(hidden_size, output_size)\n",
    "        \n",
    "        self.hidden_size = hidden_size\n",
    "        self.activation_fn = activation_fn\n",
    "        \n",
    "        self.dropout1 = None\n",
    "        self.dropout2 = None\n",
    "        if apply_dropout:\n",
    "            self.dropout1 = nn.Dropout(0.2)\n",
    "            self.dropout2 = nn.Dropout(0.3)\n",
    "    \n",
    "    def forward(self, x):\n",
    "        \n",
    "        activation_fn = None\n",
    "        if  self.activation_fn == 'sigmoid':\n",
    "                activation_fn = F.torch.sigmoid\n",
    "\n",
    "        elif self.activation_fn == 'tanh':\n",
    "                activation_fn = F.torch.tanh\n",
    "\n",
    "        elif self.activation_fn == 'relu':\n",
    "                 activation_fn = F.relu\n",
    "\n",
    "        x = activation_fn(self.fc1(x))\n",
    "        if self.dropout1 != None:\n",
    "            x = self.dropout1(x)\n",
    "\n",
    "        x = activation_fn(self.fc2(x))\n",
    "\n",
    "        if self.dropout2 != None:\n",
    "            x = self.dropout2(x)\n",
    "\n",
    "        x = self.fc3(x)\n",
    "        \n",
    "        return F.log_softmax(x, dim = -1)"
   ]
  },
  {
   "cell_type": "code",
   "execution_count": 27,
   "metadata": {},
   "outputs": [],
   "source": [
    "def train_and_evaluate_model(model, epochs=1000, learn_rate=1e-3):\n",
    "    epoch_data = []\n",
    "    \n",
    "    optimizer = optim.Adam(model.parameters(), lr=learn_rate)\n",
    "    \n",
    "    loss_fn = nn.NLLLoss()\n",
    "    \n",
    "    test_accuracy = 0.0\n",
    "    \n",
    "    for epoch in range(1, epochs + 1):\n",
    "        \n",
    "        model.train()\n",
    "        \n",
    "        optimizer.zero_grad()\n",
    "\n",
    "        y_pred_train = model(x_train_tensor)\n",
    "\n",
    "        loss_train = loss_fn(y_pred_train , y_train_tensor)\n",
    "        loss_train.backward()\n",
    "\n",
    "        optimizer.step()\n",
    "\n",
    "        model.eval()\n",
    "\n",
    "        y_pred_test = model(x_test_tensor)\n",
    "        loss_test = loss_fn(y_pred_test, y_test_tensor)\n",
    "\n",
    "        _, pred = y_pred_test.data.max(1)\n",
    "        \n",
    "        test_accuracy = pred.eq(y_test_tensor.data).sum().item() / y_test.values.size\n",
    "        \n",
    "        epoch_data.append([epoch, loss_train.data.item(), loss_test.data.item(), test_accuracy])\n",
    "\n",
    "        if epoch % 100 == 0:\n",
    "            print ('epoch - %d train loss - %.2f test loss - %.2f Test accuracy - %.4f'\\\n",
    "                   % (epoch, loss_train.data.item(), loss_test.data.item(), test_accuracy))\n",
    "            \n",
    "\n",
    "    return {'model' : model,\n",
    "            'epoch_data' : epoch_data,\n",
    "            '_, pred' : y_pred_test.data.max(1),\n",
    "            'actual_test_label' : y_test_tensor}"
   ]
  },
  {
   "cell_type": "markdown",
   "metadata": {},
   "source": [
    "#### Taken 5 neurons in the hidden layers and sigmoid activation function with no dropout"
   ]
  },
  {
   "cell_type": "code",
   "execution_count": 28,
   "metadata": {},
   "outputs": [
    {
     "data": {
      "text/plain": [
       "Net(\n",
       "  (fc1): Linear(in_features=20, out_features=5, bias=True)\n",
       "  (fc2): Linear(in_features=5, out_features=5, bias=True)\n",
       "  (fc3): Linear(in_features=5, out_features=4, bias=True)\n",
       ")"
      ]
     },
     "execution_count": 28,
     "metadata": {},
     "output_type": "execute_result"
    }
   ],
   "source": [
    "net = Net(hidden_size=5, activation_fn='sigmoid', apply_dropout=False)\n",
    "\n",
    "net"
   ]
  },
  {
   "cell_type": "markdown",
   "metadata": {},
   "source": [
    "#### Training and evaluating model"
   ]
  },
  {
   "cell_type": "code",
   "execution_count": 29,
   "metadata": {},
   "outputs": [
    {
     "name": "stdout",
     "output_type": "stream",
     "text": [
      "epoch - 100 train loss - 1.40 test loss - 1.39 Test accuracy - 0.2725\n",
      "epoch - 200 train loss - 1.37 test loss - 1.37 Test accuracy - 0.3475\n",
      "epoch - 300 train loss - 1.32 test loss - 1.33 Test accuracy - 0.3950\n",
      "epoch - 400 train loss - 1.24 test loss - 1.25 Test accuracy - 0.3775\n",
      "epoch - 500 train loss - 1.15 test loss - 1.16 Test accuracy - 0.3575\n",
      "epoch - 600 train loss - 1.05 test loss - 1.05 Test accuracy - 0.3625\n",
      "epoch - 700 train loss - 0.96 test loss - 0.96 Test accuracy - 0.5950\n",
      "epoch - 800 train loss - 0.89 test loss - 0.89 Test accuracy - 0.6475\n",
      "epoch - 900 train loss - 0.83 test loss - 0.83 Test accuracy - 0.7375\n",
      "epoch - 1000 train loss - 0.78 test loss - 0.78 Test accuracy - 0.8000\n"
     ]
    }
   ],
   "source": [
    "result_5_sigmoid = train_and_evaluate_model(net)"
   ]
  },
  {
   "cell_type": "code",
   "execution_count": 30,
   "metadata": {},
   "outputs": [
    {
     "name": "stdout",
     "output_type": "stream",
     "text": [
      "epoch - 100 train loss - 0.73 test loss - 0.74 Test accuracy - 0.8275\n",
      "epoch - 200 train loss - 0.69 test loss - 0.70 Test accuracy - 0.8400\n",
      "epoch - 300 train loss - 0.66 test loss - 0.67 Test accuracy - 0.8550\n",
      "epoch - 400 train loss - 0.62 test loss - 0.63 Test accuracy - 0.8600\n",
      "epoch - 500 train loss - 0.58 test loss - 0.59 Test accuracy - 0.8750\n",
      "epoch - 600 train loss - 0.53 test loss - 0.54 Test accuracy - 0.8800\n",
      "epoch - 700 train loss - 0.49 test loss - 0.50 Test accuracy - 0.9000\n",
      "epoch - 800 train loss - 0.45 test loss - 0.46 Test accuracy - 0.8950\n",
      "epoch - 900 train loss - 0.41 test loss - 0.43 Test accuracy - 0.9000\n",
      "epoch - 1000 train loss - 0.38 test loss - 0.40 Test accuracy - 0.9075\n",
      "epoch - 1100 train loss - 0.35 test loss - 0.37 Test accuracy - 0.9075\n",
      "epoch - 1200 train loss - 0.32 test loss - 0.35 Test accuracy - 0.9125\n",
      "epoch - 1300 train loss - 0.30 test loss - 0.32 Test accuracy - 0.9225\n",
      "epoch - 1400 train loss - 0.28 test loss - 0.30 Test accuracy - 0.9325\n",
      "epoch - 1500 train loss - 0.26 test loss - 0.28 Test accuracy - 0.9350\n",
      "epoch - 1600 train loss - 0.24 test loss - 0.27 Test accuracy - 0.9425\n",
      "epoch - 1700 train loss - 0.22 test loss - 0.25 Test accuracy - 0.9500\n",
      "epoch - 1800 train loss - 0.20 test loss - 0.24 Test accuracy - 0.9525\n",
      "epoch - 1900 train loss - 0.19 test loss - 0.22 Test accuracy - 0.9500\n",
      "epoch - 2000 train loss - 0.18 test loss - 0.21 Test accuracy - 0.9525\n"
     ]
    }
   ],
   "source": [
    "result_5_sigmoid = train_and_evaluate_model(net, epochs=2000)"
   ]
  },
  {
   "cell_type": "markdown",
   "metadata": {},
   "source": [
    "#### Taken 5 hidden layers and sigmoid activation function with 0.2 dropout"
   ]
  },
  {
   "cell_type": "code",
   "execution_count": 31,
   "metadata": {},
   "outputs": [
    {
     "data": {
      "text/plain": [
       "Net(\n",
       "  (fc1): Linear(in_features=20, out_features=5, bias=True)\n",
       "  (fc2): Linear(in_features=5, out_features=5, bias=True)\n",
       "  (fc3): Linear(in_features=5, out_features=4, bias=True)\n",
       "  (dropout1): Dropout(p=0.2, inplace=False)\n",
       "  (dropout2): Dropout(p=0.3, inplace=False)\n",
       ")"
      ]
     },
     "execution_count": 31,
     "metadata": {},
     "output_type": "execute_result"
    }
   ],
   "source": [
    "net = Net(hidden_size=5, activation_fn='sigmoid', apply_dropout=True)\n",
    "\n",
    "net"
   ]
  },
  {
   "cell_type": "markdown",
   "metadata": {},
   "source": [
    "#### Training and evaluating model"
   ]
  },
  {
   "cell_type": "code",
   "execution_count": 32,
   "metadata": {},
   "outputs": [
    {
     "name": "stdout",
     "output_type": "stream",
     "text": [
      "epoch - 100 train loss - 1.39 test loss - 1.39 Test accuracy - 0.2550\n",
      "epoch - 200 train loss - 1.38 test loss - 1.38 Test accuracy - 0.3825\n",
      "epoch - 300 train loss - 1.36 test loss - 1.36 Test accuracy - 0.4275\n",
      "epoch - 400 train loss - 1.31 test loss - 1.30 Test accuracy - 0.4725\n",
      "epoch - 500 train loss - 1.22 test loss - 1.20 Test accuracy - 0.5300\n",
      "epoch - 600 train loss - 1.12 test loss - 1.07 Test accuracy - 0.5850\n",
      "epoch - 700 train loss - 1.05 test loss - 0.97 Test accuracy - 0.6700\n",
      "epoch - 800 train loss - 1.00 test loss - 0.90 Test accuracy - 0.7000\n",
      "epoch - 900 train loss - 0.95 test loss - 0.84 Test accuracy - 0.7200\n",
      "epoch - 1000 train loss - 0.92 test loss - 0.80 Test accuracy - 0.7350\n",
      "epoch - 1100 train loss - 0.88 test loss - 0.77 Test accuracy - 0.7650\n",
      "epoch - 1200 train loss - 0.85 test loss - 0.74 Test accuracy - 0.7900\n",
      "epoch - 1300 train loss - 0.84 test loss - 0.72 Test accuracy - 0.7975\n",
      "epoch - 1400 train loss - 0.83 test loss - 0.70 Test accuracy - 0.7975\n",
      "epoch - 1500 train loss - 0.80 test loss - 0.68 Test accuracy - 0.8075\n",
      "epoch - 1600 train loss - 0.79 test loss - 0.67 Test accuracy - 0.8150\n",
      "epoch - 1700 train loss - 0.79 test loss - 0.65 Test accuracy - 0.8325\n",
      "epoch - 1800 train loss - 0.77 test loss - 0.64 Test accuracy - 0.8325\n",
      "epoch - 1900 train loss - 0.75 test loss - 0.63 Test accuracy - 0.8375\n",
      "epoch - 2000 train loss - 0.76 test loss - 0.61 Test accuracy - 0.8375\n",
      "epoch - 2100 train loss - 0.73 test loss - 0.60 Test accuracy - 0.8400\n",
      "epoch - 2200 train loss - 0.73 test loss - 0.59 Test accuracy - 0.8450\n",
      "epoch - 2300 train loss - 0.74 test loss - 0.58 Test accuracy - 0.8525\n",
      "epoch - 2400 train loss - 0.70 test loss - 0.57 Test accuracy - 0.8550\n",
      "epoch - 2500 train loss - 0.72 test loss - 0.56 Test accuracy - 0.8550\n",
      "epoch - 2600 train loss - 0.72 test loss - 0.55 Test accuracy - 0.8575\n",
      "epoch - 2700 train loss - 0.70 test loss - 0.54 Test accuracy - 0.8550\n",
      "epoch - 2800 train loss - 0.70 test loss - 0.53 Test accuracy - 0.8650\n",
      "epoch - 2900 train loss - 0.68 test loss - 0.52 Test accuracy - 0.8675\n",
      "epoch - 3000 train loss - 0.70 test loss - 0.51 Test accuracy - 0.8725\n"
     ]
    }
   ],
   "source": [
    "result_5_sigmoid_dropout = train_and_evaluate_model(net, epochs=3000)"
   ]
  },
  {
   "cell_type": "markdown",
   "metadata": {},
   "source": [
    "#### Taken 5 hidden layers and tanh activation function with no dropout"
   ]
  },
  {
   "cell_type": "code",
   "execution_count": 33,
   "metadata": {},
   "outputs": [
    {
     "data": {
      "text/plain": [
       "Net(\n",
       "  (fc1): Linear(in_features=20, out_features=10, bias=True)\n",
       "  (fc2): Linear(in_features=10, out_features=10, bias=True)\n",
       "  (fc3): Linear(in_features=10, out_features=4, bias=True)\n",
       ")"
      ]
     },
     "execution_count": 33,
     "metadata": {},
     "output_type": "execute_result"
    }
   ],
   "source": [
    "net = Net(hidden_size=10, activation_fn='tanh')\n",
    "\n",
    "net"
   ]
  },
  {
   "cell_type": "markdown",
   "metadata": {},
   "source": [
    "#### Training and evaluating model"
   ]
  },
  {
   "cell_type": "code",
   "execution_count": 34,
   "metadata": {},
   "outputs": [
    {
     "name": "stdout",
     "output_type": "stream",
     "text": [
      "epoch - 100 train loss - 1.07 test loss - 1.09 Test accuracy - 0.6075\n",
      "epoch - 200 train loss - 0.65 test loss - 0.66 Test accuracy - 0.8725\n",
      "epoch - 300 train loss - 0.43 test loss - 0.45 Test accuracy - 0.9250\n",
      "epoch - 400 train loss - 0.31 test loss - 0.33 Test accuracy - 0.9450\n",
      "epoch - 500 train loss - 0.23 test loss - 0.25 Test accuracy - 0.9650\n",
      "epoch - 600 train loss - 0.17 test loss - 0.20 Test accuracy - 0.9625\n",
      "epoch - 700 train loss - 0.13 test loss - 0.17 Test accuracy - 0.9575\n",
      "epoch - 800 train loss - 0.11 test loss - 0.16 Test accuracy - 0.9550\n",
      "epoch - 900 train loss - 0.09 test loss - 0.15 Test accuracy - 0.9400\n",
      "epoch - 1000 train loss - 0.07 test loss - 0.15 Test accuracy - 0.9475\n"
     ]
    }
   ],
   "source": [
    "result_10_tanh = train_and_evaluate_model(net)"
   ]
  },
  {
   "cell_type": "markdown",
   "metadata": {},
   "source": [
    "#### Taken 50 hidden layers and tanh activation function with no dropout"
   ]
  },
  {
   "cell_type": "code",
   "execution_count": 35,
   "metadata": {},
   "outputs": [
    {
     "data": {
      "text/plain": [
       "Net(\n",
       "  (fc1): Linear(in_features=20, out_features=10, bias=True)\n",
       "  (fc2): Linear(in_features=10, out_features=10, bias=True)\n",
       "  (fc3): Linear(in_features=10, out_features=4, bias=True)\n",
       "  (dropout1): Dropout(p=0.2, inplace=False)\n",
       "  (dropout2): Dropout(p=0.3, inplace=False)\n",
       ")"
      ]
     },
     "execution_count": 35,
     "metadata": {},
     "output_type": "execute_result"
    }
   ],
   "source": [
    "net = Net(hidden_size=10, activation_fn='tanh', apply_dropout=True)\n",
    "\n",
    "net"
   ]
  },
  {
   "cell_type": "markdown",
   "metadata": {},
   "source": [
    "#### Training and evaluating model"
   ]
  },
  {
   "cell_type": "code",
   "execution_count": 36,
   "metadata": {},
   "outputs": [
    {
     "name": "stdout",
     "output_type": "stream",
     "text": [
      "epoch - 100 train loss - 1.15 test loss - 1.14 Test accuracy - 0.5800\n",
      "epoch - 200 train loss - 0.75 test loss - 0.72 Test accuracy - 0.8400\n",
      "epoch - 300 train loss - 0.55 test loss - 0.49 Test accuracy - 0.8950\n",
      "epoch - 400 train loss - 0.43 test loss - 0.37 Test accuracy - 0.9125\n",
      "epoch - 500 train loss - 0.38 test loss - 0.30 Test accuracy - 0.9225\n",
      "epoch - 600 train loss - 0.33 test loss - 0.24 Test accuracy - 0.9350\n",
      "epoch - 700 train loss - 0.28 test loss - 0.20 Test accuracy - 0.9475\n",
      "epoch - 800 train loss - 0.24 test loss - 0.17 Test accuracy - 0.9600\n",
      "epoch - 900 train loss - 0.22 test loss - 0.15 Test accuracy - 0.9650\n",
      "epoch - 1000 train loss - 0.20 test loss - 0.14 Test accuracy - 0.9575\n"
     ]
    }
   ],
   "source": [
    "result_50_tanh = train_and_evaluate_model(net)"
   ]
  },
  {
   "cell_type": "markdown",
   "metadata": {},
   "source": [
    "#### Taken 50 hidden layers and relu activation function with no dropout"
   ]
  },
  {
   "cell_type": "code",
   "execution_count": 37,
   "metadata": {},
   "outputs": [
    {
     "data": {
      "text/plain": [
       "Net(\n",
       "  (fc1): Linear(in_features=20, out_features=50, bias=True)\n",
       "  (fc2): Linear(in_features=50, out_features=50, bias=True)\n",
       "  (fc3): Linear(in_features=50, out_features=4, bias=True)\n",
       ")"
      ]
     },
     "execution_count": 37,
     "metadata": {},
     "output_type": "execute_result"
    }
   ],
   "source": [
    "net = Net(hidden_size=50, activation_fn='relu')\n",
    "\n",
    "net"
   ]
  },
  {
   "cell_type": "code",
   "execution_count": 38,
   "metadata": {},
   "outputs": [
    {
     "name": "stdout",
     "output_type": "stream",
     "text": [
      "epoch - 100 train loss - 0.38 test loss - 0.41 Test accuracy - 0.8700\n",
      "epoch - 200 train loss - 0.11 test loss - 0.19 Test accuracy - 0.9300\n",
      "epoch - 300 train loss - 0.05 test loss - 0.17 Test accuracy - 0.9375\n",
      "epoch - 400 train loss - 0.02 test loss - 0.19 Test accuracy - 0.9350\n",
      "epoch - 500 train loss - 0.01 test loss - 0.21 Test accuracy - 0.9225\n",
      "epoch - 600 train loss - 0.01 test loss - 0.23 Test accuracy - 0.9125\n",
      "epoch - 700 train loss - 0.00 test loss - 0.25 Test accuracy - 0.9075\n",
      "epoch - 800 train loss - 0.00 test loss - 0.26 Test accuracy - 0.9075\n",
      "epoch - 900 train loss - 0.00 test loss - 0.28 Test accuracy - 0.9100\n",
      "epoch - 1000 train loss - 0.00 test loss - 0.29 Test accuracy - 0.9075\n"
     ]
    }
   ],
   "source": [
    "result_50_relu = train_and_evaluate_model(net)"
   ]
  },
  {
   "cell_type": "code",
   "execution_count": 39,
   "metadata": {},
   "outputs": [
    {
     "data": {
      "text/plain": [
       "Net(\n",
       "  (fc1): Linear(in_features=20, out_features=50, bias=True)\n",
       "  (fc2): Linear(in_features=50, out_features=50, bias=True)\n",
       "  (fc3): Linear(in_features=50, out_features=4, bias=True)\n",
       "  (dropout1): Dropout(p=0.2, inplace=False)\n",
       "  (dropout2): Dropout(p=0.3, inplace=False)\n",
       ")"
      ]
     },
     "execution_count": 39,
     "metadata": {},
     "output_type": "execute_result"
    }
   ],
   "source": [
    "net = Net(hidden_size=50, activation_fn='relu', apply_dropout=True)\n",
    "\n",
    "net"
   ]
  },
  {
   "cell_type": "code",
   "execution_count": 40,
   "metadata": {},
   "outputs": [
    {
     "name": "stdout",
     "output_type": "stream",
     "text": [
      "epoch - 100 train loss - 0.56 test loss - 0.49 Test accuracy - 0.8625\n",
      "epoch - 200 train loss - 0.28 test loss - 0.22 Test accuracy - 0.9250\n",
      "epoch - 300 train loss - 0.17 test loss - 0.17 Test accuracy - 0.9350\n",
      "epoch - 400 train loss - 0.13 test loss - 0.15 Test accuracy - 0.9500\n",
      "epoch - 500 train loss - 0.10 test loss - 0.14 Test accuracy - 0.9550\n",
      "epoch - 600 train loss - 0.08 test loss - 0.13 Test accuracy - 0.9450\n",
      "epoch - 700 train loss - 0.07 test loss - 0.13 Test accuracy - 0.9475\n",
      "epoch - 800 train loss - 0.06 test loss - 0.14 Test accuracy - 0.9500\n",
      "epoch - 900 train loss - 0.05 test loss - 0.13 Test accuracy - 0.9550\n",
      "epoch - 1000 train loss - 0.05 test loss - 0.13 Test accuracy - 0.9550\n"
     ]
    }
   ],
   "source": [
    "result_50_relu = train_and_evaluate_model(net)"
   ]
  },
  {
   "cell_type": "markdown",
   "metadata": {},
   "source": [
    "### creating dataframe for train loss and test loss with accuracy for each epoch"
   ]
  },
  {
   "cell_type": "code",
   "execution_count": 41,
   "metadata": {},
   "outputs": [],
   "source": [
    "epochs_data = pd.DataFrame(result_50_relu['epoch_data'], \n",
    "                           columns=[\"epoch\", \"train_loss\", \"test_loss\", \"accuracy\"])"
   ]
  },
  {
   "cell_type": "code",
   "execution_count": 42,
   "metadata": {},
   "outputs": [
    {
     "data": {
      "text/html": [
       "<div>\n",
       "<style scoped>\n",
       "    .dataframe tbody tr th:only-of-type {\n",
       "        vertical-align: middle;\n",
       "    }\n",
       "\n",
       "    .dataframe tbody tr th {\n",
       "        vertical-align: top;\n",
       "    }\n",
       "\n",
       "    .dataframe thead th {\n",
       "        text-align: right;\n",
       "    }\n",
       "</style>\n",
       "<table border=\"1\" class=\"dataframe\">\n",
       "  <thead>\n",
       "    <tr style=\"text-align: right;\">\n",
       "      <th></th>\n",
       "      <th>epoch</th>\n",
       "      <th>train_loss</th>\n",
       "      <th>test_loss</th>\n",
       "      <th>accuracy</th>\n",
       "    </tr>\n",
       "  </thead>\n",
       "  <tbody>\n",
       "    <tr>\n",
       "      <td>0</td>\n",
       "      <td>1</td>\n",
       "      <td>1.396885</td>\n",
       "      <td>1.388978</td>\n",
       "      <td>0.2350</td>\n",
       "    </tr>\n",
       "    <tr>\n",
       "      <td>1</td>\n",
       "      <td>2</td>\n",
       "      <td>1.391958</td>\n",
       "      <td>1.385585</td>\n",
       "      <td>0.2350</td>\n",
       "    </tr>\n",
       "    <tr>\n",
       "      <td>2</td>\n",
       "      <td>3</td>\n",
       "      <td>1.386230</td>\n",
       "      <td>1.382259</td>\n",
       "      <td>0.2300</td>\n",
       "    </tr>\n",
       "    <tr>\n",
       "      <td>3</td>\n",
       "      <td>4</td>\n",
       "      <td>1.385254</td>\n",
       "      <td>1.379062</td>\n",
       "      <td>0.2450</td>\n",
       "    </tr>\n",
       "    <tr>\n",
       "      <td>4</td>\n",
       "      <td>5</td>\n",
       "      <td>1.376409</td>\n",
       "      <td>1.375992</td>\n",
       "      <td>0.2525</td>\n",
       "    </tr>\n",
       "    <tr>\n",
       "      <td>5</td>\n",
       "      <td>6</td>\n",
       "      <td>1.381353</td>\n",
       "      <td>1.372970</td>\n",
       "      <td>0.2700</td>\n",
       "    </tr>\n",
       "    <tr>\n",
       "      <td>6</td>\n",
       "      <td>7</td>\n",
       "      <td>1.371382</td>\n",
       "      <td>1.369954</td>\n",
       "      <td>0.2925</td>\n",
       "    </tr>\n",
       "    <tr>\n",
       "      <td>7</td>\n",
       "      <td>8</td>\n",
       "      <td>1.369997</td>\n",
       "      <td>1.366832</td>\n",
       "      <td>0.3050</td>\n",
       "    </tr>\n",
       "    <tr>\n",
       "      <td>8</td>\n",
       "      <td>9</td>\n",
       "      <td>1.369576</td>\n",
       "      <td>1.363635</td>\n",
       "      <td>0.3125</td>\n",
       "    </tr>\n",
       "    <tr>\n",
       "      <td>9</td>\n",
       "      <td>10</td>\n",
       "      <td>1.361663</td>\n",
       "      <td>1.360400</td>\n",
       "      <td>0.3225</td>\n",
       "    </tr>\n",
       "  </tbody>\n",
       "</table>\n",
       "</div>"
      ],
      "text/plain": [
       "   epoch  train_loss  test_loss  accuracy\n",
       "0      1    1.396885   1.388978    0.2350\n",
       "1      2    1.391958   1.385585    0.2350\n",
       "2      3    1.386230   1.382259    0.2300\n",
       "3      4    1.385254   1.379062    0.2450\n",
       "4      5    1.376409   1.375992    0.2525\n",
       "5      6    1.381353   1.372970    0.2700\n",
       "6      7    1.371382   1.369954    0.2925\n",
       "7      8    1.369997   1.366832    0.3050\n",
       "8      9    1.369576   1.363635    0.3125\n",
       "9     10    1.361663   1.360400    0.3225"
      ]
     },
     "execution_count": 42,
     "metadata": {},
     "output_type": "execute_result"
    }
   ],
   "source": [
    "epochs_data.head(10)"
   ]
  },
  {
   "cell_type": "markdown",
   "metadata": {},
   "source": [
    "### Visualizing result"
   ]
  },
  {
   "cell_type": "markdown",
   "metadata": {},
   "source": [
    "#### In the first plot we are showing train and test loss and in the second plot accuracy along with epoch"
   ]
  },
  {
   "cell_type": "code",
   "execution_count": 43,
   "metadata": {},
   "outputs": [
    {
     "data": {
      "image/png": "[encoded data removed]",
      "text/plain": [
       "<Figure size 1152x576 with 2 Axes>"
      ]
     },
     "metadata": {
      "needs_background": "light"
     },
     "output_type": "display_data"
    }
   ],
   "source": [
    "f, (ax1, ax2) = plt.subplots(1, 2, figsize=(16, 8))\n",
    "\n",
    "epochs_data[[\"train_loss\", \"test_loss\"]].plot(ax=ax1)\n",
    "epochs_data[[\"accuracy\"]].plot(ax=ax2)\n",
    "\n",
    "plt.ylim(bottom = 0.5)\n",
    "\n",
    "plt.show()"
   ]
  },
  {
   "cell_type": "markdown",
   "metadata": {},
   "source": [
    "### Showing actual and predicted result and calculating confusion matrix"
   ]
  },
  {
   "cell_type": "code",
   "execution_count": 44,
   "metadata": {},
   "outputs": [],
   "source": [
    "_, pred = result_50_relu['_, pred'] "
   ]
  },
  {
   "cell_type": "code",
   "execution_count": 45,
   "metadata": {},
   "outputs": [],
   "source": [
    "y_pred = pred.detach().numpy()"
   ]
  },
  {
   "cell_type": "code",
   "execution_count": 46,
   "metadata": {},
   "outputs": [],
   "source": [
    "y_test = result_50_relu['actual_test_label'].detach().numpy()"
   ]
  },
  {
   "cell_type": "code",
   "execution_count": 47,
   "metadata": {},
   "outputs": [],
   "source": [
    "pred_results = pd.DataFrame({'y_test': y_test,\n",
    "                             'y_pred': y_pred})"
   ]
  },
  {
   "cell_type": "code",
   "execution_count": 48,
   "metadata": {},
   "outputs": [
    {
     "data": {
      "text/html": [
       "<div>\n",
       "<style scoped>\n",
       "    .dataframe tbody tr th:only-of-type {\n",
       "        vertical-align: middle;\n",
       "    }\n",
       "\n",
       "    .dataframe tbody tr th {\n",
       "        vertical-align: top;\n",
       "    }\n",
       "\n",
       "    .dataframe thead th {\n",
       "        text-align: right;\n",
       "    }\n",
       "</style>\n",
       "<table border=\"1\" class=\"dataframe\">\n",
       "  <thead>\n",
       "    <tr style=\"text-align: right;\">\n",
       "      <th></th>\n",
       "      <th>y_test</th>\n",
       "      <th>y_pred</th>\n",
       "    </tr>\n",
       "  </thead>\n",
       "  <tbody>\n",
       "    <tr>\n",
       "      <td>0</td>\n",
       "      <td>3</td>\n",
       "      <td>3</td>\n",
       "    </tr>\n",
       "    <tr>\n",
       "      <td>1</td>\n",
       "      <td>3</td>\n",
       "      <td>3</td>\n",
       "    </tr>\n",
       "    <tr>\n",
       "      <td>2</td>\n",
       "      <td>2</td>\n",
       "      <td>2</td>\n",
       "    </tr>\n",
       "    <tr>\n",
       "      <td>3</td>\n",
       "      <td>3</td>\n",
       "      <td>3</td>\n",
       "    </tr>\n",
       "    <tr>\n",
       "      <td>4</td>\n",
       "      <td>1</td>\n",
       "      <td>1</td>\n",
       "    </tr>\n",
       "    <tr>\n",
       "      <td>5</td>\n",
       "      <td>3</td>\n",
       "      <td>3</td>\n",
       "    </tr>\n",
       "    <tr>\n",
       "      <td>6</td>\n",
       "      <td>3</td>\n",
       "      <td>3</td>\n",
       "    </tr>\n",
       "    <tr>\n",
       "      <td>7</td>\n",
       "      <td>3</td>\n",
       "      <td>3</td>\n",
       "    </tr>\n",
       "    <tr>\n",
       "      <td>8</td>\n",
       "      <td>1</td>\n",
       "      <td>1</td>\n",
       "    </tr>\n",
       "    <tr>\n",
       "      <td>9</td>\n",
       "      <td>3</td>\n",
       "      <td>3</td>\n",
       "    </tr>\n",
       "  </tbody>\n",
       "</table>\n",
       "</div>"
      ],
      "text/plain": [
       "   y_test  y_pred\n",
       "0       3       3\n",
       "1       3       3\n",
       "2       2       2\n",
       "3       3       3\n",
       "4       1       1\n",
       "5       3       3\n",
       "6       3       3\n",
       "7       3       3\n",
       "8       1       1\n",
       "9       3       3"
      ]
     },
     "execution_count": 48,
     "metadata": {},
     "output_type": "execute_result"
    }
   ],
   "source": [
    "pred_results.head(10)"
   ]
  },
  {
   "cell_type": "code",
   "execution_count": 49,
   "metadata": {},
   "outputs": [],
   "source": [
    "matrix = confusion_matrix(y_test, y_pred)"
   ]
  },
  {
   "cell_type": "code",
   "execution_count": 50,
   "metadata": {},
   "outputs": [
    {
     "data": {
      "text/plain": [
       "array([[ 88,   4,   0,   0],\n",
       "       [  3,  93,   1,   0],\n",
       "       [  0,   4, 102,   3],\n",
       "       [  0,   0,   3,  99]])"
      ]
     },
     "execution_count": 50,
     "metadata": {},
     "output_type": "execute_result"
    }
   ],
   "source": [
    "matrix"
   ]
  },
  {
   "cell_type": "code",
   "execution_count": 51,
   "metadata": {},
   "outputs": [
    {
     "data": {
      "image/png": "[encoded data removed]",
      "text/plain": [
       "<Figure size 288x288 with 2 Axes>"
      ]
     },
     "metadata": {
      "needs_background": "light"
     },
     "output_type": "display_data"
    }
   ],
   "source": [
    "plt.matshow(matrix)\n",
    "\n",
    "plt.colorbar()\n",
    "plt.show()"
   ]
  },
  {
   "cell_type": "markdown",
   "metadata": {},
   "source": [
    "### Calculating precision and recall score"
   ]
  },
  {
   "cell_type": "code",
   "execution_count": 52,
   "metadata": {},
   "outputs": [
    {
     "data": {
      "text/plain": [
       "0.955"
      ]
     },
     "execution_count": 52,
     "metadata": {},
     "output_type": "execute_result"
    }
   ],
   "source": [
    "recall_score(y_test, y_pred, average = 'weighted')"
   ]
  },
  {
   "cell_type": "code",
   "execution_count": 53,
   "metadata": {},
   "outputs": [
    {
     "data": {
      "text/plain": [
       "0.9554266427575787"
      ]
     },
     "execution_count": 53,
     "metadata": {},
     "output_type": "execute_result"
    }
   ],
   "source": [
    "precision_score(y_test, y_pred, average = 'weighted')"
   ]
  },
  {
   "cell_type": "code",
   "execution_count": null,
   "metadata": {},
   "outputs": [],
   "source": []
  },
  {
   "cell_type": "code",
   "execution_count": null,
   "metadata": {},
   "outputs": [],
   "source": []
  },
  {
   "cell_type": "code",
   "execution_count": null,
   "metadata": {},
   "outputs": [],
   "source": []
  },
  {
   "cell_type": "code",
   "execution_count": null,
   "metadata": {},
   "outputs": [],
   "source": []
  },
  {
   "cell_type": "code",
   "execution_count": null,
   "metadata": {},
   "outputs": [],
   "source": []
  },
  {
   "cell_type": "code",
   "execution_count": null,
   "metadata": {},
   "outputs": [],
   "source": []
  },
  {
   "cell_type": "code",
   "execution_count": null,
   "metadata": {},
   "outputs": [],
   "source": []
  },
  {
   "cell_type": "code",
   "execution_count": null,
   "metadata": {},
   "outputs": [],
   "source": []
  },
  {
   "cell_type": "code",
   "execution_count": null,
   "metadata": {},
   "outputs": [],
   "source": []
  },
  {
   "cell_type": "code",
   "execution_count": null,
   "metadata": {},
   "outputs": [],
   "source": []
  },
  {
   "cell_type": "code",
   "execution_count": null,
   "metadata": {},
   "outputs": [],
   "source": []
  },
  {
   "cell_type": "code",
   "execution_count": null,
   "metadata": {},
   "outputs": [],
   "source": []
  },
  {
   "cell_type": "code",
   "execution_count": null,
   "metadata": {},
   "outputs": [],
   "source": []
  },
  {
   "cell_type": "code",
   "execution_count": null,
   "metadata": {},
   "outputs": [],
   "source": []
  },
  {
   "cell_type": "code",
   "execution_count": null,
   "metadata": {},
   "outputs": [],
   "source": []
  },
  {
   "cell_type": "code",
   "execution_count": null,
   "metadata": {},
   "outputs": [],
   "source": []
  },
  {
   "cell_type": "code",
   "execution_count": null,
   "metadata": {},
   "outputs": [],
   "source": []
  },
  {
   "cell_type": "code",
   "execution_count": null,
   "metadata": {},
   "outputs": [],
   "source": []
  },
  {
   "cell_type": "code",
   "execution_count": null,
   "metadata": {},
   "outputs": [],
   "source": []
  },
  {
   "cell_type": "code",
   "execution_count": null,
   "metadata": {},
   "outputs": [],
   "source": []
  },
  {
   "cell_type": "code",
   "execution_count": null,
   "metadata": {},
   "outputs": [],
   "source": []
  },
  {
   "cell_type": "code",
   "execution_count": null,
   "metadata": {},
   "outputs": [],
   "source": []
  },
  {
   "cell_type": "code",
   "execution_count": null,
   "metadata": {},
   "outputs": [],
   "source": []
  }
 ],
 "metadata": {
  "kernelspec": {
   "display_name": "Python 3",
   "language": "python",
   "name": "python3"
  },
  "language_info": {
   "codemirror_mode": {
    "name": "ipython",
    "version": 3
   },
   "file_extension": ".py",
   "mimetype": "text/x-python",
   "name": "python",
   "nbconvert_exporter": "python",
   "pygments_lexer": "ipython3",
   "version": "3.7.4"
  }
 },
 "nbformat": 4,
 "nbformat_minor": 2
}
